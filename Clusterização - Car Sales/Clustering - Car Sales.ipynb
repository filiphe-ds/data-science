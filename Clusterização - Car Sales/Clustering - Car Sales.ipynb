{
 "cells": [
  {
   "cell_type": "markdown",
   "id": "4c973f1d",
   "metadata": {},
   "source": [
    "# Clusterização do DataFrame 'Car Sales'"
   ]
  },
  {
   "cell_type": "markdown",
   "id": "8bac26ab",
   "metadata": {},
   "source": [
    "### Sobre os dados"
   ]
  },
  {
   "cell_type": "markdown",
   "id": "0ea2418d",
   "metadata": {},
   "source": [
    "O DataFrame Car Sales está no formato .csv e contém informações técnicas sobre veículos de diversas marcas, assim como seu valor de mercado, valor de revenda, unidades vendidas, entre outros. Uma base de dados robusta e repleta de opções para utilizar algoritmos de clusterização."
   ]
  },
  {
   "cell_type": "markdown",
   "id": "28b62201",
   "metadata": {},
   "source": [
    "### Proposta"
   ]
  },
  {
   "cell_type": "markdown",
   "id": "1bdd0976",
   "metadata": {},
   "source": [
    "Minha proposta com este trabalho é efetuar a clusterização dos dados utilizando os métodos PCA (Principal Component Analysis) e  DSCAN (Density-Based Spatial Clustering of Applications with Noise).\n",
    "\n",
    "Dentre os meus objetivos neste estudo, destaco: \n",
    "\n",
    "- Utilizar bibliotecas voltadas para machine learning a fim de me familiarizar com algoritmos de clusterização\n",
    "- Efetivamente promover a clusterização da base de dados através dos algoritmos acima citados\n",
    "- Usar o resultado do agrupamento para extrair insights sobre a base de dados"
   ]
  },
  {
   "cell_type": "markdown",
   "id": "e4518b67",
   "metadata": {},
   "source": [
    "### Mãos à obra"
   ]
  },
  {
   "cell_type": "code",
   "execution_count": 1,
   "id": "16ee8edb",
   "metadata": {},
   "outputs": [],
   "source": [
    "#IMPORTAÇÃO DE PACOTES\n",
    "\n",
    "import pandas as pd\n",
    "import numpy as np\n",
    "import matplotlib.pyplot as plt\n",
    "import plotly.express as px\n",
    "from sklearn.preprocessing import StandardScaler\n",
    "from sklearn.cluster import KMeans\n",
    "from sklearn.decomposition import PCA\n",
    "from sklearn.impute import SimpleImputer\n",
    "from sklearn.cluster import DBSCAN"
   ]
  },
  {
   "cell_type": "markdown",
   "id": "3f3c9beb",
   "metadata": {},
   "source": [
    "### 1 - Preparação dos Dados"
   ]
  },
  {
   "cell_type": "markdown",
   "id": "f8c4e8e3",
   "metadata": {},
   "source": [
    "### Coleta do Dados"
   ]
  },
  {
   "cell_type": "code",
   "execution_count": 131,
   "id": "a47beb00",
   "metadata": {},
   "outputs": [],
   "source": [
    "#CARREGAMENTO DOS DADOS E DEFINIÇÃO DA VARIÁVEL CAR MODEL COMO INDEX\n",
    "\n",
    "data = pd.read_csv('S:\\_DataScience\\Car Sales - Kaggle\\Car_sales.csv', index_col = 1)\n",
    "data.index.name = None"
   ]
  },
  {
   "cell_type": "code",
   "execution_count": 132,
   "id": "f8d82e33",
   "metadata": {},
   "outputs": [
    {
     "data": {
      "text/html": [
       "<div>\n",
       "<style scoped>\n",
       "    .dataframe tbody tr th:only-of-type {\n",
       "        vertical-align: middle;\n",
       "    }\n",
       "\n",
       "    .dataframe tbody tr th {\n",
       "        vertical-align: top;\n",
       "    }\n",
       "\n",
       "    .dataframe thead th {\n",
       "        text-align: right;\n",
       "    }\n",
       "</style>\n",
       "<table border=\"1\" class=\"dataframe\">\n",
       "  <thead>\n",
       "    <tr style=\"text-align: right;\">\n",
       "      <th></th>\n",
       "      <th>Manufacturer</th>\n",
       "      <th>Sales_in_thousands</th>\n",
       "      <th>__year_resale_value</th>\n",
       "      <th>Vehicle_type</th>\n",
       "      <th>Price_in_thousands</th>\n",
       "      <th>Engine_size</th>\n",
       "      <th>Horsepower</th>\n",
       "      <th>Wheelbase</th>\n",
       "      <th>Width</th>\n",
       "      <th>Length</th>\n",
       "      <th>Curb_weight</th>\n",
       "      <th>Fuel_capacity</th>\n",
       "      <th>Fuel_efficiency</th>\n",
       "      <th>Latest_Launch</th>\n",
       "      <th>Power_perf_factor</th>\n",
       "    </tr>\n",
       "  </thead>\n",
       "  <tbody>\n",
       "    <tr>\n",
       "      <th>Integra</th>\n",
       "      <td>Acura</td>\n",
       "      <td>16.919</td>\n",
       "      <td>16.36</td>\n",
       "      <td>Passenger</td>\n",
       "      <td>21.5</td>\n",
       "      <td>1.8</td>\n",
       "      <td>140.0</td>\n",
       "      <td>101.2</td>\n",
       "      <td>67.3</td>\n",
       "      <td>172.4</td>\n",
       "      <td>2.639</td>\n",
       "      <td>13.2</td>\n",
       "      <td>28.0</td>\n",
       "      <td>2/2/2012</td>\n",
       "      <td>58.28015</td>\n",
       "    </tr>\n",
       "  </tbody>\n",
       "</table>\n",
       "</div>"
      ],
      "text/plain": [
       "        Manufacturer  Sales_in_thousands  __year_resale_value Vehicle_type  \\\n",
       "Integra        Acura              16.919                16.36    Passenger   \n",
       "\n",
       "         Price_in_thousands  Engine_size  Horsepower  Wheelbase  Width  \\\n",
       "Integra                21.5          1.8       140.0      101.2   67.3   \n",
       "\n",
       "         Length  Curb_weight  Fuel_capacity  Fuel_efficiency Latest_Launch  \\\n",
       "Integra   172.4        2.639           13.2             28.0      2/2/2012   \n",
       "\n",
       "         Power_perf_factor  \n",
       "Integra           58.28015  "
      ]
     },
     "execution_count": 132,
     "metadata": {},
     "output_type": "execute_result"
    }
   ],
   "source": [
    "# VERIFICAÇÃO DAS VARIÁVEIS DA BASE DE DADOS\n",
    "data.head(1)"
   ]
  },
  {
   "cell_type": "code",
   "execution_count": 133,
   "id": "370fe3ac",
   "metadata": {},
   "outputs": [
    {
     "data": {
      "text/plain": [
       "Index(['Manufacturer', 'Sales_in_thousands', '__year_resale_value',\n",
       "       'Vehicle_type', 'Price_in_thousands', 'Engine_size', 'Horsepower',\n",
       "       'Wheelbase', 'Width', 'Length', 'Curb_weight', 'Fuel_capacity',\n",
       "       'Fuel_efficiency', 'Latest_Launch', 'Power_perf_factor'],\n",
       "      dtype='object')"
      ]
     },
     "execution_count": 133,
     "metadata": {},
     "output_type": "execute_result"
    }
   ],
   "source": [
    "# IMPRESSÃO DO NOME DAS COLUNAS DA BASE DE DADOS\n",
    "data.columns"
   ]
  },
  {
   "cell_type": "code",
   "execution_count": 134,
   "id": "1e684619",
   "metadata": {
    "scrolled": false
   },
   "outputs": [
    {
     "name": "stdout",
     "output_type": "stream",
     "text": [
      "<class 'pandas.core.frame.DataFrame'>\n",
      "Index: 157 entries, Integra to S80\n",
      "Data columns (total 15 columns):\n",
      " #   Column               Non-Null Count  Dtype  \n",
      "---  ------               --------------  -----  \n",
      " 0   Manufacturer         157 non-null    object \n",
      " 1   Sales_in_thousands   157 non-null    float64\n",
      " 2   __year_resale_value  121 non-null    float64\n",
      " 3   Vehicle_type         157 non-null    object \n",
      " 4   Price_in_thousands   155 non-null    float64\n",
      " 5   Engine_size          156 non-null    float64\n",
      " 6   Horsepower           156 non-null    float64\n",
      " 7   Wheelbase            156 non-null    float64\n",
      " 8   Width                156 non-null    float64\n",
      " 9   Length               156 non-null    float64\n",
      " 10  Curb_weight          155 non-null    float64\n",
      " 11  Fuel_capacity        156 non-null    float64\n",
      " 12  Fuel_efficiency      154 non-null    float64\n",
      " 13  Latest_Launch        157 non-null    object \n",
      " 14  Power_perf_factor    155 non-null    float64\n",
      "dtypes: float64(12), object(3)\n",
      "memory usage: 19.6+ KB\n"
     ]
    }
   ],
   "source": [
    "# VERIFICANDO SE TODOS OS VALORES ESTÃO COMPLETOS OU TENHO VALORES NULOS\n",
    "data.info()"
   ]
  },
  {
   "cell_type": "code",
   "execution_count": 135,
   "id": "c08d7c3f",
   "metadata": {},
   "outputs": [
    {
     "name": "stdout",
     "output_type": "stream",
     "text": [
      "Passenger\n",
      "Car\n"
     ]
    }
   ],
   "source": [
    "# VERIFICANDO A RELEVÂNCIA DA VARIÁVEL VEHICLE TYPE\n",
    "unique_type = data['Vehicle_type'].unique()\n",
    "\n",
    "for i in unique_type:\n",
    "    print(i)"
   ]
  },
  {
   "cell_type": "markdown",
   "id": "e589bd0a",
   "metadata": {},
   "source": [
    "Por se tratar de uma variável qualitativa com apenas dois valores irrelevantes, Vehicle Type não fará nenhuma diferença no estudo"
   ]
  },
  {
   "cell_type": "markdown",
   "id": "cbef89b9",
   "metadata": {},
   "source": [
    "### Limpeza dos Dados"
   ]
  },
  {
   "cell_type": "code",
   "execution_count": 136,
   "id": "9ad8eb77",
   "metadata": {},
   "outputs": [],
   "source": [
    "# PREENCHENDO AS OBSERVAÇÕES NULAS COM A MÉDIA DAS VARIÁVEIS PARA PODER APLICAR MODELO DE CLUSTERIZAÇÃO\n",
    "columns_to_fill = ['__year_resale_value', 'Price_in_thousands', 'Engine_size', 'Horsepower', 'Wheelbase', 'Width', 'Length', 'Fuel_capacity', 'Fuel_efficiency', 'Power_perf_factor']\n",
    "\n",
    "imputer = SimpleImputer(strategy='mean')\n",
    "\n",
    "for column in columns_to_fill:\n",
    "    data[column] = imputer.fit_transform(data[[column]])"
   ]
  },
  {
   "cell_type": "code",
   "execution_count": 137,
   "id": "4eae72ad",
   "metadata": {
    "scrolled": false
   },
   "outputs": [
    {
     "name": "stdout",
     "output_type": "stream",
     "text": [
      "<class 'pandas.core.frame.DataFrame'>\n",
      "Index: 157 entries, Integra to S80\n",
      "Data columns (total 15 columns):\n",
      " #   Column               Non-Null Count  Dtype  \n",
      "---  ------               --------------  -----  \n",
      " 0   Manufacturer         157 non-null    object \n",
      " 1   Sales_in_thousands   157 non-null    float64\n",
      " 2   __year_resale_value  157 non-null    float64\n",
      " 3   Vehicle_type         157 non-null    object \n",
      " 4   Price_in_thousands   157 non-null    float64\n",
      " 5   Engine_size          157 non-null    float64\n",
      " 6   Horsepower           157 non-null    float64\n",
      " 7   Wheelbase            157 non-null    float64\n",
      " 8   Width                157 non-null    float64\n",
      " 9   Length               157 non-null    float64\n",
      " 10  Curb_weight          155 non-null    float64\n",
      " 11  Fuel_capacity        157 non-null    float64\n",
      " 12  Fuel_efficiency      157 non-null    float64\n",
      " 13  Latest_Launch        157 non-null    object \n",
      " 14  Power_perf_factor    157 non-null    float64\n",
      "dtypes: float64(12), object(3)\n",
      "memory usage: 19.6+ KB\n"
     ]
    }
   ],
   "source": [
    "data.info()"
   ]
  },
  {
   "cell_type": "code",
   "execution_count": 138,
   "id": "fbdd2666",
   "metadata": {},
   "outputs": [],
   "source": [
    "#ADICIONANDO A MÉDIA DO VALOR DAS OBSERVAÇÕES DA VARIÁVEL Curb_Weight PARA AS OBSERVAÇÕES NÃO NULAS, MAS SEM VALOR DECIMAL\n",
    "data['Curb_weight'].fillna(data['Curb_weight'].mean(), inplace=True)"
   ]
  },
  {
   "cell_type": "markdown",
   "id": "3b6f755b",
   "metadata": {},
   "source": [
    "Para esta análise, não irei trabalhar com nenhuma variável qualitativa pois não representam nenhuma grande diferença nos meus dados. O modelo de cada veículo será utilizado apenas como rótulo para as análises. A fabricante, assim como o tipo de veículo, que se resume nos tipos 'carro' e 'passageiro', não trazem nada significativo para este estudo de clusterização. "
   ]
  },
  {
   "cell_type": "markdown",
   "id": "7814f4e7",
   "metadata": {},
   "source": [
    "### Transformação dos Dados"
   ]
  },
  {
   "cell_type": "code",
   "execution_count": 139,
   "id": "5be1f651",
   "metadata": {},
   "outputs": [],
   "source": [
    "# CRIANDO UM NOVO DATASET COM AS VARIÁVEIS QUANTITATIVAS\n",
    "\n",
    "data_quanti = data.copy()\n",
    "data_quanti = data.iloc[:,[1,2,4,5,6,7,8,9,10,11,12,14]]"
   ]
  },
  {
   "cell_type": "code",
   "execution_count": 140,
   "id": "f89cd24f",
   "metadata": {
    "scrolled": true
   },
   "outputs": [
    {
     "data": {
      "text/html": [
       "<div>\n",
       "<style scoped>\n",
       "    .dataframe tbody tr th:only-of-type {\n",
       "        vertical-align: middle;\n",
       "    }\n",
       "\n",
       "    .dataframe tbody tr th {\n",
       "        vertical-align: top;\n",
       "    }\n",
       "\n",
       "    .dataframe thead th {\n",
       "        text-align: right;\n",
       "    }\n",
       "</style>\n",
       "<table border=\"1\" class=\"dataframe\">\n",
       "  <thead>\n",
       "    <tr style=\"text-align: right;\">\n",
       "      <th></th>\n",
       "      <th>Sales_in_thousands</th>\n",
       "      <th>__year_resale_value</th>\n",
       "      <th>Price_in_thousands</th>\n",
       "      <th>Engine_size</th>\n",
       "      <th>Horsepower</th>\n",
       "      <th>Wheelbase</th>\n",
       "      <th>Width</th>\n",
       "      <th>Length</th>\n",
       "      <th>Curb_weight</th>\n",
       "      <th>Fuel_capacity</th>\n",
       "      <th>Fuel_efficiency</th>\n",
       "      <th>Power_perf_factor</th>\n",
       "    </tr>\n",
       "  </thead>\n",
       "  <tbody>\n",
       "    <tr>\n",
       "      <th>Integra</th>\n",
       "      <td>16.919</td>\n",
       "      <td>16.360</td>\n",
       "      <td>21.500000</td>\n",
       "      <td>1.8</td>\n",
       "      <td>140.0</td>\n",
       "      <td>101.2</td>\n",
       "      <td>67.3</td>\n",
       "      <td>172.4</td>\n",
       "      <td>2.639</td>\n",
       "      <td>13.2</td>\n",
       "      <td>28.0</td>\n",
       "      <td>58.280150</td>\n",
       "    </tr>\n",
       "    <tr>\n",
       "      <th>TL</th>\n",
       "      <td>39.384</td>\n",
       "      <td>19.875</td>\n",
       "      <td>28.400000</td>\n",
       "      <td>3.2</td>\n",
       "      <td>225.0</td>\n",
       "      <td>108.1</td>\n",
       "      <td>70.3</td>\n",
       "      <td>192.9</td>\n",
       "      <td>3.517</td>\n",
       "      <td>17.2</td>\n",
       "      <td>25.0</td>\n",
       "      <td>91.370778</td>\n",
       "    </tr>\n",
       "    <tr>\n",
       "      <th>CL</th>\n",
       "      <td>14.114</td>\n",
       "      <td>18.225</td>\n",
       "      <td>27.390755</td>\n",
       "      <td>3.2</td>\n",
       "      <td>225.0</td>\n",
       "      <td>106.9</td>\n",
       "      <td>70.6</td>\n",
       "      <td>192.0</td>\n",
       "      <td>3.470</td>\n",
       "      <td>17.2</td>\n",
       "      <td>26.0</td>\n",
       "      <td>77.043591</td>\n",
       "    </tr>\n",
       "    <tr>\n",
       "      <th>RL</th>\n",
       "      <td>8.588</td>\n",
       "      <td>29.725</td>\n",
       "      <td>42.000000</td>\n",
       "      <td>3.5</td>\n",
       "      <td>210.0</td>\n",
       "      <td>114.6</td>\n",
       "      <td>71.4</td>\n",
       "      <td>196.6</td>\n",
       "      <td>3.850</td>\n",
       "      <td>18.0</td>\n",
       "      <td>22.0</td>\n",
       "      <td>91.389779</td>\n",
       "    </tr>\n",
       "    <tr>\n",
       "      <th>A4</th>\n",
       "      <td>20.397</td>\n",
       "      <td>22.255</td>\n",
       "      <td>23.990000</td>\n",
       "      <td>1.8</td>\n",
       "      <td>150.0</td>\n",
       "      <td>102.6</td>\n",
       "      <td>68.2</td>\n",
       "      <td>178.0</td>\n",
       "      <td>2.998</td>\n",
       "      <td>16.4</td>\n",
       "      <td>27.0</td>\n",
       "      <td>62.777639</td>\n",
       "    </tr>\n",
       "  </tbody>\n",
       "</table>\n",
       "</div>"
      ],
      "text/plain": [
       "         Sales_in_thousands  __year_resale_value  Price_in_thousands  \\\n",
       "Integra              16.919               16.360           21.500000   \n",
       "TL                   39.384               19.875           28.400000   \n",
       "CL                   14.114               18.225           27.390755   \n",
       "RL                    8.588               29.725           42.000000   \n",
       "A4                   20.397               22.255           23.990000   \n",
       "\n",
       "         Engine_size  Horsepower  Wheelbase  Width  Length  Curb_weight  \\\n",
       "Integra          1.8       140.0      101.2   67.3   172.4        2.639   \n",
       "TL               3.2       225.0      108.1   70.3   192.9        3.517   \n",
       "CL               3.2       225.0      106.9   70.6   192.0        3.470   \n",
       "RL               3.5       210.0      114.6   71.4   196.6        3.850   \n",
       "A4               1.8       150.0      102.6   68.2   178.0        2.998   \n",
       "\n",
       "         Fuel_capacity  Fuel_efficiency  Power_perf_factor  \n",
       "Integra           13.2             28.0          58.280150  \n",
       "TL                17.2             25.0          91.370778  \n",
       "CL                17.2             26.0          77.043591  \n",
       "RL                18.0             22.0          91.389779  \n",
       "A4                16.4             27.0          62.777639  "
      ]
     },
     "execution_count": 140,
     "metadata": {},
     "output_type": "execute_result"
    }
   ],
   "source": [
    "data_quanti.head()"
   ]
  },
  {
   "cell_type": "markdown",
   "id": "ee92dfe3",
   "metadata": {},
   "source": [
    "### Gráfico de Correlação"
   ]
  },
  {
   "cell_type": "code",
   "execution_count": 141,
   "id": "175aa0db",
   "metadata": {},
   "outputs": [
    {
     "data": {
      "application/vnd.plotly.v1+json": {
       "config": {
        "plotlyServerURL": "https://plot.ly"
       },
       "data": [
        {
         "coloraxis": "coloraxis",
         "hovertemplate": "x: %{x}<br>y: %{y}<br>color: %{z}<extra></extra>",
         "name": "0",
         "type": "heatmap",
         "x": [
          "Sales_in_thousands",
          "__year_resale_value",
          "Price_in_thousands",
          "Engine_size",
          "Horsepower",
          "Wheelbase",
          "Width",
          "Length",
          "Curb_weight",
          "Fuel_capacity",
          "Fuel_efficiency",
          "Power_perf_factor"
         ],
         "xaxis": "x",
         "y": [
          "Sales_in_thousands",
          "__year_resale_value",
          "Price_in_thousands",
          "Engine_size",
          "Horsepower",
          "Wheelbase",
          "Width",
          "Length",
          "Curb_weight",
          "Fuel_capacity",
          "Fuel_efficiency",
          "Power_perf_factor"
         ],
         "yaxis": "y",
         "z": [
          [
           1,
           -0.2664355015987471,
           -0.3044131349798335,
           0.019983192772739276,
           -0.19775621520811673,
           0.3581790435129778,
           0.14091829590970956,
           0.2549794969373628,
           0.008619784333430854,
           0.08653963157560289,
           -0.01674743732853074,
           -0.22301697094649753
          ],
          [
           -0.2664355015987471,
           1,
           0.8223948902191838,
           0.4687810977099568,
           0.6968880311827176,
           -0.04780264788289436,
           0.15958012487201262,
           0.02386714417955231,
           0.29712962404264665,
           0.27502589723704,
           -0.35813692382639095,
           0.7437831605226495
          ],
          [
           -0.3044131349798335,
           0.8223948902191838,
           1,
           0.6268386650789822,
           0.8384499277869085,
           0.11051112032214219,
           0.3291092258787028,
           0.15687403462701774,
           0.5237526514647436,
           0.4232302094443268,
           -0.49148885300911466,
           0.8979453074056738
          ],
          [
           0.019983192772739276,
           0.4687810977099568,
           0.6268386650789822,
           1,
           0.8373597720234492,
           0.4721304209469804,
           0.690397942540623,
           0.541424213498556,
           0.7546677716467246,
           0.66302184704432,
           -0.7339200335658415,
           0.8184805639929121
          ],
          [
           -0.19775621520811673,
           0.6968880311827176,
           0.8384499277869085,
           0.8373597720234492,
           1,
           0.2863080817443226,
           0.5391577376382382,
           0.3933635203202275,
           0.6052256466689409,
           0.4999069538183485,
           -0.6106476040090654,
           0.9914640417297381
          ],
          [
           0.3581790435129778,
           -0.04780264788289436,
           0.11051112032214219,
           0.4721304209469804,
           0.2863080817443226,
           1,
           0.6831345713969165,
           0.8396389591096456,
           0.6502112080229873,
           0.6540443785857558,
           -0.4970227869441524,
           0.2588466806141138
          ],
          [
           0.14091829590970956,
           0.15958012487201262,
           0.3291092258787028,
           0.690397942540623,
           0.5391577376382382,
           0.6831345713969165,
           1,
           0.7104348902288126,
           0.7180096103707604,
           0.6563017892303767,
           -0.5994650976930265,
           0.5119823541733581
          ],
          [
           0.2549794969373628,
           0.02386714417955231,
           0.15687403462701774,
           0.541424213498556,
           0.3933635203202275,
           0.8396389591096456,
           0.7104348902288126,
           1,
           0.6250547698302324,
           0.5635397257032118,
           -0.4439933684934209,
           0.3539563907864324
          ],
          [
           0.008619784333430854,
           0.29712962404264665,
           0.5237526514647436,
           0.7546677716467246,
           0.6052256466689409,
           0.6502112080229873,
           0.7180096103707604,
           0.6250547698302324,
           1,
           0.863912209386663,
           -0.8177844856736003,
           0.6073115061356914
          ],
          [
           0.08653963157560289,
           0.27502589723704,
           0.4232302094443268,
           0.66302184704432,
           0.4999069538183485,
           0.6540443785857558,
           0.6563017892303767,
           0.5635397257032118,
           0.863912209386663,
           1,
           -0.8013551985331705,
           0.501122727089475
          ],
          [
           -0.01674743732853074,
           -0.35813692382639095,
           -0.49148885300911466,
           -0.7339200335658415,
           -0.6106476040090654,
           -0.4970227869441524,
           -0.5994650976930265,
           -0.4439933684934209,
           -0.8177844856736003,
           -0.8013551985331705,
           1,
           -0.606663719641894
          ],
          [
           -0.22301697094649753,
           0.7437831605226495,
           0.8979453074056738,
           0.8184805639929121,
           0.9914640417297381,
           0.2588466806141138,
           0.5119823541733581,
           0.3539563907864324,
           0.6073115061356914,
           0.501122727089475,
           -0.606663719641894,
           1
          ]
         ]
        }
       ],
       "layout": {
        "coloraxis": {
         "colorscale": [
          [
           0,
           "#0d0887"
          ],
          [
           0.1111111111111111,
           "#46039f"
          ],
          [
           0.2222222222222222,
           "#7201a8"
          ],
          [
           0.3333333333333333,
           "#9c179e"
          ],
          [
           0.4444444444444444,
           "#bd3786"
          ],
          [
           0.5555555555555556,
           "#d8576b"
          ],
          [
           0.6666666666666666,
           "#ed7953"
          ],
          [
           0.7777777777777778,
           "#fb9f3a"
          ],
          [
           0.8888888888888888,
           "#fdca26"
          ],
          [
           1,
           "#f0f921"
          ]
         ]
        },
        "margin": {
         "t": 60
        },
        "template": {
         "data": {
          "bar": [
           {
            "error_x": {
             "color": "#2a3f5f"
            },
            "error_y": {
             "color": "#2a3f5f"
            },
            "marker": {
             "line": {
              "color": "#E5ECF6",
              "width": 0.5
             },
             "pattern": {
              "fillmode": "overlay",
              "size": 10,
              "solidity": 0.2
             }
            },
            "type": "bar"
           }
          ],
          "barpolar": [
           {
            "marker": {
             "line": {
              "color": "#E5ECF6",
              "width": 0.5
             },
             "pattern": {
              "fillmode": "overlay",
              "size": 10,
              "solidity": 0.2
             }
            },
            "type": "barpolar"
           }
          ],
          "carpet": [
           {
            "aaxis": {
             "endlinecolor": "#2a3f5f",
             "gridcolor": "white",
             "linecolor": "white",
             "minorgridcolor": "white",
             "startlinecolor": "#2a3f5f"
            },
            "baxis": {
             "endlinecolor": "#2a3f5f",
             "gridcolor": "white",
             "linecolor": "white",
             "minorgridcolor": "white",
             "startlinecolor": "#2a3f5f"
            },
            "type": "carpet"
           }
          ],
          "choropleth": [
           {
            "colorbar": {
             "outlinewidth": 0,
             "ticks": ""
            },
            "type": "choropleth"
           }
          ],
          "contour": [
           {
            "colorbar": {
             "outlinewidth": 0,
             "ticks": ""
            },
            "colorscale": [
             [
              0,
              "#0d0887"
             ],
             [
              0.1111111111111111,
              "#46039f"
             ],
             [
              0.2222222222222222,
              "#7201a8"
             ],
             [
              0.3333333333333333,
              "#9c179e"
             ],
             [
              0.4444444444444444,
              "#bd3786"
             ],
             [
              0.5555555555555556,
              "#d8576b"
             ],
             [
              0.6666666666666666,
              "#ed7953"
             ],
             [
              0.7777777777777778,
              "#fb9f3a"
             ],
             [
              0.8888888888888888,
              "#fdca26"
             ],
             [
              1,
              "#f0f921"
             ]
            ],
            "type": "contour"
           }
          ],
          "contourcarpet": [
           {
            "colorbar": {
             "outlinewidth": 0,
             "ticks": ""
            },
            "type": "contourcarpet"
           }
          ],
          "heatmap": [
           {
            "colorbar": {
             "outlinewidth": 0,
             "ticks": ""
            },
            "colorscale": [
             [
              0,
              "#0d0887"
             ],
             [
              0.1111111111111111,
              "#46039f"
             ],
             [
              0.2222222222222222,
              "#7201a8"
             ],
             [
              0.3333333333333333,
              "#9c179e"
             ],
             [
              0.4444444444444444,
              "#bd3786"
             ],
             [
              0.5555555555555556,
              "#d8576b"
             ],
             [
              0.6666666666666666,
              "#ed7953"
             ],
             [
              0.7777777777777778,
              "#fb9f3a"
             ],
             [
              0.8888888888888888,
              "#fdca26"
             ],
             [
              1,
              "#f0f921"
             ]
            ],
            "type": "heatmap"
           }
          ],
          "heatmapgl": [
           {
            "colorbar": {
             "outlinewidth": 0,
             "ticks": ""
            },
            "colorscale": [
             [
              0,
              "#0d0887"
             ],
             [
              0.1111111111111111,
              "#46039f"
             ],
             [
              0.2222222222222222,
              "#7201a8"
             ],
             [
              0.3333333333333333,
              "#9c179e"
             ],
             [
              0.4444444444444444,
              "#bd3786"
             ],
             [
              0.5555555555555556,
              "#d8576b"
             ],
             [
              0.6666666666666666,
              "#ed7953"
             ],
             [
              0.7777777777777778,
              "#fb9f3a"
             ],
             [
              0.8888888888888888,
              "#fdca26"
             ],
             [
              1,
              "#f0f921"
             ]
            ],
            "type": "heatmapgl"
           }
          ],
          "histogram": [
           {
            "marker": {
             "pattern": {
              "fillmode": "overlay",
              "size": 10,
              "solidity": 0.2
             }
            },
            "type": "histogram"
           }
          ],
          "histogram2d": [
           {
            "colorbar": {
             "outlinewidth": 0,
             "ticks": ""
            },
            "colorscale": [
             [
              0,
              "#0d0887"
             ],
             [
              0.1111111111111111,
              "#46039f"
             ],
             [
              0.2222222222222222,
              "#7201a8"
             ],
             [
              0.3333333333333333,
              "#9c179e"
             ],
             [
              0.4444444444444444,
              "#bd3786"
             ],
             [
              0.5555555555555556,
              "#d8576b"
             ],
             [
              0.6666666666666666,
              "#ed7953"
             ],
             [
              0.7777777777777778,
              "#fb9f3a"
             ],
             [
              0.8888888888888888,
              "#fdca26"
             ],
             [
              1,
              "#f0f921"
             ]
            ],
            "type": "histogram2d"
           }
          ],
          "histogram2dcontour": [
           {
            "colorbar": {
             "outlinewidth": 0,
             "ticks": ""
            },
            "colorscale": [
             [
              0,
              "#0d0887"
             ],
             [
              0.1111111111111111,
              "#46039f"
             ],
             [
              0.2222222222222222,
              "#7201a8"
             ],
             [
              0.3333333333333333,
              "#9c179e"
             ],
             [
              0.4444444444444444,
              "#bd3786"
             ],
             [
              0.5555555555555556,
              "#d8576b"
             ],
             [
              0.6666666666666666,
              "#ed7953"
             ],
             [
              0.7777777777777778,
              "#fb9f3a"
             ],
             [
              0.8888888888888888,
              "#fdca26"
             ],
             [
              1,
              "#f0f921"
             ]
            ],
            "type": "histogram2dcontour"
           }
          ],
          "mesh3d": [
           {
            "colorbar": {
             "outlinewidth": 0,
             "ticks": ""
            },
            "type": "mesh3d"
           }
          ],
          "parcoords": [
           {
            "line": {
             "colorbar": {
              "outlinewidth": 0,
              "ticks": ""
             }
            },
            "type": "parcoords"
           }
          ],
          "pie": [
           {
            "automargin": true,
            "type": "pie"
           }
          ],
          "scatter": [
           {
            "fillpattern": {
             "fillmode": "overlay",
             "size": 10,
             "solidity": 0.2
            },
            "type": "scatter"
           }
          ],
          "scatter3d": [
           {
            "line": {
             "colorbar": {
              "outlinewidth": 0,
              "ticks": ""
             }
            },
            "marker": {
             "colorbar": {
              "outlinewidth": 0,
              "ticks": ""
             }
            },
            "type": "scatter3d"
           }
          ],
          "scattercarpet": [
           {
            "marker": {
             "colorbar": {
              "outlinewidth": 0,
              "ticks": ""
             }
            },
            "type": "scattercarpet"
           }
          ],
          "scattergeo": [
           {
            "marker": {
             "colorbar": {
              "outlinewidth": 0,
              "ticks": ""
             }
            },
            "type": "scattergeo"
           }
          ],
          "scattergl": [
           {
            "marker": {
             "colorbar": {
              "outlinewidth": 0,
              "ticks": ""
             }
            },
            "type": "scattergl"
           }
          ],
          "scattermapbox": [
           {
            "marker": {
             "colorbar": {
              "outlinewidth": 0,
              "ticks": ""
             }
            },
            "type": "scattermapbox"
           }
          ],
          "scatterpolar": [
           {
            "marker": {
             "colorbar": {
              "outlinewidth": 0,
              "ticks": ""
             }
            },
            "type": "scatterpolar"
           }
          ],
          "scatterpolargl": [
           {
            "marker": {
             "colorbar": {
              "outlinewidth": 0,
              "ticks": ""
             }
            },
            "type": "scatterpolargl"
           }
          ],
          "scatterternary": [
           {
            "marker": {
             "colorbar": {
              "outlinewidth": 0,
              "ticks": ""
             }
            },
            "type": "scatterternary"
           }
          ],
          "surface": [
           {
            "colorbar": {
             "outlinewidth": 0,
             "ticks": ""
            },
            "colorscale": [
             [
              0,
              "#0d0887"
             ],
             [
              0.1111111111111111,
              "#46039f"
             ],
             [
              0.2222222222222222,
              "#7201a8"
             ],
             [
              0.3333333333333333,
              "#9c179e"
             ],
             [
              0.4444444444444444,
              "#bd3786"
             ],
             [
              0.5555555555555556,
              "#d8576b"
             ],
             [
              0.6666666666666666,
              "#ed7953"
             ],
             [
              0.7777777777777778,
              "#fb9f3a"
             ],
             [
              0.8888888888888888,
              "#fdca26"
             ],
             [
              1,
              "#f0f921"
             ]
            ],
            "type": "surface"
           }
          ],
          "table": [
           {
            "cells": {
             "fill": {
              "color": "#EBF0F8"
             },
             "line": {
              "color": "white"
             }
            },
            "header": {
             "fill": {
              "color": "#C8D4E3"
             },
             "line": {
              "color": "white"
             }
            },
            "type": "table"
           }
          ]
         },
         "layout": {
          "annotationdefaults": {
           "arrowcolor": "#2a3f5f",
           "arrowhead": 0,
           "arrowwidth": 1
          },
          "autotypenumbers": "strict",
          "coloraxis": {
           "colorbar": {
            "outlinewidth": 0,
            "ticks": ""
           }
          },
          "colorscale": {
           "diverging": [
            [
             0,
             "#8e0152"
            ],
            [
             0.1,
             "#c51b7d"
            ],
            [
             0.2,
             "#de77ae"
            ],
            [
             0.3,
             "#f1b6da"
            ],
            [
             0.4,
             "#fde0ef"
            ],
            [
             0.5,
             "#f7f7f7"
            ],
            [
             0.6,
             "#e6f5d0"
            ],
            [
             0.7,
             "#b8e186"
            ],
            [
             0.8,
             "#7fbc41"
            ],
            [
             0.9,
             "#4d9221"
            ],
            [
             1,
             "#276419"
            ]
           ],
           "sequential": [
            [
             0,
             "#0d0887"
            ],
            [
             0.1111111111111111,
             "#46039f"
            ],
            [
             0.2222222222222222,
             "#7201a8"
            ],
            [
             0.3333333333333333,
             "#9c179e"
            ],
            [
             0.4444444444444444,
             "#bd3786"
            ],
            [
             0.5555555555555556,
             "#d8576b"
            ],
            [
             0.6666666666666666,
             "#ed7953"
            ],
            [
             0.7777777777777778,
             "#fb9f3a"
            ],
            [
             0.8888888888888888,
             "#fdca26"
            ],
            [
             1,
             "#f0f921"
            ]
           ],
           "sequentialminus": [
            [
             0,
             "#0d0887"
            ],
            [
             0.1111111111111111,
             "#46039f"
            ],
            [
             0.2222222222222222,
             "#7201a8"
            ],
            [
             0.3333333333333333,
             "#9c179e"
            ],
            [
             0.4444444444444444,
             "#bd3786"
            ],
            [
             0.5555555555555556,
             "#d8576b"
            ],
            [
             0.6666666666666666,
             "#ed7953"
            ],
            [
             0.7777777777777778,
             "#fb9f3a"
            ],
            [
             0.8888888888888888,
             "#fdca26"
            ],
            [
             1,
             "#f0f921"
            ]
           ]
          },
          "colorway": [
           "#636efa",
           "#EF553B",
           "#00cc96",
           "#ab63fa",
           "#FFA15A",
           "#19d3f3",
           "#FF6692",
           "#B6E880",
           "#FF97FF",
           "#FECB52"
          ],
          "font": {
           "color": "#2a3f5f"
          },
          "geo": {
           "bgcolor": "white",
           "lakecolor": "white",
           "landcolor": "#E5ECF6",
           "showlakes": true,
           "showland": true,
           "subunitcolor": "white"
          },
          "hoverlabel": {
           "align": "left"
          },
          "hovermode": "closest",
          "mapbox": {
           "style": "light"
          },
          "paper_bgcolor": "white",
          "plot_bgcolor": "#E5ECF6",
          "polar": {
           "angularaxis": {
            "gridcolor": "white",
            "linecolor": "white",
            "ticks": ""
           },
           "bgcolor": "#E5ECF6",
           "radialaxis": {
            "gridcolor": "white",
            "linecolor": "white",
            "ticks": ""
           }
          },
          "scene": {
           "xaxis": {
            "backgroundcolor": "#E5ECF6",
            "gridcolor": "white",
            "gridwidth": 2,
            "linecolor": "white",
            "showbackground": true,
            "ticks": "",
            "zerolinecolor": "white"
           },
           "yaxis": {
            "backgroundcolor": "#E5ECF6",
            "gridcolor": "white",
            "gridwidth": 2,
            "linecolor": "white",
            "showbackground": true,
            "ticks": "",
            "zerolinecolor": "white"
           },
           "zaxis": {
            "backgroundcolor": "#E5ECF6",
            "gridcolor": "white",
            "gridwidth": 2,
            "linecolor": "white",
            "showbackground": true,
            "ticks": "",
            "zerolinecolor": "white"
           }
          },
          "shapedefaults": {
           "line": {
            "color": "#2a3f5f"
           }
          },
          "ternary": {
           "aaxis": {
            "gridcolor": "white",
            "linecolor": "white",
            "ticks": ""
           },
           "baxis": {
            "gridcolor": "white",
            "linecolor": "white",
            "ticks": ""
           },
           "bgcolor": "#E5ECF6",
           "caxis": {
            "gridcolor": "white",
            "linecolor": "white",
            "ticks": ""
           }
          },
          "title": {
           "x": 0.05
          },
          "xaxis": {
           "automargin": true,
           "gridcolor": "white",
           "linecolor": "white",
           "ticks": "",
           "title": {
            "standoff": 15
           },
           "zerolinecolor": "white",
           "zerolinewidth": 2
          },
          "yaxis": {
           "automargin": true,
           "gridcolor": "white",
           "linecolor": "white",
           "ticks": "",
           "title": {
            "standoff": 15
           },
           "zerolinecolor": "white",
           "zerolinewidth": 2
          }
         }
        },
        "title": {
         "text": "Gráfico de Correlação de Variáveis Quantitativas"
        },
        "xaxis": {
         "anchor": "y",
         "constrain": "domain",
         "domain": [
          0,
          1
         ],
         "scaleanchor": "y"
        },
        "yaxis": {
         "anchor": "x",
         "autorange": "reversed",
         "constrain": "domain",
         "domain": [
          0,
          1
         ]
        }
       }
      },
      "text/html": [
       "<div>                            <div id=\"afa8778b-c41c-4f4d-a215-7eee668289ae\" class=\"plotly-graph-div\" style=\"height:525px; width:100%;\"></div>            <script type=\"text/javascript\">                require([\"plotly\"], function(Plotly) {                    window.PLOTLYENV=window.PLOTLYENV || {};                                    if (document.getElementById(\"afa8778b-c41c-4f4d-a215-7eee668289ae\")) {                    Plotly.newPlot(                        \"afa8778b-c41c-4f4d-a215-7eee668289ae\",                        [{\"coloraxis\":\"coloraxis\",\"name\":\"0\",\"x\":[\"Sales_in_thousands\",\"__year_resale_value\",\"Price_in_thousands\",\"Engine_size\",\"Horsepower\",\"Wheelbase\",\"Width\",\"Length\",\"Curb_weight\",\"Fuel_capacity\",\"Fuel_efficiency\",\"Power_perf_factor\"],\"y\":[\"Sales_in_thousands\",\"__year_resale_value\",\"Price_in_thousands\",\"Engine_size\",\"Horsepower\",\"Wheelbase\",\"Width\",\"Length\",\"Curb_weight\",\"Fuel_capacity\",\"Fuel_efficiency\",\"Power_perf_factor\"],\"z\":[[1.0,-0.2664355015987471,-0.3044131349798335,0.019983192772739276,-0.19775621520811673,0.3581790435129778,0.14091829590970956,0.2549794969373628,0.008619784333430854,0.08653963157560289,-0.01674743732853074,-0.22301697094649753],[-0.2664355015987471,1.0,0.8223948902191838,0.4687810977099568,0.6968880311827176,-0.04780264788289436,0.15958012487201262,0.02386714417955231,0.29712962404264665,0.27502589723704,-0.35813692382639095,0.7437831605226495],[-0.3044131349798335,0.8223948902191838,1.0,0.6268386650789822,0.8384499277869085,0.11051112032214219,0.3291092258787028,0.15687403462701774,0.5237526514647436,0.4232302094443268,-0.49148885300911466,0.8979453074056738],[0.019983192772739276,0.4687810977099568,0.6268386650789822,1.0,0.8373597720234492,0.4721304209469804,0.690397942540623,0.541424213498556,0.7546677716467246,0.66302184704432,-0.7339200335658415,0.8184805639929121],[-0.19775621520811673,0.6968880311827176,0.8384499277869085,0.8373597720234492,1.0,0.2863080817443226,0.5391577376382382,0.3933635203202275,0.6052256466689409,0.4999069538183485,-0.6106476040090654,0.9914640417297381],[0.3581790435129778,-0.04780264788289436,0.11051112032214219,0.4721304209469804,0.2863080817443226,1.0,0.6831345713969165,0.8396389591096456,0.6502112080229873,0.6540443785857558,-0.4970227869441524,0.2588466806141138],[0.14091829590970956,0.15958012487201262,0.3291092258787028,0.690397942540623,0.5391577376382382,0.6831345713969165,1.0,0.7104348902288126,0.7180096103707604,0.6563017892303767,-0.5994650976930265,0.5119823541733581],[0.2549794969373628,0.02386714417955231,0.15687403462701774,0.541424213498556,0.3933635203202275,0.8396389591096456,0.7104348902288126,1.0,0.6250547698302324,0.5635397257032118,-0.4439933684934209,0.3539563907864324],[0.008619784333430854,0.29712962404264665,0.5237526514647436,0.7546677716467246,0.6052256466689409,0.6502112080229873,0.7180096103707604,0.6250547698302324,1.0,0.863912209386663,-0.8177844856736003,0.6073115061356914],[0.08653963157560289,0.27502589723704,0.4232302094443268,0.66302184704432,0.4999069538183485,0.6540443785857558,0.6563017892303767,0.5635397257032118,0.863912209386663,1.0,-0.8013551985331705,0.501122727089475],[-0.01674743732853074,-0.35813692382639095,-0.49148885300911466,-0.7339200335658415,-0.6106476040090654,-0.4970227869441524,-0.5994650976930265,-0.4439933684934209,-0.8177844856736003,-0.8013551985331705,1.0,-0.606663719641894],[-0.22301697094649753,0.7437831605226495,0.8979453074056738,0.8184805639929121,0.9914640417297381,0.2588466806141138,0.5119823541733581,0.3539563907864324,0.6073115061356914,0.501122727089475,-0.606663719641894,1.0]],\"type\":\"heatmap\",\"xaxis\":\"x\",\"yaxis\":\"y\",\"hovertemplate\":\"x: %{x}<br>y: %{y}<br>color: %{z}<extra></extra>\"}],                        {\"template\":{\"data\":{\"histogram2dcontour\":[{\"type\":\"histogram2dcontour\",\"colorbar\":{\"outlinewidth\":0,\"ticks\":\"\"},\"colorscale\":[[0.0,\"#0d0887\"],[0.1111111111111111,\"#46039f\"],[0.2222222222222222,\"#7201a8\"],[0.3333333333333333,\"#9c179e\"],[0.4444444444444444,\"#bd3786\"],[0.5555555555555556,\"#d8576b\"],[0.6666666666666666,\"#ed7953\"],[0.7777777777777778,\"#fb9f3a\"],[0.8888888888888888,\"#fdca26\"],[1.0,\"#f0f921\"]]}],\"choropleth\":[{\"type\":\"choropleth\",\"colorbar\":{\"outlinewidth\":0,\"ticks\":\"\"}}],\"histogram2d\":[{\"type\":\"histogram2d\",\"colorbar\":{\"outlinewidth\":0,\"ticks\":\"\"},\"colorscale\":[[0.0,\"#0d0887\"],[0.1111111111111111,\"#46039f\"],[0.2222222222222222,\"#7201a8\"],[0.3333333333333333,\"#9c179e\"],[0.4444444444444444,\"#bd3786\"],[0.5555555555555556,\"#d8576b\"],[0.6666666666666666,\"#ed7953\"],[0.7777777777777778,\"#fb9f3a\"],[0.8888888888888888,\"#fdca26\"],[1.0,\"#f0f921\"]]}],\"heatmap\":[{\"type\":\"heatmap\",\"colorbar\":{\"outlinewidth\":0,\"ticks\":\"\"},\"colorscale\":[[0.0,\"#0d0887\"],[0.1111111111111111,\"#46039f\"],[0.2222222222222222,\"#7201a8\"],[0.3333333333333333,\"#9c179e\"],[0.4444444444444444,\"#bd3786\"],[0.5555555555555556,\"#d8576b\"],[0.6666666666666666,\"#ed7953\"],[0.7777777777777778,\"#fb9f3a\"],[0.8888888888888888,\"#fdca26\"],[1.0,\"#f0f921\"]]}],\"heatmapgl\":[{\"type\":\"heatmapgl\",\"colorbar\":{\"outlinewidth\":0,\"ticks\":\"\"},\"colorscale\":[[0.0,\"#0d0887\"],[0.1111111111111111,\"#46039f\"],[0.2222222222222222,\"#7201a8\"],[0.3333333333333333,\"#9c179e\"],[0.4444444444444444,\"#bd3786\"],[0.5555555555555556,\"#d8576b\"],[0.6666666666666666,\"#ed7953\"],[0.7777777777777778,\"#fb9f3a\"],[0.8888888888888888,\"#fdca26\"],[1.0,\"#f0f921\"]]}],\"contourcarpet\":[{\"type\":\"contourcarpet\",\"colorbar\":{\"outlinewidth\":0,\"ticks\":\"\"}}],\"contour\":[{\"type\":\"contour\",\"colorbar\":{\"outlinewidth\":0,\"ticks\":\"\"},\"colorscale\":[[0.0,\"#0d0887\"],[0.1111111111111111,\"#46039f\"],[0.2222222222222222,\"#7201a8\"],[0.3333333333333333,\"#9c179e\"],[0.4444444444444444,\"#bd3786\"],[0.5555555555555556,\"#d8576b\"],[0.6666666666666666,\"#ed7953\"],[0.7777777777777778,\"#fb9f3a\"],[0.8888888888888888,\"#fdca26\"],[1.0,\"#f0f921\"]]}],\"surface\":[{\"type\":\"surface\",\"colorbar\":{\"outlinewidth\":0,\"ticks\":\"\"},\"colorscale\":[[0.0,\"#0d0887\"],[0.1111111111111111,\"#46039f\"],[0.2222222222222222,\"#7201a8\"],[0.3333333333333333,\"#9c179e\"],[0.4444444444444444,\"#bd3786\"],[0.5555555555555556,\"#d8576b\"],[0.6666666666666666,\"#ed7953\"],[0.7777777777777778,\"#fb9f3a\"],[0.8888888888888888,\"#fdca26\"],[1.0,\"#f0f921\"]]}],\"mesh3d\":[{\"type\":\"mesh3d\",\"colorbar\":{\"outlinewidth\":0,\"ticks\":\"\"}}],\"scatter\":[{\"fillpattern\":{\"fillmode\":\"overlay\",\"size\":10,\"solidity\":0.2},\"type\":\"scatter\"}],\"parcoords\":[{\"type\":\"parcoords\",\"line\":{\"colorbar\":{\"outlinewidth\":0,\"ticks\":\"\"}}}],\"scatterpolargl\":[{\"type\":\"scatterpolargl\",\"marker\":{\"colorbar\":{\"outlinewidth\":0,\"ticks\":\"\"}}}],\"bar\":[{\"error_x\":{\"color\":\"#2a3f5f\"},\"error_y\":{\"color\":\"#2a3f5f\"},\"marker\":{\"line\":{\"color\":\"#E5ECF6\",\"width\":0.5},\"pattern\":{\"fillmode\":\"overlay\",\"size\":10,\"solidity\":0.2}},\"type\":\"bar\"}],\"scattergeo\":[{\"type\":\"scattergeo\",\"marker\":{\"colorbar\":{\"outlinewidth\":0,\"ticks\":\"\"}}}],\"scatterpolar\":[{\"type\":\"scatterpolar\",\"marker\":{\"colorbar\":{\"outlinewidth\":0,\"ticks\":\"\"}}}],\"histogram\":[{\"marker\":{\"pattern\":{\"fillmode\":\"overlay\",\"size\":10,\"solidity\":0.2}},\"type\":\"histogram\"}],\"scattergl\":[{\"type\":\"scattergl\",\"marker\":{\"colorbar\":{\"outlinewidth\":0,\"ticks\":\"\"}}}],\"scatter3d\":[{\"type\":\"scatter3d\",\"line\":{\"colorbar\":{\"outlinewidth\":0,\"ticks\":\"\"}},\"marker\":{\"colorbar\":{\"outlinewidth\":0,\"ticks\":\"\"}}}],\"scattermapbox\":[{\"type\":\"scattermapbox\",\"marker\":{\"colorbar\":{\"outlinewidth\":0,\"ticks\":\"\"}}}],\"scatterternary\":[{\"type\":\"scatterternary\",\"marker\":{\"colorbar\":{\"outlinewidth\":0,\"ticks\":\"\"}}}],\"scattercarpet\":[{\"type\":\"scattercarpet\",\"marker\":{\"colorbar\":{\"outlinewidth\":0,\"ticks\":\"\"}}}],\"carpet\":[{\"aaxis\":{\"endlinecolor\":\"#2a3f5f\",\"gridcolor\":\"white\",\"linecolor\":\"white\",\"minorgridcolor\":\"white\",\"startlinecolor\":\"#2a3f5f\"},\"baxis\":{\"endlinecolor\":\"#2a3f5f\",\"gridcolor\":\"white\",\"linecolor\":\"white\",\"minorgridcolor\":\"white\",\"startlinecolor\":\"#2a3f5f\"},\"type\":\"carpet\"}],\"table\":[{\"cells\":{\"fill\":{\"color\":\"#EBF0F8\"},\"line\":{\"color\":\"white\"}},\"header\":{\"fill\":{\"color\":\"#C8D4E3\"},\"line\":{\"color\":\"white\"}},\"type\":\"table\"}],\"barpolar\":[{\"marker\":{\"line\":{\"color\":\"#E5ECF6\",\"width\":0.5},\"pattern\":{\"fillmode\":\"overlay\",\"size\":10,\"solidity\":0.2}},\"type\":\"barpolar\"}],\"pie\":[{\"automargin\":true,\"type\":\"pie\"}]},\"layout\":{\"autotypenumbers\":\"strict\",\"colorway\":[\"#636efa\",\"#EF553B\",\"#00cc96\",\"#ab63fa\",\"#FFA15A\",\"#19d3f3\",\"#FF6692\",\"#B6E880\",\"#FF97FF\",\"#FECB52\"],\"font\":{\"color\":\"#2a3f5f\"},\"hovermode\":\"closest\",\"hoverlabel\":{\"align\":\"left\"},\"paper_bgcolor\":\"white\",\"plot_bgcolor\":\"#E5ECF6\",\"polar\":{\"bgcolor\":\"#E5ECF6\",\"angularaxis\":{\"gridcolor\":\"white\",\"linecolor\":\"white\",\"ticks\":\"\"},\"radialaxis\":{\"gridcolor\":\"white\",\"linecolor\":\"white\",\"ticks\":\"\"}},\"ternary\":{\"bgcolor\":\"#E5ECF6\",\"aaxis\":{\"gridcolor\":\"white\",\"linecolor\":\"white\",\"ticks\":\"\"},\"baxis\":{\"gridcolor\":\"white\",\"linecolor\":\"white\",\"ticks\":\"\"},\"caxis\":{\"gridcolor\":\"white\",\"linecolor\":\"white\",\"ticks\":\"\"}},\"coloraxis\":{\"colorbar\":{\"outlinewidth\":0,\"ticks\":\"\"}},\"colorscale\":{\"sequential\":[[0.0,\"#0d0887\"],[0.1111111111111111,\"#46039f\"],[0.2222222222222222,\"#7201a8\"],[0.3333333333333333,\"#9c179e\"],[0.4444444444444444,\"#bd3786\"],[0.5555555555555556,\"#d8576b\"],[0.6666666666666666,\"#ed7953\"],[0.7777777777777778,\"#fb9f3a\"],[0.8888888888888888,\"#fdca26\"],[1.0,\"#f0f921\"]],\"sequentialminus\":[[0.0,\"#0d0887\"],[0.1111111111111111,\"#46039f\"],[0.2222222222222222,\"#7201a8\"],[0.3333333333333333,\"#9c179e\"],[0.4444444444444444,\"#bd3786\"],[0.5555555555555556,\"#d8576b\"],[0.6666666666666666,\"#ed7953\"],[0.7777777777777778,\"#fb9f3a\"],[0.8888888888888888,\"#fdca26\"],[1.0,\"#f0f921\"]],\"diverging\":[[0,\"#8e0152\"],[0.1,\"#c51b7d\"],[0.2,\"#de77ae\"],[0.3,\"#f1b6da\"],[0.4,\"#fde0ef\"],[0.5,\"#f7f7f7\"],[0.6,\"#e6f5d0\"],[0.7,\"#b8e186\"],[0.8,\"#7fbc41\"],[0.9,\"#4d9221\"],[1,\"#276419\"]]},\"xaxis\":{\"gridcolor\":\"white\",\"linecolor\":\"white\",\"ticks\":\"\",\"title\":{\"standoff\":15},\"zerolinecolor\":\"white\",\"automargin\":true,\"zerolinewidth\":2},\"yaxis\":{\"gridcolor\":\"white\",\"linecolor\":\"white\",\"ticks\":\"\",\"title\":{\"standoff\":15},\"zerolinecolor\":\"white\",\"automargin\":true,\"zerolinewidth\":2},\"scene\":{\"xaxis\":{\"backgroundcolor\":\"#E5ECF6\",\"gridcolor\":\"white\",\"linecolor\":\"white\",\"showbackground\":true,\"ticks\":\"\",\"zerolinecolor\":\"white\",\"gridwidth\":2},\"yaxis\":{\"backgroundcolor\":\"#E5ECF6\",\"gridcolor\":\"white\",\"linecolor\":\"white\",\"showbackground\":true,\"ticks\":\"\",\"zerolinecolor\":\"white\",\"gridwidth\":2},\"zaxis\":{\"backgroundcolor\":\"#E5ECF6\",\"gridcolor\":\"white\",\"linecolor\":\"white\",\"showbackground\":true,\"ticks\":\"\",\"zerolinecolor\":\"white\",\"gridwidth\":2}},\"shapedefaults\":{\"line\":{\"color\":\"#2a3f5f\"}},\"annotationdefaults\":{\"arrowcolor\":\"#2a3f5f\",\"arrowhead\":0,\"arrowwidth\":1},\"geo\":{\"bgcolor\":\"white\",\"landcolor\":\"#E5ECF6\",\"subunitcolor\":\"white\",\"showland\":true,\"showlakes\":true,\"lakecolor\":\"white\"},\"title\":{\"x\":0.05},\"mapbox\":{\"style\":\"light\"}}},\"xaxis\":{\"anchor\":\"y\",\"domain\":[0.0,1.0],\"scaleanchor\":\"y\",\"constrain\":\"domain\"},\"yaxis\":{\"anchor\":\"x\",\"domain\":[0.0,1.0],\"autorange\":\"reversed\",\"constrain\":\"domain\"},\"coloraxis\":{\"colorscale\":[[0.0,\"#0d0887\"],[0.1111111111111111,\"#46039f\"],[0.2222222222222222,\"#7201a8\"],[0.3333333333333333,\"#9c179e\"],[0.4444444444444444,\"#bd3786\"],[0.5555555555555556,\"#d8576b\"],[0.6666666666666666,\"#ed7953\"],[0.7777777777777778,\"#fb9f3a\"],[0.8888888888888888,\"#fdca26\"],[1.0,\"#f0f921\"]]},\"margin\":{\"t\":60},\"title\":{\"text\":\"Gr\\u00e1fico de Correla\\u00e7\\u00e3o de Vari\\u00e1veis Quantitativas\"}},                        {\"responsive\": true}                    ).then(function(){\n",
       "                            \n",
       "var gd = document.getElementById('afa8778b-c41c-4f4d-a215-7eee668289ae');\n",
       "var x = new MutationObserver(function (mutations, observer) {{\n",
       "        var display = window.getComputedStyle(gd).display;\n",
       "        if (!display || display === 'none') {{\n",
       "            console.log([gd, 'removed!']);\n",
       "            Plotly.purge(gd);\n",
       "            observer.disconnect();\n",
       "        }}\n",
       "}});\n",
       "\n",
       "// Listen for the removal of the full notebook cells\n",
       "var notebookContainer = gd.closest('#notebook-container');\n",
       "if (notebookContainer) {{\n",
       "    x.observe(notebookContainer, {childList: true});\n",
       "}}\n",
       "\n",
       "// Listen for the clearing of the current output cell\n",
       "var outputEl = gd.closest('.output');\n",
       "if (outputEl) {{\n",
       "    x.observe(outputEl, {childList: true});\n",
       "}}\n",
       "\n",
       "                        })                };                });            </script>        </div>"
      ]
     },
     "metadata": {},
     "output_type": "display_data"
    }
   ],
   "source": [
    "#CRIAÇÃO DE UM GRÁFICO DE CORRELAÇÃO PARA TENTAR OBTER ALGUM INSIGHT SOBRE OS DADOS QUE ESTÃO SENDO ANALISADOS\n",
    "\n",
    "correlation_matrix = data_quanti.corr()\n",
    "\n",
    "\n",
    "fig = px.imshow(correlation_matrix, x=correlation_matrix.columns, y=correlation_matrix.columns)\n",
    "fig.update_layout(title='Gráfico de Correlação de Variáveis Quantitativas')\n",
    "fig.show()"
   ]
  },
  {
   "cell_type": "markdown",
   "id": "6555481d",
   "metadata": {},
   "source": [
    "Pouco além do óbvio pode ser explicado através do gráfico de correlação. \n",
    "\n",
    "- Quanto maior a performance, maior o valor. \n",
    "- Quanto maior a performance, maior a cavalaria do veículo.\n",
    "- Quanto maior a largura, maior o tamanho do motor.\n",
    "- Quanto maior a capacidade de combustível, maior o peso bruto.\n",
    "- Quanto maior o peso do motor, maior a cavalaria.\n",
    "\n",
    "Nosso gráfico de correlação não responde nada relevante quanto as variáveis quantitativas da base de dados. Porém algo interessante pode ser observado em relação a correlação negativa. A eficiência do combustível é negativa quanto maior for a capacidade de combustível e o peso bruto."
   ]
  },
  {
   "cell_type": "markdown",
   "id": "01d18ff0",
   "metadata": {},
   "source": [
    "### Padronização dos Dados"
   ]
  },
  {
   "cell_type": "code",
   "execution_count": 142,
   "id": "bb0559cd",
   "metadata": {
    "scrolled": true
   },
   "outputs": [
    {
     "data": {
      "text/plain": [
       "array([[-0.53204229, -0.17107102, -0.41443696, ..., -1.23008725,\n",
       "         0.98298105, -0.75351287],\n",
       "       [-0.20076081,  0.17996421,  0.07100423, ..., -0.19464351,\n",
       "         0.27339161,  0.57535923],\n",
       "       [-0.5734064 ,  0.01518238,  0.        , ..., -0.19464351,\n",
       "         0.50992142,  0.        ],\n",
       "       ...,\n",
       "       [-0.5230174 ,  0.        ,  0.09914575, ..., -0.01344086,\n",
       "         0.27339161, -0.23643811],\n",
       "       [-0.73002962,  0.        ,  1.27405414, ...,  0.1418757 ,\n",
       "        -0.19966803,  0.9870881 ],\n",
       "       [-0.50181184,  0.        ,  0.60569308, ...,  0.81491414,\n",
       "         0.03686179,  0.34906078]])"
      ]
     },
     "execution_count": 142,
     "metadata": {},
     "output_type": "execute_result"
    }
   ],
   "source": [
    "# PADRONIZAÇÃO DAS VARIÁVEIS UTILIZANDO SCALER\n",
    "\n",
    "scaler = StandardScaler()\n",
    "\n",
    "data_quanti_std = scaler.fit_transform(data_quanti)\n",
    "\n",
    "data_quanti_std"
   ]
  },
  {
   "cell_type": "markdown",
   "id": "2d593691",
   "metadata": {},
   "source": [
    "## 2 - Clusterização"
   ]
  },
  {
   "cell_type": "markdown",
   "id": "08cb42e2",
   "metadata": {},
   "source": [
    "### Utilização do método Elbow para ajudar a defininir número de clusters"
   ]
  },
  {
   "cell_type": "code",
   "execution_count": 143,
   "id": "2380f976",
   "metadata": {
    "collapsed": true
   },
   "outputs": [
    {
     "name": "stderr",
     "output_type": "stream",
     "text": [
      "F:\\Program Files (x86)\\anaconda3\\lib\\site-packages\\sklearn\\cluster\\_kmeans.py:870: FutureWarning:\n",
      "\n",
      "The default value of `n_init` will change from 10 to 'auto' in 1.4. Set the value of `n_init` explicitly to suppress the warning\n",
      "\n",
      "F:\\Program Files (x86)\\anaconda3\\lib\\site-packages\\sklearn\\cluster\\_kmeans.py:1382: UserWarning:\n",
      "\n",
      "KMeans is known to have a memory leak on Windows with MKL, when there are less chunks than available threads. You can avoid it by setting the environment variable OMP_NUM_THREADS=1.\n",
      "\n",
      "F:\\Program Files (x86)\\anaconda3\\lib\\site-packages\\sklearn\\cluster\\_kmeans.py:870: FutureWarning:\n",
      "\n",
      "The default value of `n_init` will change from 10 to 'auto' in 1.4. Set the value of `n_init` explicitly to suppress the warning\n",
      "\n",
      "F:\\Program Files (x86)\\anaconda3\\lib\\site-packages\\sklearn\\cluster\\_kmeans.py:1382: UserWarning:\n",
      "\n",
      "KMeans is known to have a memory leak on Windows with MKL, when there are less chunks than available threads. You can avoid it by setting the environment variable OMP_NUM_THREADS=1.\n",
      "\n",
      "F:\\Program Files (x86)\\anaconda3\\lib\\site-packages\\sklearn\\cluster\\_kmeans.py:870: FutureWarning:\n",
      "\n",
      "The default value of `n_init` will change from 10 to 'auto' in 1.4. Set the value of `n_init` explicitly to suppress the warning\n",
      "\n",
      "F:\\Program Files (x86)\\anaconda3\\lib\\site-packages\\sklearn\\cluster\\_kmeans.py:1382: UserWarning:\n",
      "\n",
      "KMeans is known to have a memory leak on Windows with MKL, when there are less chunks than available threads. You can avoid it by setting the environment variable OMP_NUM_THREADS=1.\n",
      "\n",
      "F:\\Program Files (x86)\\anaconda3\\lib\\site-packages\\sklearn\\cluster\\_kmeans.py:870: FutureWarning:\n",
      "\n",
      "The default value of `n_init` will change from 10 to 'auto' in 1.4. Set the value of `n_init` explicitly to suppress the warning\n",
      "\n",
      "F:\\Program Files (x86)\\anaconda3\\lib\\site-packages\\sklearn\\cluster\\_kmeans.py:1382: UserWarning:\n",
      "\n",
      "KMeans is known to have a memory leak on Windows with MKL, when there are less chunks than available threads. You can avoid it by setting the environment variable OMP_NUM_THREADS=1.\n",
      "\n",
      "F:\\Program Files (x86)\\anaconda3\\lib\\site-packages\\sklearn\\cluster\\_kmeans.py:870: FutureWarning:\n",
      "\n",
      "The default value of `n_init` will change from 10 to 'auto' in 1.4. Set the value of `n_init` explicitly to suppress the warning\n",
      "\n",
      "F:\\Program Files (x86)\\anaconda3\\lib\\site-packages\\sklearn\\cluster\\_kmeans.py:1382: UserWarning:\n",
      "\n",
      "KMeans is known to have a memory leak on Windows with MKL, when there are less chunks than available threads. You can avoid it by setting the environment variable OMP_NUM_THREADS=1.\n",
      "\n",
      "F:\\Program Files (x86)\\anaconda3\\lib\\site-packages\\sklearn\\cluster\\_kmeans.py:870: FutureWarning:\n",
      "\n",
      "The default value of `n_init` will change from 10 to 'auto' in 1.4. Set the value of `n_init` explicitly to suppress the warning\n",
      "\n",
      "F:\\Program Files (x86)\\anaconda3\\lib\\site-packages\\sklearn\\cluster\\_kmeans.py:1382: UserWarning:\n",
      "\n",
      "KMeans is known to have a memory leak on Windows with MKL, when there are less chunks than available threads. You can avoid it by setting the environment variable OMP_NUM_THREADS=1.\n",
      "\n",
      "F:\\Program Files (x86)\\anaconda3\\lib\\site-packages\\sklearn\\cluster\\_kmeans.py:870: FutureWarning:\n",
      "\n",
      "The default value of `n_init` will change from 10 to 'auto' in 1.4. Set the value of `n_init` explicitly to suppress the warning\n",
      "\n",
      "F:\\Program Files (x86)\\anaconda3\\lib\\site-packages\\sklearn\\cluster\\_kmeans.py:1382: UserWarning:\n",
      "\n",
      "KMeans is known to have a memory leak on Windows with MKL, when there are less chunks than available threads. You can avoid it by setting the environment variable OMP_NUM_THREADS=1.\n",
      "\n",
      "F:\\Program Files (x86)\\anaconda3\\lib\\site-packages\\sklearn\\cluster\\_kmeans.py:870: FutureWarning:\n",
      "\n",
      "The default value of `n_init` will change from 10 to 'auto' in 1.4. Set the value of `n_init` explicitly to suppress the warning\n",
      "\n",
      "F:\\Program Files (x86)\\anaconda3\\lib\\site-packages\\sklearn\\cluster\\_kmeans.py:1382: UserWarning:\n",
      "\n",
      "KMeans is known to have a memory leak on Windows with MKL, when there are less chunks than available threads. You can avoid it by setting the environment variable OMP_NUM_THREADS=1.\n",
      "\n",
      "F:\\Program Files (x86)\\anaconda3\\lib\\site-packages\\sklearn\\cluster\\_kmeans.py:870: FutureWarning:\n",
      "\n",
      "The default value of `n_init` will change from 10 to 'auto' in 1.4. Set the value of `n_init` explicitly to suppress the warning\n",
      "\n",
      "F:\\Program Files (x86)\\anaconda3\\lib\\site-packages\\sklearn\\cluster\\_kmeans.py:1382: UserWarning:\n",
      "\n",
      "KMeans is known to have a memory leak on Windows with MKL, when there are less chunks than available threads. You can avoid it by setting the environment variable OMP_NUM_THREADS=1.\n",
      "\n",
      "F:\\Program Files (x86)\\anaconda3\\lib\\site-packages\\sklearn\\cluster\\_kmeans.py:870: FutureWarning:\n",
      "\n",
      "The default value of `n_init` will change from 10 to 'auto' in 1.4. Set the value of `n_init` explicitly to suppress the warning\n",
      "\n",
      "F:\\Program Files (x86)\\anaconda3\\lib\\site-packages\\sklearn\\cluster\\_kmeans.py:1382: UserWarning:\n",
      "\n",
      "KMeans is known to have a memory leak on Windows with MKL, when there are less chunks than available threads. You can avoid it by setting the environment variable OMP_NUM_THREADS=1.\n",
      "\n"
     ]
    }
   ],
   "source": [
    "# APLICAÇÃO DO METODO ELBOW UTILIZANDO OS DADOS PADRONIZADOS\n",
    "\n",
    "inertia = []\n",
    "\n",
    "K_range = range(1,11)\n",
    "\n",
    "for k in K_range:\n",
    "    kmeans = KMeans(n_clusters=k, random_state = 0 )\n",
    "    kmeans.fit(data_quanti_std)\n",
    "    inertia.append(kmeans.inertia_)"
   ]
  },
  {
   "cell_type": "code",
   "execution_count": 144,
   "id": "d33e36f2",
   "metadata": {},
   "outputs": [
    {
     "data": {
      "image/png": "[encoded data removed]",
      "text/plain": [
       "<Figure size 800x600 with 1 Axes>"
      ]
     },
     "metadata": {},
     "output_type": "display_data"
    }
   ],
   "source": [
    "#PLOTANDO A REPRESENTAÇÃO GRÁFICA DO ELBOW\n",
    "\n",
    "plt.figure(figsize=(8,6))\n",
    "plt.plot(K_range, inertia, marker='o', linestyle='-')\n",
    "plt.title('Método Elbow para determinar K')\n",
    "plt.xlabel('Número de Clusters (K)')\n",
    "plt.ylabel('Inércia')\n",
    "plt.grid(True)\n",
    "plt.show()"
   ]
  },
  {
   "cell_type": "markdown",
   "id": "8cd98d34",
   "metadata": {},
   "source": [
    "Utilizando o método Elbow para me auxiliar na escolha do número de clusters para a minha análise, conclui que 2 clusters serão suficientes para explicar grande parte do trabalho."
   ]
  },
  {
   "cell_type": "code",
   "execution_count": 145,
   "id": "6741da31",
   "metadata": {},
   "outputs": [
    {
     "name": "stderr",
     "output_type": "stream",
     "text": [
      "F:\\Program Files (x86)\\anaconda3\\lib\\site-packages\\sklearn\\cluster\\_kmeans.py:870: FutureWarning:\n",
      "\n",
      "The default value of `n_init` will change from 10 to 'auto' in 1.4. Set the value of `n_init` explicitly to suppress the warning\n",
      "\n",
      "F:\\Program Files (x86)\\anaconda3\\lib\\site-packages\\sklearn\\cluster\\_kmeans.py:1382: UserWarning:\n",
      "\n",
      "KMeans is known to have a memory leak on Windows with MKL, when there are less chunks than available threads. You can avoid it by setting the environment variable OMP_NUM_THREADS=1.\n",
      "\n"
     ]
    },
    {
     "data": {
      "text/html": [
       "<style>#sk-container-id-5 {color: black;background-color: white;}#sk-container-id-5 pre{padding: 0;}#sk-container-id-5 div.sk-toggleable {background-color: white;}#sk-container-id-5 label.sk-toggleable__label {cursor: pointer;display: block;width: 100%;margin-bottom: 0;padding: 0.3em;box-sizing: border-box;text-align: center;}#sk-container-id-5 label.sk-toggleable__label-arrow:before {content: \"▸\";float: left;margin-right: 0.25em;color: #696969;}#sk-container-id-5 label.sk-toggleable__label-arrow:hover:before {color: black;}#sk-container-id-5 div.sk-estimator:hover label.sk-toggleable__label-arrow:before {color: black;}#sk-container-id-5 div.sk-toggleable__content {max-height: 0;max-width: 0;overflow: hidden;text-align: left;background-color: #f0f8ff;}#sk-container-id-5 div.sk-toggleable__content pre {margin: 0.2em;color: black;border-radius: 0.25em;background-color: #f0f8ff;}#sk-container-id-5 input.sk-toggleable__control:checked~div.sk-toggleable__content {max-height: 200px;max-width: 100%;overflow: auto;}#sk-container-id-5 input.sk-toggleable__control:checked~label.sk-toggleable__label-arrow:before {content: \"▾\";}#sk-container-id-5 div.sk-estimator input.sk-toggleable__control:checked~label.sk-toggleable__label {background-color: #d4ebff;}#sk-container-id-5 div.sk-label input.sk-toggleable__control:checked~label.sk-toggleable__label {background-color: #d4ebff;}#sk-container-id-5 input.sk-hidden--visually {border: 0;clip: rect(1px 1px 1px 1px);clip: rect(1px, 1px, 1px, 1px);height: 1px;margin: -1px;overflow: hidden;padding: 0;position: absolute;width: 1px;}#sk-container-id-5 div.sk-estimator {font-family: monospace;background-color: #f0f8ff;border: 1px dotted black;border-radius: 0.25em;box-sizing: border-box;margin-bottom: 0.5em;}#sk-container-id-5 div.sk-estimator:hover {background-color: #d4ebff;}#sk-container-id-5 div.sk-parallel-item::after {content: \"\";width: 100%;border-bottom: 1px solid gray;flex-grow: 1;}#sk-container-id-5 div.sk-label:hover label.sk-toggleable__label {background-color: #d4ebff;}#sk-container-id-5 div.sk-serial::before {content: \"\";position: absolute;border-left: 1px solid gray;box-sizing: border-box;top: 0;bottom: 0;left: 50%;z-index: 0;}#sk-container-id-5 div.sk-serial {display: flex;flex-direction: column;align-items: center;background-color: white;padding-right: 0.2em;padding-left: 0.2em;position: relative;}#sk-container-id-5 div.sk-item {position: relative;z-index: 1;}#sk-container-id-5 div.sk-parallel {display: flex;align-items: stretch;justify-content: center;background-color: white;position: relative;}#sk-container-id-5 div.sk-item::before, #sk-container-id-5 div.sk-parallel-item::before {content: \"\";position: absolute;border-left: 1px solid gray;box-sizing: border-box;top: 0;bottom: 0;left: 50%;z-index: -1;}#sk-container-id-5 div.sk-parallel-item {display: flex;flex-direction: column;z-index: 1;position: relative;background-color: white;}#sk-container-id-5 div.sk-parallel-item:first-child::after {align-self: flex-end;width: 50%;}#sk-container-id-5 div.sk-parallel-item:last-child::after {align-self: flex-start;width: 50%;}#sk-container-id-5 div.sk-parallel-item:only-child::after {width: 0;}#sk-container-id-5 div.sk-dashed-wrapped {border: 1px dashed gray;margin: 0 0.4em 0.5em 0.4em;box-sizing: border-box;padding-bottom: 0.4em;background-color: white;}#sk-container-id-5 div.sk-label label {font-family: monospace;font-weight: bold;display: inline-block;line-height: 1.2em;}#sk-container-id-5 div.sk-label-container {text-align: center;}#sk-container-id-5 div.sk-container {/* jupyter's `normalize.less` sets `[hidden] { display: none; }` but bootstrap.min.css set `[hidden] { display: none !important; }` so we also need the `!important` here to be able to override the default hidden behavior on the sphinx rendered scikit-learn.org. See: https://github.com/scikit-learn/scikit-learn/issues/21755 */display: inline-block !important;position: relative;}#sk-container-id-5 div.sk-text-repr-fallback {display: none;}</style><div id=\"sk-container-id-5\" class=\"sk-top-container\"><div class=\"sk-text-repr-fallback\"><pre>KMeans(n_clusters=2, random_state=0)</pre><b>In a Jupyter environment, please rerun this cell to show the HTML representation or trust the notebook. <br />On GitHub, the HTML representation is unable to render, please try loading this page with nbviewer.org.</b></div><div class=\"sk-container\" hidden><div class=\"sk-item\"><div class=\"sk-estimator sk-toggleable\"><input class=\"sk-toggleable__control sk-hidden--visually\" id=\"sk-estimator-id-5\" type=\"checkbox\" checked><label for=\"sk-estimator-id-5\" class=\"sk-toggleable__label sk-toggleable__label-arrow\">KMeans</label><div class=\"sk-toggleable__content\"><pre>KMeans(n_clusters=2, random_state=0)</pre></div></div></div></div></div>"
      ],
      "text/plain": [
       "KMeans(n_clusters=2, random_state=0)"
      ]
     },
     "execution_count": 145,
     "metadata": {},
     "output_type": "execute_result"
    }
   ],
   "source": [
    "#DEFININDO O NÚMERO DE CLUSTERS\n",
    "\n",
    "kmeans = KMeans(n_clusters = 2, random_state = 0)\n",
    "kmeans.fit(data_quanti_std)"
   ]
  },
  {
   "cell_type": "code",
   "execution_count": 146,
   "id": "7397f457",
   "metadata": {},
   "outputs": [],
   "source": [
    "#EXTRAINDO CENTROIDS E RÓTULOS DA VARIÁVEL kmeans\n",
    "centroids = kmeans.cluster_centers_\n",
    "labels = kmeans.labels_"
   ]
  },
  {
   "cell_type": "code",
   "execution_count": 147,
   "id": "439d8c95",
   "metadata": {
    "collapsed": true
   },
   "outputs": [
    {
     "name": "stderr",
     "output_type": "stream",
     "text": [
      "C:\\Users\\Filiphe\\AppData\\Local\\Temp\\ipykernel_9876\\2355683021.py:3: SettingWithCopyWarning:\n",
      "\n",
      "\n",
      "A value is trying to be set on a copy of a slice from a DataFrame.\n",
      "Try using .loc[row_indexer,col_indexer] = value instead\n",
      "\n",
      "See the caveats in the documentation: https://pandas.pydata.org/pandas-docs/stable/user_guide/indexing.html#returning-a-view-versus-a-copy\n",
      "\n"
     ]
    }
   ],
   "source": [
    "#ADICIONANDO OS CLUSTERS A UM NOVO DATASET\n",
    "\n",
    "data_quanti['Clusters'] = labels\n",
    "data_quanti_cluster = data_quanti.copy()"
   ]
  },
  {
   "cell_type": "code",
   "execution_count": 148,
   "id": "bd51d3b6",
   "metadata": {
    "scrolled": true
   },
   "outputs": [
    {
     "data": {
      "text/html": [
       "<div>\n",
       "<style scoped>\n",
       "    .dataframe tbody tr th:only-of-type {\n",
       "        vertical-align: middle;\n",
       "    }\n",
       "\n",
       "    .dataframe tbody tr th {\n",
       "        vertical-align: top;\n",
       "    }\n",
       "\n",
       "    .dataframe thead th {\n",
       "        text-align: right;\n",
       "    }\n",
       "</style>\n",
       "<table border=\"1\" class=\"dataframe\">\n",
       "  <thead>\n",
       "    <tr style=\"text-align: right;\">\n",
       "      <th></th>\n",
       "      <th>Sales_in_thousands</th>\n",
       "      <th>__year_resale_value</th>\n",
       "      <th>Price_in_thousands</th>\n",
       "      <th>Engine_size</th>\n",
       "      <th>Horsepower</th>\n",
       "      <th>Wheelbase</th>\n",
       "      <th>Width</th>\n",
       "      <th>Length</th>\n",
       "      <th>Curb_weight</th>\n",
       "      <th>Fuel_capacity</th>\n",
       "      <th>Fuel_efficiency</th>\n",
       "      <th>Power_perf_factor</th>\n",
       "      <th>Clusters</th>\n",
       "    </tr>\n",
       "  </thead>\n",
       "  <tbody>\n",
       "    <tr>\n",
       "      <th>Integra</th>\n",
       "      <td>16.919</td>\n",
       "      <td>16.360</td>\n",
       "      <td>21.500000</td>\n",
       "      <td>1.8</td>\n",
       "      <td>140.0</td>\n",
       "      <td>101.2</td>\n",
       "      <td>67.3</td>\n",
       "      <td>172.4</td>\n",
       "      <td>2.639</td>\n",
       "      <td>13.2</td>\n",
       "      <td>28.0</td>\n",
       "      <td>58.280150</td>\n",
       "      <td>1</td>\n",
       "    </tr>\n",
       "    <tr>\n",
       "      <th>TL</th>\n",
       "      <td>39.384</td>\n",
       "      <td>19.875</td>\n",
       "      <td>28.400000</td>\n",
       "      <td>3.2</td>\n",
       "      <td>225.0</td>\n",
       "      <td>108.1</td>\n",
       "      <td>70.3</td>\n",
       "      <td>192.9</td>\n",
       "      <td>3.517</td>\n",
       "      <td>17.2</td>\n",
       "      <td>25.0</td>\n",
       "      <td>91.370778</td>\n",
       "      <td>0</td>\n",
       "    </tr>\n",
       "    <tr>\n",
       "      <th>CL</th>\n",
       "      <td>14.114</td>\n",
       "      <td>18.225</td>\n",
       "      <td>27.390755</td>\n",
       "      <td>3.2</td>\n",
       "      <td>225.0</td>\n",
       "      <td>106.9</td>\n",
       "      <td>70.6</td>\n",
       "      <td>192.0</td>\n",
       "      <td>3.470</td>\n",
       "      <td>17.2</td>\n",
       "      <td>26.0</td>\n",
       "      <td>77.043591</td>\n",
       "      <td>0</td>\n",
       "    </tr>\n",
       "    <tr>\n",
       "      <th>RL</th>\n",
       "      <td>8.588</td>\n",
       "      <td>29.725</td>\n",
       "      <td>42.000000</td>\n",
       "      <td>3.5</td>\n",
       "      <td>210.0</td>\n",
       "      <td>114.6</td>\n",
       "      <td>71.4</td>\n",
       "      <td>196.6</td>\n",
       "      <td>3.850</td>\n",
       "      <td>18.0</td>\n",
       "      <td>22.0</td>\n",
       "      <td>91.389779</td>\n",
       "      <td>0</td>\n",
       "    </tr>\n",
       "    <tr>\n",
       "      <th>A4</th>\n",
       "      <td>20.397</td>\n",
       "      <td>22.255</td>\n",
       "      <td>23.990000</td>\n",
       "      <td>1.8</td>\n",
       "      <td>150.0</td>\n",
       "      <td>102.6</td>\n",
       "      <td>68.2</td>\n",
       "      <td>178.0</td>\n",
       "      <td>2.998</td>\n",
       "      <td>16.4</td>\n",
       "      <td>27.0</td>\n",
       "      <td>62.777639</td>\n",
       "      <td>1</td>\n",
       "    </tr>\n",
       "  </tbody>\n",
       "</table>\n",
       "</div>"
      ],
      "text/plain": [
       "         Sales_in_thousands  __year_resale_value  Price_in_thousands  \\\n",
       "Integra              16.919               16.360           21.500000   \n",
       "TL                   39.384               19.875           28.400000   \n",
       "CL                   14.114               18.225           27.390755   \n",
       "RL                    8.588               29.725           42.000000   \n",
       "A4                   20.397               22.255           23.990000   \n",
       "\n",
       "         Engine_size  Horsepower  Wheelbase  Width  Length  Curb_weight  \\\n",
       "Integra          1.8       140.0      101.2   67.3   172.4        2.639   \n",
       "TL               3.2       225.0      108.1   70.3   192.9        3.517   \n",
       "CL               3.2       225.0      106.9   70.6   192.0        3.470   \n",
       "RL               3.5       210.0      114.6   71.4   196.6        3.850   \n",
       "A4               1.8       150.0      102.6   68.2   178.0        2.998   \n",
       "\n",
       "         Fuel_capacity  Fuel_efficiency  Power_perf_factor  Clusters  \n",
       "Integra           13.2             28.0          58.280150         1  \n",
       "TL                17.2             25.0          91.370778         0  \n",
       "CL                17.2             26.0          77.043591         0  \n",
       "RL                18.0             22.0          91.389779         0  \n",
       "A4                16.4             27.0          62.777639         1  "
      ]
     },
     "execution_count": 148,
     "metadata": {},
     "output_type": "execute_result"
    }
   ],
   "source": [
    "data_quanti_cluster.head()"
   ]
  },
  {
   "cell_type": "markdown",
   "id": "26a21e5c",
   "metadata": {},
   "source": [
    "### Clusterização utilizando método PCA"
   ]
  },
  {
   "cell_type": "code",
   "execution_count": 149,
   "id": "3818a40d",
   "metadata": {},
   "outputs": [],
   "source": [
    "# UTILIZANDO A BIBLIOTECA SKLEARN PARA CRIAR A VARIÁVEL pca COM DOIS COMPONENTES DEFINIDOS POR MÉTODOS DE CLUSTERIZAÇÃO (ELBOW)\n",
    "\n",
    "pca = PCA(n_components = 2)\n",
    "data_pca = pca.fit_transform(data_quanti_cluster)"
   ]
  },
  {
   "cell_type": "code",
   "execution_count": 150,
   "id": "0d6f253d",
   "metadata": {},
   "outputs": [],
   "source": [
    "# ADICIONANDO OS RESULTADOS AO MEU DATAFRAME\n",
    "\n",
    "data_quanti_cluster['PC1'] = data_pca[:, 0]\n",
    "data_quanti_cluster['PC2'] = data_pca[:, 1]"
   ]
  },
  {
   "cell_type": "code",
   "execution_count": 173,
   "id": "06aedf6f",
   "metadata": {
    "scrolled": false
   },
   "outputs": [
    {
     "data": {
      "image/png": "[encoded data removed]",
      "text/plain": [
       "<Figure size 800x600 with 1 Axes>"
      ]
     },
     "metadata": {},
     "output_type": "display_data"
    }
   ],
   "source": [
    "# PLOTAGEM DE GRÁFICO PARA EXPLICAR A VARIÂNCIA DOS COMPONENTES PRINCIPAIS\n",
    "\n",
    "explained_variance_ratio = pca.explained_variance_ratio_\n",
    "\n",
    "\n",
    "plt.figure(figsize=(8, 6))\n",
    "plt.bar(range(1, 3), explained_variance_ratio[:2], align='center')\n",
    "plt.xticks(range(1, 3), [1, 2])\n",
    "\n",
    "for i, pct in enumerate(explained_variance_ratio):\n",
    "    plt.text(i + 1, pct, f'{pct*100:.2f}%', ha='center', va='bottom')\n",
    "\n",
    "plt.xlabel('Componente Principal')\n",
    "plt.ylabel('Proporção da Variância Explicada')\n",
    "plt.title('Demonstração Exemplificativa da Captura da Variância dos Dados')\n",
    "plt.show()"
   ]
  },
  {
   "cell_type": "markdown",
   "id": "b6f74775",
   "metadata": {},
   "source": [
    "A utilização de apenas dois componentes é o suficiente para explicar mais de 95% da estrutura dos meus dados."
   ]
  },
  {
   "cell_type": "code",
   "execution_count": 175,
   "id": "61f5e8e7",
   "metadata": {
    "scrolled": false
   },
   "outputs": [
    {
     "name": "stdout",
     "output_type": "stream",
     "text": [
      "[ 0.813 -0.079 -0.132 -0.006 -0.511  0.014 -0.007  0.001 -0.003 -0.01\n",
      "  0.017 -0.232  0.003]\n",
      "[ 0.574  0.077  0.135  0.013  0.725  0.066  0.034  0.122  0.006  0.034\n",
      " -0.041  0.312 -0.005]\n"
     ]
    }
   ],
   "source": [
    "# VERIFICANDO O VALOR DOS VETORES E A CONTRIBUIÇÃO DE TODAS AS VARIÁVEIS CORRESPONDENTES  \n",
    "\n",
    "print(np.round(pca.components_[0],3))\n",
    "print(np.round(pca.components_[1],3))"
   ]
  },
  {
   "cell_type": "code",
   "execution_count": 154,
   "id": "8178700a",
   "metadata": {
    "scrolled": false
   },
   "outputs": [
    {
     "data": {
      "application/vnd.plotly.v1+json": {
       "config": {
        "plotlyServerURL": "https://plot.ly"
       },
       "data": [
        {
         "customdata": [
          [
           "Integra"
          ],
          [
           "TL"
          ],
          [
           "CL"
          ],
          [
           "RL"
          ],
          [
           "A4"
          ],
          [
           "A6"
          ],
          [
           "A8"
          ],
          [
           "323i"
          ],
          [
           "328i"
          ],
          [
           "528i"
          ],
          [
           "Century"
          ],
          [
           "Regal"
          ],
          [
           "Park Avenue"
          ],
          [
           "LeSabre"
          ],
          [
           "DeVille"
          ],
          [
           "Seville"
          ],
          [
           "Eldorado"
          ],
          [
           "Catera"
          ],
          [
           "Escalade"
          ],
          [
           "Cavalier"
          ],
          [
           "Malibu"
          ],
          [
           "Lumina"
          ],
          [
           "Monte Carlo"
          ],
          [
           "Camaro"
          ],
          [
           "Corvette"
          ],
          [
           "Prizm"
          ],
          [
           "Metro"
          ],
          [
           "Impala"
          ],
          [
           "Sebring Coupe"
          ],
          [
           "Sebring Conv."
          ],
          [
           "Concorde"
          ],
          [
           "Cirrus"
          ],
          [
           "LHS"
          ],
          [
           "Town & Country"
          ],
          [
           "300M"
          ],
          [
           "Neon"
          ],
          [
           "Avenger"
          ],
          [
           "Stratus"
          ],
          [
           "Intrepid"
          ],
          [
           "Viper"
          ],
          [
           "Ram Pickup"
          ],
          [
           "Ram Wagon"
          ],
          [
           "Ram Van"
          ],
          [
           "Dakota"
          ],
          [
           "Durango"
          ],
          [
           "Caravan"
          ],
          [
           "Escort"
          ],
          [
           "Mustang"
          ],
          [
           "Contour"
          ],
          [
           "Taurus"
          ],
          [
           "Focus"
          ],
          [
           "Crown Victoria"
          ],
          [
           "Explorer"
          ],
          [
           "Windstar"
          ],
          [
           "Expedition"
          ],
          [
           "Ranger"
          ],
          [
           "F-Series"
          ],
          [
           "Civic"
          ],
          [
           "Accord"
          ],
          [
           "CR-V"
          ],
          [
           "Passport"
          ],
          [
           "Odyssey"
          ],
          [
           "Accent"
          ],
          [
           "Elantra"
          ],
          [
           "Sonata"
          ],
          [
           "I30"
          ],
          [
           "S-Type"
          ],
          [
           "Wrangler"
          ],
          [
           "Cherokee"
          ],
          [
           "Grand Cherokee"
          ],
          [
           "ES300"
          ],
          [
           "GS300"
          ],
          [
           "GS400"
          ],
          [
           "LS400"
          ],
          [
           "LX470"
          ],
          [
           "RX300"
          ],
          [
           "Continental"
          ],
          [
           "Town car"
          ],
          [
           "Navigator"
          ],
          [
           "Mirage"
          ],
          [
           "Eclipse"
          ],
          [
           "Galant"
          ],
          [
           "Diamante"
          ],
          [
           "3000GT"
          ],
          [
           "Montero"
          ],
          [
           "Montero Sport"
          ],
          [
           "Mystique"
          ],
          [
           "Cougar"
          ],
          [
           "Sable"
          ],
          [
           "Grand Marquis"
          ],
          [
           "Mountaineer"
          ],
          [
           "Villager"
          ],
          [
           "C-Class"
          ],
          [
           "E-Class"
          ],
          [
           "S-Class"
          ],
          [
           "SL-Class"
          ],
          [
           "SLK"
          ],
          [
           "SLK230"
          ],
          [
           "CLK Coupe"
          ],
          [
           "CL500"
          ],
          [
           "M-Class"
          ],
          [
           "Sentra"
          ],
          [
           "Altima"
          ],
          [
           "Maxima"
          ],
          [
           "Quest"
          ],
          [
           "Pathfinder"
          ],
          [
           "Xterra"
          ],
          [
           "Frontier"
          ],
          [
           "Cutlass"
          ],
          [
           "Intrigue"
          ],
          [
           "Alero"
          ],
          [
           "Aurora"
          ],
          [
           "Bravada"
          ],
          [
           "Silhouette"
          ],
          [
           "Neon"
          ],
          [
           "Breeze"
          ],
          [
           "Voyager"
          ],
          [
           "Prowler"
          ],
          [
           "Sunfire"
          ],
          [
           "Grand Am"
          ],
          [
           "Firebird"
          ],
          [
           "Grand Prix"
          ],
          [
           "Bonneville"
          ],
          [
           "Montana"
          ],
          [
           "Boxter"
          ],
          [
           "Carrera Coupe"
          ],
          [
           "Carrera Cabrio"
          ],
          [
           "5-Sep"
          ],
          [
           "3-Sep"
          ],
          [
           "SL"
          ],
          [
           "SC"
          ],
          [
           "SW"
          ],
          [
           "LW"
          ],
          [
           "LS"
          ],
          [
           "Outback"
          ],
          [
           "Forester"
          ],
          [
           "Corolla"
          ],
          [
           "Camry"
          ],
          [
           "Avalon"
          ],
          [
           "Celica"
          ],
          [
           "Tacoma"
          ],
          [
           "Sienna"
          ],
          [
           "RAV4"
          ],
          [
           "4Runner"
          ],
          [
           "Land Cruiser"
          ],
          [
           "Golf"
          ],
          [
           "Jetta"
          ],
          [
           "Passat"
          ],
          [
           "Cabrio"
          ],
          [
           "GTI"
          ],
          [
           "Beetle"
          ],
          [
           "S40"
          ],
          [
           "V40"
          ],
          [
           "S70"
          ],
          [
           "V70"
          ],
          [
           "C70"
          ],
          [
           "S80"
          ]
         ],
         "hovertemplate": "%{customdata[0]}",
         "legendgroup": "",
         "marker": {
          "color": [
           1,
           0,
           0,
           0,
           1,
           0,
           0,
           1,
           1,
           0,
           1,
           0,
           0,
           0,
           0,
           0,
           0,
           0,
           0,
           1,
           1,
           1,
           1,
           0,
           0,
           1,
           1,
           0,
           1,
           1,
           0,
           1,
           0,
           0,
           0,
           1,
           1,
           1,
           0,
           0,
           0,
           0,
           0,
           0,
           0,
           0,
           1,
           1,
           1,
           1,
           1,
           0,
           0,
           0,
           0,
           1,
           0,
           1,
           1,
           1,
           0,
           0,
           1,
           1,
           1,
           0,
           0,
           1,
           1,
           0,
           0,
           0,
           0,
           0,
           0,
           0,
           0,
           0,
           0,
           1,
           1,
           1,
           0,
           1,
           0,
           1,
           1,
           1,
           1,
           0,
           0,
           0,
           1,
           0,
           0,
           0,
           1,
           1,
           1,
           0,
           0,
           1,
           1,
           0,
           0,
           0,
           0,
           0,
           1,
           0,
           1,
           0,
           0,
           0,
           1,
           1,
           0,
           0,
           1,
           1,
           0,
           0,
           0,
           0,
           1,
           0,
           0,
           1,
           1,
           1,
           1,
           1,
           1,
           1,
           1,
           1,
           1,
           1,
           0,
           1,
           1,
           0,
           1,
           1,
           0,
           1,
           1,
           1,
           1,
           1,
           1,
           1,
           1,
           1,
           1,
           0,
           0
          ],
          "coloraxis": "coloraxis",
          "symbol": "circle"
         },
         "mode": "markers",
         "name": "",
         "orientation": "v",
         "showlegend": false,
         "textposition": "top center",
         "type": "scatter",
         "x": [
          -0.550921978854624,
          -34.56500649037809,
          -51.52504879028244,
          -54.49316309267243,
          -4.69843311589643,
          -38.092070926055264,
          -124.94823295234747,
          -17.417689509260892,
          -41.9123839001328,
          -36.92522266693167,
          39.50444098948484,
          -42.39173674770588,
          -32.908769502498004,
          13.588581810480628,
          -47.234067044486856,
          -87.5147279370375,
          -94.06019105236588,
          -43.17630236413974,
          -76.528665665011,
          121.20240832354659,
          79.2090142599565,
          -14.065007845117556,
          -2.5808636143346204,
          -29.025655770135632,
          -128.5704745419584,
          26.08386927363286,
          57.71713817534114,
          50.18471672760211,
          -20.976737252040802,
          -4.81566471479558,
          -24.4857506205284,
          18.131011874617883,
          -72.0204135774907,
          0.2746275422423684,
          -58.2647963744056,
          54.910272262771976,
          -23.348117865782626,
          27.68260955150797,
          20.586919934620393,
          -212.12204345968567,
          117.46332391304504,
          -21.814896431799976,
          -9.155279751592197,
          89.59893336550377,
          13.183946750333382,
          128.24244380488346,
          63.35780800676288,
          48.24349600136291,
          -2.0354497868224577,
          177.86998869674127,
          150.0322241563313,
          1.4774839511065032,
          166.64145633531456,
          106.60534894203008,
          24.190371756074114,
          180.3493795523272,
          376.69175460919865,
          170.75021434699963,
          177.98792571547585,
          41.67529813617448,
          -43.87933231078605,
          4.70951600613831,
          51.08955021319365,
          42.688458332279716,
          6.844885102819116,
          -48.7077195365586,
          -65.93466002056859,
          44.08117892297666,
          21.358968326325602,
          79.04581635847381,
          -39.4527587062163,
          -59.333653471647764,
          -112.278112150752,
          -107.32688308588973,
          -69.35128182835007,
          -23.346479665180883,
          -87.58869998966988,
          -24.42234106988762,
          -95.7706313886655,
          25.325453107226352,
          12.84605953205049,
          29.24015809185234,
          -52.140285100340584,
          -28.255693828540643,
          -43.47420514801056,
          -2.0914533411626204,
          8.05753086040981,
          17.509493296968476,
          34.117745765279864,
          15.782772703287977,
          -35.270351283524164,
          -15.789282325126402,
          -29.09256792125645,
          -48.2355780273662,
          -94.15840688037866,
          -124.99161049719751,
          -41.635700403774706,
          -44.363102939206705,
          -54.01050701687328,
          -124.15275058646401,
          -38.57683297976087,
          31.078206905773698,
          48.97866180833358,
          0.9691805851083588,
          -11.063505756731976,
          0.39710765294889216,
          11.208786215541071,
          21.3328793467838,
          -18.25438087751704,
          -28.285750326030215,
          45.597731572664856,
          -71.24998287458821,
          -30.467467806193344,
          -22.006772965679197,
          19.70521930496835,
          -3.561820852796829,
          0.2688819295178629,
          -84.78452877488121,
          21.901915921828387,
          72.30471791346278,
          -34.898342123212714,
          28.219303727355562,
          -23.961545776053843,
          -9.91409348312262,
          -59.33250257814879,
          -122.96805023117396,
          -123.8787067127736,
          -27.430342375998368,
          -32.391290312746136,
          78.03019912723778,
          31.923055291308376,
          1.5446073311685622,
          -5.148076327893949,
          29.47163553528079,
          8.683495273310696,
          -2.2701634889370643,
          115.82693569022084,
          192.55678549637648,
          -5.021706789847837,
          13.885473715973452,
          55.51566776542059,
          6.19972617559599,
          14.925626951011589,
          34.84581705090737,
          -68.1847853445904,
          10.187514657740154,
          69.78805796456655,
          21.379126441231247,
          8.492523591893711,
          6.0401812265213115,
          41.72126745327822,
          -13.023771585042038,
          -24.14985468908783,
          -20.059835337572622,
          -18.488763066898727,
          -73.95912242255636,
          -38.50505528230374
         ],
         "xaxis": "x",
         "y": [
          -63.530460223425315,
          25.861147589111823,
          6.405167866561401,
          0.9833835612253099,
          -51.130873120392444,
          -4.891913798316634,
          86.66339783118346,
          -34.16769658709171,
          -18.428972813140348,
          -9.83603847181779,
          12.187549965011675,
          37.80051627802301,
          5.842547125609249,
          35.02592662311142,
          87.40611071975827,
          60.544069597222105,
          53.52043537665781,
          -10.35132577484564,
          44.16486264781205,
          -11.86835535885563,
          30.68945495916458,
          -26.55487532329101,
          -12.045153810283749,
          -4.291285480849214,
          118.13592917019007,
          -74.15169151877232,
          -140.06510409577453,
          26.148745202396,
          -47.42100319991661,
          -27.213502238094744,
          0.5616197929869436,
          -60.54681233178075,
          36.534734059468725,
          0.39226866480542943,
          45.48978155805548,
          -38.506701565524,
          -49.50709561182207,
          -7.222875828947704,
          34.275652720095444,
          203.50984682144883,
          142.11455819895133,
          -29.689975339842704,
          -19.281883015990918,
          -19.513999854101712,
          66.3343221074481,
          41.90618631332019,
          -61.074832135439415,
          35.302221306874756,
          -27.61697924273063,
          83.12641839647635,
          -1.8351493196794118,
          20.153853566976384,
          150.65233835067056,
          30.21865585318588,
          93.23857078266012,
          37.937827220148336,
          315.51979698631885,
          10.51830788282083,
          56.029864037177894,
          -25.266969497173022,
          -8.241430834236054,
          35.79850264071059,
          -94.79897254459824,
          -37.85711504907437,
          -49.49272467515575,
          18.925242287165467,
          28.651863292487874,
          -62.3934297440836,
          14.847587025088355,
          66.84024836831115,
          5.4650876255917815,
          13.740358625692112,
          72.2704415807825,
          70.48825005604387,
          21.883762579583216,
          28.214317811504568,
          58.14143539549202,
          30.93559962323018,
          86.12382616692419,
          -83.42095982320286,
          -37.50614885284329,
          -36.263450009227306,
          -6.8275830630492855,
          -52.77805847172783,
          -10.585115720355669,
          -21.255786859444466,
          -77.44493350836075,
          -69.9964545680532,
          -20.018058400676466,
          30.511359714026128,
          6.780892175493675,
          -31.958949805162483,
          -20.5593086815787,
          22.85251983054879,
          70.23535320160093,
          84.27783423512658,
          -24.311092380206055,
          -31.84661885482246,
          2.9331651762942323,
          84.02790618071766,
          12.176988589260741,
          -62.657456274702206,
          -8.998797834441518,
          45.41568917777271,
          -26.93283897367171,
          -19.121667879161983,
          -14.86382963191456,
          -7.0264047275001165,
          -62.330943199805674,
          16.45179605343035,
          -17.119943628124354,
          36.85656267037206,
          -14.898911103611466,
          -15.001962092063698,
          -63.36297770992862,
          -76.3681144563468,
          -48.742466688825225,
          28.492148009189695,
          -33.860720015721675,
          32.8606645528795,
          -7.36334578296345,
          29.81324647440617,
          7.119023337903458,
          -6.013486763045719,
          3.2120808617448375,
          77.50138838621854,
          79.29800206392736,
          -36.86576479542105,
          -25.75175766031459,
          -63.31525350813968,
          -94.54601550704383,
          -85.42749224236698,
          -68.7420977833404,
          -45.92614750799242,
          -22.765042053540217,
          -33.047404567977466,
          -11.062075906818274,
          64.6087079607957,
          26.358388826458214,
          -55.59160977728536,
          -25.16046503009623,
          13.881135182771585,
          -72.45858994573766,
          -23.128736868630394,
          21.388082195437228,
          -91.67023634835903,
          -47.51321599525401,
          -33.6331253516412,
          -90.62024370209144,
          -93.21478660547871,
          -68.39450460692913,
          -45.48754435220646,
          -52.93145436116462,
          -37.134313306629295,
          -35.45360757200079,
          17.654436181087632,
          -4.156893726954882
         ],
         "yaxis": "y"
        }
       ],
       "layout": {
        "coloraxis": {
         "colorbar": {
          "title": {
           "text": "Clusters"
          }
         },
         "colorscale": [
          [
           0,
           "#0d0887"
          ],
          [
           0.1111111111111111,
           "#46039f"
          ],
          [
           0.2222222222222222,
           "#7201a8"
          ],
          [
           0.3333333333333333,
           "#9c179e"
          ],
          [
           0.4444444444444444,
           "#bd3786"
          ],
          [
           0.5555555555555556,
           "#d8576b"
          ],
          [
           0.6666666666666666,
           "#ed7953"
          ],
          [
           0.7777777777777778,
           "#fb9f3a"
          ],
          [
           0.8888888888888888,
           "#fdca26"
          ],
          [
           1,
           "#f0f921"
          ]
         ]
        },
        "legend": {
         "tracegroupgap": 0
        },
        "template": {
         "data": {
          "bar": [
           {
            "error_x": {
             "color": "#2a3f5f"
            },
            "error_y": {
             "color": "#2a3f5f"
            },
            "marker": {
             "line": {
              "color": "#E5ECF6",
              "width": 0.5
             },
             "pattern": {
              "fillmode": "overlay",
              "size": 10,
              "solidity": 0.2
             }
            },
            "type": "bar"
           }
          ],
          "barpolar": [
           {
            "marker": {
             "line": {
              "color": "#E5ECF6",
              "width": 0.5
             },
             "pattern": {
              "fillmode": "overlay",
              "size": 10,
              "solidity": 0.2
             }
            },
            "type": "barpolar"
           }
          ],
          "carpet": [
           {
            "aaxis": {
             "endlinecolor": "#2a3f5f",
             "gridcolor": "white",
             "linecolor": "white",
             "minorgridcolor": "white",
             "startlinecolor": "#2a3f5f"
            },
            "baxis": {
             "endlinecolor": "#2a3f5f",
             "gridcolor": "white",
             "linecolor": "white",
             "minorgridcolor": "white",
             "startlinecolor": "#2a3f5f"
            },
            "type": "carpet"
           }
          ],
          "choropleth": [
           {
            "colorbar": {
             "outlinewidth": 0,
             "ticks": ""
            },
            "type": "choropleth"
           }
          ],
          "contour": [
           {
            "colorbar": {
             "outlinewidth": 0,
             "ticks": ""
            },
            "colorscale": [
             [
              0,
              "#0d0887"
             ],
             [
              0.1111111111111111,
              "#46039f"
             ],
             [
              0.2222222222222222,
              "#7201a8"
             ],
             [
              0.3333333333333333,
              "#9c179e"
             ],
             [
              0.4444444444444444,
              "#bd3786"
             ],
             [
              0.5555555555555556,
              "#d8576b"
             ],
             [
              0.6666666666666666,
              "#ed7953"
             ],
             [
              0.7777777777777778,
              "#fb9f3a"
             ],
             [
              0.8888888888888888,
              "#fdca26"
             ],
             [
              1,
              "#f0f921"
             ]
            ],
            "type": "contour"
           }
          ],
          "contourcarpet": [
           {
            "colorbar": {
             "outlinewidth": 0,
             "ticks": ""
            },
            "type": "contourcarpet"
           }
          ],
          "heatmap": [
           {
            "colorbar": {
             "outlinewidth": 0,
             "ticks": ""
            },
            "colorscale": [
             [
              0,
              "#0d0887"
             ],
             [
              0.1111111111111111,
              "#46039f"
             ],
             [
              0.2222222222222222,
              "#7201a8"
             ],
             [
              0.3333333333333333,
              "#9c179e"
             ],
             [
              0.4444444444444444,
              "#bd3786"
             ],
             [
              0.5555555555555556,
              "#d8576b"
             ],
             [
              0.6666666666666666,
              "#ed7953"
             ],
             [
              0.7777777777777778,
              "#fb9f3a"
             ],
             [
              0.8888888888888888,
              "#fdca26"
             ],
             [
              1,
              "#f0f921"
             ]
            ],
            "type": "heatmap"
           }
          ],
          "heatmapgl": [
           {
            "colorbar": {
             "outlinewidth": 0,
             "ticks": ""
            },
            "colorscale": [
             [
              0,
              "#0d0887"
             ],
             [
              0.1111111111111111,
              "#46039f"
             ],
             [
              0.2222222222222222,
              "#7201a8"
             ],
             [
              0.3333333333333333,
              "#9c179e"
             ],
             [
              0.4444444444444444,
              "#bd3786"
             ],
             [
              0.5555555555555556,
              "#d8576b"
             ],
             [
              0.6666666666666666,
              "#ed7953"
             ],
             [
              0.7777777777777778,
              "#fb9f3a"
             ],
             [
              0.8888888888888888,
              "#fdca26"
             ],
             [
              1,
              "#f0f921"
             ]
            ],
            "type": "heatmapgl"
           }
          ],
          "histogram": [
           {
            "marker": {
             "pattern": {
              "fillmode": "overlay",
              "size": 10,
              "solidity": 0.2
             }
            },
            "type": "histogram"
           }
          ],
          "histogram2d": [
           {
            "colorbar": {
             "outlinewidth": 0,
             "ticks": ""
            },
            "colorscale": [
             [
              0,
              "#0d0887"
             ],
             [
              0.1111111111111111,
              "#46039f"
             ],
             [
              0.2222222222222222,
              "#7201a8"
             ],
             [
              0.3333333333333333,
              "#9c179e"
             ],
             [
              0.4444444444444444,
              "#bd3786"
             ],
             [
              0.5555555555555556,
              "#d8576b"
             ],
             [
              0.6666666666666666,
              "#ed7953"
             ],
             [
              0.7777777777777778,
              "#fb9f3a"
             ],
             [
              0.8888888888888888,
              "#fdca26"
             ],
             [
              1,
              "#f0f921"
             ]
            ],
            "type": "histogram2d"
           }
          ],
          "histogram2dcontour": [
           {
            "colorbar": {
             "outlinewidth": 0,
             "ticks": ""
            },
            "colorscale": [
             [
              0,
              "#0d0887"
             ],
             [
              0.1111111111111111,
              "#46039f"
             ],
             [
              0.2222222222222222,
              "#7201a8"
             ],
             [
              0.3333333333333333,
              "#9c179e"
             ],
             [
              0.4444444444444444,
              "#bd3786"
             ],
             [
              0.5555555555555556,
              "#d8576b"
             ],
             [
              0.6666666666666666,
              "#ed7953"
             ],
             [
              0.7777777777777778,
              "#fb9f3a"
             ],
             [
              0.8888888888888888,
              "#fdca26"
             ],
             [
              1,
              "#f0f921"
             ]
            ],
            "type": "histogram2dcontour"
           }
          ],
          "mesh3d": [
           {
            "colorbar": {
             "outlinewidth": 0,
             "ticks": ""
            },
            "type": "mesh3d"
           }
          ],
          "parcoords": [
           {
            "line": {
             "colorbar": {
              "outlinewidth": 0,
              "ticks": ""
             }
            },
            "type": "parcoords"
           }
          ],
          "pie": [
           {
            "automargin": true,
            "type": "pie"
           }
          ],
          "scatter": [
           {
            "fillpattern": {
             "fillmode": "overlay",
             "size": 10,
             "solidity": 0.2
            },
            "type": "scatter"
           }
          ],
          "scatter3d": [
           {
            "line": {
             "colorbar": {
              "outlinewidth": 0,
              "ticks": ""
             }
            },
            "marker": {
             "colorbar": {
              "outlinewidth": 0,
              "ticks": ""
             }
            },
            "type": "scatter3d"
           }
          ],
          "scattercarpet": [
           {
            "marker": {
             "colorbar": {
              "outlinewidth": 0,
              "ticks": ""
             }
            },
            "type": "scattercarpet"
           }
          ],
          "scattergeo": [
           {
            "marker": {
             "colorbar": {
              "outlinewidth": 0,
              "ticks": ""
             }
            },
            "type": "scattergeo"
           }
          ],
          "scattergl": [
           {
            "marker": {
             "colorbar": {
              "outlinewidth": 0,
              "ticks": ""
             }
            },
            "type": "scattergl"
           }
          ],
          "scattermapbox": [
           {
            "marker": {
             "colorbar": {
              "outlinewidth": 0,
              "ticks": ""
             }
            },
            "type": "scattermapbox"
           }
          ],
          "scatterpolar": [
           {
            "marker": {
             "colorbar": {
              "outlinewidth": 0,
              "ticks": ""
             }
            },
            "type": "scatterpolar"
           }
          ],
          "scatterpolargl": [
           {
            "marker": {
             "colorbar": {
              "outlinewidth": 0,
              "ticks": ""
             }
            },
            "type": "scatterpolargl"
           }
          ],
          "scatterternary": [
           {
            "marker": {
             "colorbar": {
              "outlinewidth": 0,
              "ticks": ""
             }
            },
            "type": "scatterternary"
           }
          ],
          "surface": [
           {
            "colorbar": {
             "outlinewidth": 0,
             "ticks": ""
            },
            "colorscale": [
             [
              0,
              "#0d0887"
             ],
             [
              0.1111111111111111,
              "#46039f"
             ],
             [
              0.2222222222222222,
              "#7201a8"
             ],
             [
              0.3333333333333333,
              "#9c179e"
             ],
             [
              0.4444444444444444,
              "#bd3786"
             ],
             [
              0.5555555555555556,
              "#d8576b"
             ],
             [
              0.6666666666666666,
              "#ed7953"
             ],
             [
              0.7777777777777778,
              "#fb9f3a"
             ],
             [
              0.8888888888888888,
              "#fdca26"
             ],
             [
              1,
              "#f0f921"
             ]
            ],
            "type": "surface"
           }
          ],
          "table": [
           {
            "cells": {
             "fill": {
              "color": "#EBF0F8"
             },
             "line": {
              "color": "white"
             }
            },
            "header": {
             "fill": {
              "color": "#C8D4E3"
             },
             "line": {
              "color": "white"
             }
            },
            "type": "table"
           }
          ]
         },
         "layout": {
          "annotationdefaults": {
           "arrowcolor": "#2a3f5f",
           "arrowhead": 0,
           "arrowwidth": 1
          },
          "autotypenumbers": "strict",
          "coloraxis": {
           "colorbar": {
            "outlinewidth": 0,
            "ticks": ""
           }
          },
          "colorscale": {
           "diverging": [
            [
             0,
             "#8e0152"
            ],
            [
             0.1,
             "#c51b7d"
            ],
            [
             0.2,
             "#de77ae"
            ],
            [
             0.3,
             "#f1b6da"
            ],
            [
             0.4,
             "#fde0ef"
            ],
            [
             0.5,
             "#f7f7f7"
            ],
            [
             0.6,
             "#e6f5d0"
            ],
            [
             0.7,
             "#b8e186"
            ],
            [
             0.8,
             "#7fbc41"
            ],
            [
             0.9,
             "#4d9221"
            ],
            [
             1,
             "#276419"
            ]
           ],
           "sequential": [
            [
             0,
             "#0d0887"
            ],
            [
             0.1111111111111111,
             "#46039f"
            ],
            [
             0.2222222222222222,
             "#7201a8"
            ],
            [
             0.3333333333333333,
             "#9c179e"
            ],
            [
             0.4444444444444444,
             "#bd3786"
            ],
            [
             0.5555555555555556,
             "#d8576b"
            ],
            [
             0.6666666666666666,
             "#ed7953"
            ],
            [
             0.7777777777777778,
             "#fb9f3a"
            ],
            [
             0.8888888888888888,
             "#fdca26"
            ],
            [
             1,
             "#f0f921"
            ]
           ],
           "sequentialminus": [
            [
             0,
             "#0d0887"
            ],
            [
             0.1111111111111111,
             "#46039f"
            ],
            [
             0.2222222222222222,
             "#7201a8"
            ],
            [
             0.3333333333333333,
             "#9c179e"
            ],
            [
             0.4444444444444444,
             "#bd3786"
            ],
            [
             0.5555555555555556,
             "#d8576b"
            ],
            [
             0.6666666666666666,
             "#ed7953"
            ],
            [
             0.7777777777777778,
             "#fb9f3a"
            ],
            [
             0.8888888888888888,
             "#fdca26"
            ],
            [
             1,
             "#f0f921"
            ]
           ]
          },
          "colorway": [
           "#636efa",
           "#EF553B",
           "#00cc96",
           "#ab63fa",
           "#FFA15A",
           "#19d3f3",
           "#FF6692",
           "#B6E880",
           "#FF97FF",
           "#FECB52"
          ],
          "font": {
           "color": "#2a3f5f"
          },
          "geo": {
           "bgcolor": "white",
           "lakecolor": "white",
           "landcolor": "#E5ECF6",
           "showlakes": true,
           "showland": true,
           "subunitcolor": "white"
          },
          "hoverlabel": {
           "align": "left"
          },
          "hovermode": "closest",
          "mapbox": {
           "style": "light"
          },
          "paper_bgcolor": "white",
          "plot_bgcolor": "#E5ECF6",
          "polar": {
           "angularaxis": {
            "gridcolor": "white",
            "linecolor": "white",
            "ticks": ""
           },
           "bgcolor": "#E5ECF6",
           "radialaxis": {
            "gridcolor": "white",
            "linecolor": "white",
            "ticks": ""
           }
          },
          "scene": {
           "xaxis": {
            "backgroundcolor": "#E5ECF6",
            "gridcolor": "white",
            "gridwidth": 2,
            "linecolor": "white",
            "showbackground": true,
            "ticks": "",
            "zerolinecolor": "white"
           },
           "yaxis": {
            "backgroundcolor": "#E5ECF6",
            "gridcolor": "white",
            "gridwidth": 2,
            "linecolor": "white",
            "showbackground": true,
            "ticks": "",
            "zerolinecolor": "white"
           },
           "zaxis": {
            "backgroundcolor": "#E5ECF6",
            "gridcolor": "white",
            "gridwidth": 2,
            "linecolor": "white",
            "showbackground": true,
            "ticks": "",
            "zerolinecolor": "white"
           }
          },
          "shapedefaults": {
           "line": {
            "color": "#2a3f5f"
           }
          },
          "ternary": {
           "aaxis": {
            "gridcolor": "white",
            "linecolor": "white",
            "ticks": ""
           },
           "baxis": {
            "gridcolor": "white",
            "linecolor": "white",
            "ticks": ""
           },
           "bgcolor": "#E5ECF6",
           "caxis": {
            "gridcolor": "white",
            "linecolor": "white",
            "ticks": ""
           }
          },
          "title": {
           "x": 0.05
          },
          "xaxis": {
           "automargin": true,
           "gridcolor": "white",
           "linecolor": "white",
           "ticks": "",
           "title": {
            "standoff": 15
           },
           "zerolinecolor": "white",
           "zerolinewidth": 2
          },
          "yaxis": {
           "automargin": true,
           "gridcolor": "white",
           "linecolor": "white",
           "ticks": "",
           "title": {
            "standoff": 15
           },
           "zerolinecolor": "white",
           "zerolinewidth": 2
          }
         }
        },
        "title": {
         "text": "Análise PCA em 3D"
        },
        "xaxis": {
         "anchor": "y",
         "domain": [
          0,
          1
         ],
         "title": {
          "text": "PC1"
         }
        },
        "yaxis": {
         "anchor": "x",
         "domain": [
          0,
          1
         ],
         "title": {
          "text": "PC2"
         }
        }
       }
      },
      "text/html": [
       "<div>                            <div id=\"c9014811-f16a-4dae-ad58-b80b40d1a198\" class=\"plotly-graph-div\" style=\"height:525px; width:100%;\"></div>            <script type=\"text/javascript\">                require([\"plotly\"], function(Plotly) {                    window.PLOTLYENV=window.PLOTLYENV || {};                                    if (document.getElementById(\"c9014811-f16a-4dae-ad58-b80b40d1a198\")) {                    Plotly.newPlot(                        \"c9014811-f16a-4dae-ad58-b80b40d1a198\",                        [{\"customdata\":[[\"Integra\"],[\"TL\"],[\"CL\"],[\"RL\"],[\"A4\"],[\"A6\"],[\"A8\"],[\"323i\"],[\"328i\"],[\"528i\"],[\"Century\"],[\"Regal\"],[\"Park Avenue\"],[\"LeSabre\"],[\"DeVille\"],[\"Seville\"],[\"Eldorado\"],[\"Catera\"],[\"Escalade\"],[\"Cavalier\"],[\"Malibu\"],[\"Lumina\"],[\"Monte Carlo\"],[\"Camaro\"],[\"Corvette\"],[\"Prizm\"],[\"Metro\"],[\"Impala\"],[\"Sebring Coupe\"],[\"Sebring Conv.\"],[\"Concorde\"],[\"Cirrus\"],[\"LHS\"],[\"Town & Country\"],[\"300M\"],[\"Neon\"],[\"Avenger\"],[\"Stratus\"],[\"Intrepid\"],[\"Viper\"],[\"Ram Pickup\"],[\"Ram Wagon\"],[\"Ram Van\"],[\"Dakota\"],[\"Durango\"],[\"Caravan\"],[\"Escort\"],[\"Mustang\"],[\"Contour\"],[\"Taurus\"],[\"Focus\"],[\"Crown Victoria\"],[\"Explorer\"],[\"Windstar\"],[\"Expedition\"],[\"Ranger\"],[\"F-Series\"],[\"Civic\"],[\"Accord\"],[\"CR-V\"],[\"Passport\"],[\"Odyssey\"],[\"Accent\"],[\"Elantra\"],[\"Sonata\"],[\"I30\"],[\"S-Type\"],[\"Wrangler\"],[\"Cherokee\"],[\"Grand Cherokee\"],[\"ES300\"],[\"GS300\"],[\"GS400\"],[\"LS400\"],[\"LX470\"],[\"RX300\"],[\"Continental\"],[\"Town car\"],[\"Navigator\"],[\"Mirage\"],[\"Eclipse\"],[\"Galant\"],[\"Diamante\"],[\"3000GT\"],[\"Montero\"],[\"Montero Sport\"],[\"Mystique\"],[\"Cougar\"],[\"Sable\"],[\"Grand Marquis\"],[\"Mountaineer\"],[\"Villager\"],[\"C-Class\"],[\"E-Class\"],[\"S-Class\"],[\"SL-Class\"],[\"SLK\"],[\"SLK230\"],[\"CLK Coupe\"],[\"CL500\"],[\"M-Class\"],[\"Sentra\"],[\"Altima\"],[\"Maxima\"],[\"Quest\"],[\"Pathfinder\"],[\"Xterra\"],[\"Frontier\"],[\"Cutlass\"],[\"Intrigue\"],[\"Alero\"],[\"Aurora\"],[\"Bravada\"],[\"Silhouette\"],[\"Neon\"],[\"Breeze\"],[\"Voyager\"],[\"Prowler\"],[\"Sunfire\"],[\"Grand Am\"],[\"Firebird\"],[\"Grand Prix\"],[\"Bonneville\"],[\"Montana\"],[\"Boxter\"],[\"Carrera Coupe\"],[\"Carrera Cabrio\"],[\"5-Sep\"],[\"3-Sep\"],[\"SL\"],[\"SC\"],[\"SW\"],[\"LW\"],[\"LS\"],[\"Outback\"],[\"Forester\"],[\"Corolla\"],[\"Camry\"],[\"Avalon\"],[\"Celica\"],[\"Tacoma\"],[\"Sienna\"],[\"RAV4\"],[\"4Runner\"],[\"Land Cruiser\"],[\"Golf\"],[\"Jetta\"],[\"Passat\"],[\"Cabrio\"],[\"GTI\"],[\"Beetle\"],[\"S40\"],[\"V40\"],[\"S70\"],[\"V70\"],[\"C70\"],[\"S80\"]],\"hovertemplate\":\"%{customdata[0]}\",\"legendgroup\":\"\",\"marker\":{\"color\":[1,0,0,0,1,0,0,1,1,0,1,0,0,0,0,0,0,0,0,1,1,1,1,0,0,1,1,0,1,1,0,1,0,0,0,1,1,1,0,0,0,0,0,0,0,0,1,1,1,1,1,0,0,0,0,1,0,1,1,1,0,0,1,1,1,0,0,1,1,0,0,0,0,0,0,0,0,0,0,1,1,1,0,1,0,1,1,1,1,0,0,0,1,0,0,0,1,1,1,0,0,1,1,0,0,0,0,0,1,0,1,0,0,0,1,1,0,0,1,1,0,0,0,0,1,0,0,1,1,1,1,1,1,1,1,1,1,1,0,1,1,0,1,1,0,1,1,1,1,1,1,1,1,1,1,0,0],\"coloraxis\":\"coloraxis\",\"symbol\":\"circle\"},\"mode\":\"markers\",\"name\":\"\",\"orientation\":\"v\",\"showlegend\":false,\"x\":[-0.550921978854624,-34.56500649037809,-51.52504879028244,-54.49316309267243,-4.69843311589643,-38.092070926055264,-124.94823295234747,-17.417689509260892,-41.9123839001328,-36.92522266693167,39.50444098948484,-42.39173674770588,-32.908769502498004,13.588581810480628,-47.234067044486856,-87.5147279370375,-94.06019105236588,-43.17630236413974,-76.528665665011,121.20240832354659,79.2090142599565,-14.065007845117556,-2.5808636143346204,-29.025655770135632,-128.5704745419584,26.08386927363286,57.71713817534114,50.18471672760211,-20.976737252040802,-4.81566471479558,-24.4857506205284,18.131011874617883,-72.0204135774907,0.2746275422423684,-58.2647963744056,54.910272262771976,-23.348117865782626,27.68260955150797,20.586919934620393,-212.12204345968567,117.46332391304504,-21.814896431799976,-9.155279751592197,89.59893336550377,13.183946750333382,128.24244380488346,63.35780800676288,48.24349600136291,-2.0354497868224577,177.86998869674127,150.0322241563313,1.4774839511065032,166.64145633531456,106.60534894203008,24.190371756074114,180.3493795523272,376.69175460919865,170.75021434699963,177.98792571547585,41.67529813617448,-43.87933231078605,4.70951600613831,51.08955021319365,42.688458332279716,6.844885102819116,-48.7077195365586,-65.93466002056859,44.08117892297666,21.358968326325602,79.04581635847381,-39.4527587062163,-59.333653471647764,-112.278112150752,-107.32688308588973,-69.35128182835007,-23.346479665180883,-87.58869998966988,-24.42234106988762,-95.7706313886655,25.325453107226352,12.84605953205049,29.24015809185234,-52.140285100340584,-28.255693828540643,-43.47420514801056,-2.0914533411626204,8.05753086040981,17.509493296968476,34.117745765279864,15.782772703287977,-35.270351283524164,-15.789282325126402,-29.09256792125645,-48.2355780273662,-94.15840688037866,-124.99161049719751,-41.635700403774706,-44.363102939206705,-54.01050701687328,-124.15275058646401,-38.57683297976087,31.078206905773698,48.97866180833358,0.9691805851083588,-11.063505756731976,0.39710765294889216,11.208786215541071,21.3328793467838,-18.25438087751704,-28.285750326030215,45.597731572664856,-71.24998287458821,-30.467467806193344,-22.006772965679197,19.70521930496835,-3.561820852796829,0.2688819295178629,-84.78452877488121,21.901915921828387,72.30471791346278,-34.898342123212714,28.219303727355562,-23.961545776053843,-9.91409348312262,-59.33250257814879,-122.96805023117396,-123.8787067127736,-27.430342375998368,-32.391290312746136,78.03019912723778,31.923055291308376,1.5446073311685622,-5.148076327893949,29.47163553528079,8.683495273310696,-2.2701634889370643,115.82693569022084,192.55678549637648,-5.021706789847837,13.885473715973452,55.51566776542059,6.19972617559599,14.925626951011589,34.84581705090737,-68.1847853445904,10.187514657740154,69.78805796456655,21.379126441231247,8.492523591893711,6.0401812265213115,41.72126745327822,-13.023771585042038,-24.14985468908783,-20.059835337572622,-18.488763066898727,-73.95912242255636,-38.50505528230374],\"xaxis\":\"x\",\"y\":[-63.530460223425315,25.861147589111823,6.405167866561401,0.9833835612253099,-51.130873120392444,-4.891913798316634,86.66339783118346,-34.16769658709171,-18.428972813140348,-9.83603847181779,12.187549965011675,37.80051627802301,5.842547125609249,35.02592662311142,87.40611071975827,60.544069597222105,53.52043537665781,-10.35132577484564,44.16486264781205,-11.86835535885563,30.68945495916458,-26.55487532329101,-12.045153810283749,-4.291285480849214,118.13592917019007,-74.15169151877232,-140.06510409577453,26.148745202396,-47.42100319991661,-27.213502238094744,0.5616197929869436,-60.54681233178075,36.534734059468725,0.39226866480542943,45.48978155805548,-38.506701565524,-49.50709561182207,-7.222875828947704,34.275652720095444,203.50984682144883,142.11455819895133,-29.689975339842704,-19.281883015990918,-19.513999854101712,66.3343221074481,41.90618631332019,-61.074832135439415,35.302221306874756,-27.61697924273063,83.12641839647635,-1.8351493196794118,20.153853566976384,150.65233835067056,30.21865585318588,93.23857078266012,37.937827220148336,315.51979698631885,10.51830788282083,56.029864037177894,-25.266969497173022,-8.241430834236054,35.79850264071059,-94.79897254459824,-37.85711504907437,-49.49272467515575,18.925242287165467,28.651863292487874,-62.3934297440836,14.847587025088355,66.84024836831115,5.4650876255917815,13.740358625692112,72.2704415807825,70.48825005604387,21.883762579583216,28.214317811504568,58.14143539549202,30.93559962323018,86.12382616692419,-83.42095982320286,-37.50614885284329,-36.263450009227306,-6.8275830630492855,-52.77805847172783,-10.585115720355669,-21.255786859444466,-77.44493350836075,-69.9964545680532,-20.018058400676466,30.511359714026128,6.780892175493675,-31.958949805162483,-20.5593086815787,22.85251983054879,70.23535320160093,84.27783423512658,-24.311092380206055,-31.84661885482246,2.9331651762942323,84.02790618071766,12.176988589260741,-62.657456274702206,-8.998797834441518,45.41568917777271,-26.93283897367171,-19.121667879161983,-14.86382963191456,-7.0264047275001165,-62.330943199805674,16.45179605343035,-17.119943628124354,36.85656267037206,-14.898911103611466,-15.001962092063698,-63.36297770992862,-76.3681144563468,-48.742466688825225,28.492148009189695,-33.860720015721675,32.8606645528795,-7.36334578296345,29.81324647440617,7.119023337903458,-6.013486763045719,3.2120808617448375,77.50138838621854,79.29800206392736,-36.86576479542105,-25.75175766031459,-63.31525350813968,-94.54601550704383,-85.42749224236698,-68.7420977833404,-45.92614750799242,-22.765042053540217,-33.047404567977466,-11.062075906818274,64.6087079607957,26.358388826458214,-55.59160977728536,-25.16046503009623,13.881135182771585,-72.45858994573766,-23.128736868630394,21.388082195437228,-91.67023634835903,-47.51321599525401,-33.6331253516412,-90.62024370209144,-93.21478660547871,-68.39450460692913,-45.48754435220646,-52.93145436116462,-37.134313306629295,-35.45360757200079,17.654436181087632,-4.156893726954882],\"yaxis\":\"y\",\"type\":\"scatter\",\"textposition\":\"top center\"}],                        {\"template\":{\"data\":{\"histogram2dcontour\":[{\"type\":\"histogram2dcontour\",\"colorbar\":{\"outlinewidth\":0,\"ticks\":\"\"},\"colorscale\":[[0.0,\"#0d0887\"],[0.1111111111111111,\"#46039f\"],[0.2222222222222222,\"#7201a8\"],[0.3333333333333333,\"#9c179e\"],[0.4444444444444444,\"#bd3786\"],[0.5555555555555556,\"#d8576b\"],[0.6666666666666666,\"#ed7953\"],[0.7777777777777778,\"#fb9f3a\"],[0.8888888888888888,\"#fdca26\"],[1.0,\"#f0f921\"]]}],\"choropleth\":[{\"type\":\"choropleth\",\"colorbar\":{\"outlinewidth\":0,\"ticks\":\"\"}}],\"histogram2d\":[{\"type\":\"histogram2d\",\"colorbar\":{\"outlinewidth\":0,\"ticks\":\"\"},\"colorscale\":[[0.0,\"#0d0887\"],[0.1111111111111111,\"#46039f\"],[0.2222222222222222,\"#7201a8\"],[0.3333333333333333,\"#9c179e\"],[0.4444444444444444,\"#bd3786\"],[0.5555555555555556,\"#d8576b\"],[0.6666666666666666,\"#ed7953\"],[0.7777777777777778,\"#fb9f3a\"],[0.8888888888888888,\"#fdca26\"],[1.0,\"#f0f921\"]]}],\"heatmap\":[{\"type\":\"heatmap\",\"colorbar\":{\"outlinewidth\":0,\"ticks\":\"\"},\"colorscale\":[[0.0,\"#0d0887\"],[0.1111111111111111,\"#46039f\"],[0.2222222222222222,\"#7201a8\"],[0.3333333333333333,\"#9c179e\"],[0.4444444444444444,\"#bd3786\"],[0.5555555555555556,\"#d8576b\"],[0.6666666666666666,\"#ed7953\"],[0.7777777777777778,\"#fb9f3a\"],[0.8888888888888888,\"#fdca26\"],[1.0,\"#f0f921\"]]}],\"heatmapgl\":[{\"type\":\"heatmapgl\",\"colorbar\":{\"outlinewidth\":0,\"ticks\":\"\"},\"colorscale\":[[0.0,\"#0d0887\"],[0.1111111111111111,\"#46039f\"],[0.2222222222222222,\"#7201a8\"],[0.3333333333333333,\"#9c179e\"],[0.4444444444444444,\"#bd3786\"],[0.5555555555555556,\"#d8576b\"],[0.6666666666666666,\"#ed7953\"],[0.7777777777777778,\"#fb9f3a\"],[0.8888888888888888,\"#fdca26\"],[1.0,\"#f0f921\"]]}],\"contourcarpet\":[{\"type\":\"contourcarpet\",\"colorbar\":{\"outlinewidth\":0,\"ticks\":\"\"}}],\"contour\":[{\"type\":\"contour\",\"colorbar\":{\"outlinewidth\":0,\"ticks\":\"\"},\"colorscale\":[[0.0,\"#0d0887\"],[0.1111111111111111,\"#46039f\"],[0.2222222222222222,\"#7201a8\"],[0.3333333333333333,\"#9c179e\"],[0.4444444444444444,\"#bd3786\"],[0.5555555555555556,\"#d8576b\"],[0.6666666666666666,\"#ed7953\"],[0.7777777777777778,\"#fb9f3a\"],[0.8888888888888888,\"#fdca26\"],[1.0,\"#f0f921\"]]}],\"surface\":[{\"type\":\"surface\",\"colorbar\":{\"outlinewidth\":0,\"ticks\":\"\"},\"colorscale\":[[0.0,\"#0d0887\"],[0.1111111111111111,\"#46039f\"],[0.2222222222222222,\"#7201a8\"],[0.3333333333333333,\"#9c179e\"],[0.4444444444444444,\"#bd3786\"],[0.5555555555555556,\"#d8576b\"],[0.6666666666666666,\"#ed7953\"],[0.7777777777777778,\"#fb9f3a\"],[0.8888888888888888,\"#fdca26\"],[1.0,\"#f0f921\"]]}],\"mesh3d\":[{\"type\":\"mesh3d\",\"colorbar\":{\"outlinewidth\":0,\"ticks\":\"\"}}],\"scatter\":[{\"fillpattern\":{\"fillmode\":\"overlay\",\"size\":10,\"solidity\":0.2},\"type\":\"scatter\"}],\"parcoords\":[{\"type\":\"parcoords\",\"line\":{\"colorbar\":{\"outlinewidth\":0,\"ticks\":\"\"}}}],\"scatterpolargl\":[{\"type\":\"scatterpolargl\",\"marker\":{\"colorbar\":{\"outlinewidth\":0,\"ticks\":\"\"}}}],\"bar\":[{\"error_x\":{\"color\":\"#2a3f5f\"},\"error_y\":{\"color\":\"#2a3f5f\"},\"marker\":{\"line\":{\"color\":\"#E5ECF6\",\"width\":0.5},\"pattern\":{\"fillmode\":\"overlay\",\"size\":10,\"solidity\":0.2}},\"type\":\"bar\"}],\"scattergeo\":[{\"type\":\"scattergeo\",\"marker\":{\"colorbar\":{\"outlinewidth\":0,\"ticks\":\"\"}}}],\"scatterpolar\":[{\"type\":\"scatterpolar\",\"marker\":{\"colorbar\":{\"outlinewidth\":0,\"ticks\":\"\"}}}],\"histogram\":[{\"marker\":{\"pattern\":{\"fillmode\":\"overlay\",\"size\":10,\"solidity\":0.2}},\"type\":\"histogram\"}],\"scattergl\":[{\"type\":\"scattergl\",\"marker\":{\"colorbar\":{\"outlinewidth\":0,\"ticks\":\"\"}}}],\"scatter3d\":[{\"type\":\"scatter3d\",\"line\":{\"colorbar\":{\"outlinewidth\":0,\"ticks\":\"\"}},\"marker\":{\"colorbar\":{\"outlinewidth\":0,\"ticks\":\"\"}}}],\"scattermapbox\":[{\"type\":\"scattermapbox\",\"marker\":{\"colorbar\":{\"outlinewidth\":0,\"ticks\":\"\"}}}],\"scatterternary\":[{\"type\":\"scatterternary\",\"marker\":{\"colorbar\":{\"outlinewidth\":0,\"ticks\":\"\"}}}],\"scattercarpet\":[{\"type\":\"scattercarpet\",\"marker\":{\"colorbar\":{\"outlinewidth\":0,\"ticks\":\"\"}}}],\"carpet\":[{\"aaxis\":{\"endlinecolor\":\"#2a3f5f\",\"gridcolor\":\"white\",\"linecolor\":\"white\",\"minorgridcolor\":\"white\",\"startlinecolor\":\"#2a3f5f\"},\"baxis\":{\"endlinecolor\":\"#2a3f5f\",\"gridcolor\":\"white\",\"linecolor\":\"white\",\"minorgridcolor\":\"white\",\"startlinecolor\":\"#2a3f5f\"},\"type\":\"carpet\"}],\"table\":[{\"cells\":{\"fill\":{\"color\":\"#EBF0F8\"},\"line\":{\"color\":\"white\"}},\"header\":{\"fill\":{\"color\":\"#C8D4E3\"},\"line\":{\"color\":\"white\"}},\"type\":\"table\"}],\"barpolar\":[{\"marker\":{\"line\":{\"color\":\"#E5ECF6\",\"width\":0.5},\"pattern\":{\"fillmode\":\"overlay\",\"size\":10,\"solidity\":0.2}},\"type\":\"barpolar\"}],\"pie\":[{\"automargin\":true,\"type\":\"pie\"}]},\"layout\":{\"autotypenumbers\":\"strict\",\"colorway\":[\"#636efa\",\"#EF553B\",\"#00cc96\",\"#ab63fa\",\"#FFA15A\",\"#19d3f3\",\"#FF6692\",\"#B6E880\",\"#FF97FF\",\"#FECB52\"],\"font\":{\"color\":\"#2a3f5f\"},\"hovermode\":\"closest\",\"hoverlabel\":{\"align\":\"left\"},\"paper_bgcolor\":\"white\",\"plot_bgcolor\":\"#E5ECF6\",\"polar\":{\"bgcolor\":\"#E5ECF6\",\"angularaxis\":{\"gridcolor\":\"white\",\"linecolor\":\"white\",\"ticks\":\"\"},\"radialaxis\":{\"gridcolor\":\"white\",\"linecolor\":\"white\",\"ticks\":\"\"}},\"ternary\":{\"bgcolor\":\"#E5ECF6\",\"aaxis\":{\"gridcolor\":\"white\",\"linecolor\":\"white\",\"ticks\":\"\"},\"baxis\":{\"gridcolor\":\"white\",\"linecolor\":\"white\",\"ticks\":\"\"},\"caxis\":{\"gridcolor\":\"white\",\"linecolor\":\"white\",\"ticks\":\"\"}},\"coloraxis\":{\"colorbar\":{\"outlinewidth\":0,\"ticks\":\"\"}},\"colorscale\":{\"sequential\":[[0.0,\"#0d0887\"],[0.1111111111111111,\"#46039f\"],[0.2222222222222222,\"#7201a8\"],[0.3333333333333333,\"#9c179e\"],[0.4444444444444444,\"#bd3786\"],[0.5555555555555556,\"#d8576b\"],[0.6666666666666666,\"#ed7953\"],[0.7777777777777778,\"#fb9f3a\"],[0.8888888888888888,\"#fdca26\"],[1.0,\"#f0f921\"]],\"sequentialminus\":[[0.0,\"#0d0887\"],[0.1111111111111111,\"#46039f\"],[0.2222222222222222,\"#7201a8\"],[0.3333333333333333,\"#9c179e\"],[0.4444444444444444,\"#bd3786\"],[0.5555555555555556,\"#d8576b\"],[0.6666666666666666,\"#ed7953\"],[0.7777777777777778,\"#fb9f3a\"],[0.8888888888888888,\"#fdca26\"],[1.0,\"#f0f921\"]],\"diverging\":[[0,\"#8e0152\"],[0.1,\"#c51b7d\"],[0.2,\"#de77ae\"],[0.3,\"#f1b6da\"],[0.4,\"#fde0ef\"],[0.5,\"#f7f7f7\"],[0.6,\"#e6f5d0\"],[0.7,\"#b8e186\"],[0.8,\"#7fbc41\"],[0.9,\"#4d9221\"],[1,\"#276419\"]]},\"xaxis\":{\"gridcolor\":\"white\",\"linecolor\":\"white\",\"ticks\":\"\",\"title\":{\"standoff\":15},\"zerolinecolor\":\"white\",\"automargin\":true,\"zerolinewidth\":2},\"yaxis\":{\"gridcolor\":\"white\",\"linecolor\":\"white\",\"ticks\":\"\",\"title\":{\"standoff\":15},\"zerolinecolor\":\"white\",\"automargin\":true,\"zerolinewidth\":2},\"scene\":{\"xaxis\":{\"backgroundcolor\":\"#E5ECF6\",\"gridcolor\":\"white\",\"linecolor\":\"white\",\"showbackground\":true,\"ticks\":\"\",\"zerolinecolor\":\"white\",\"gridwidth\":2},\"yaxis\":{\"backgroundcolor\":\"#E5ECF6\",\"gridcolor\":\"white\",\"linecolor\":\"white\",\"showbackground\":true,\"ticks\":\"\",\"zerolinecolor\":\"white\",\"gridwidth\":2},\"zaxis\":{\"backgroundcolor\":\"#E5ECF6\",\"gridcolor\":\"white\",\"linecolor\":\"white\",\"showbackground\":true,\"ticks\":\"\",\"zerolinecolor\":\"white\",\"gridwidth\":2}},\"shapedefaults\":{\"line\":{\"color\":\"#2a3f5f\"}},\"annotationdefaults\":{\"arrowcolor\":\"#2a3f5f\",\"arrowhead\":0,\"arrowwidth\":1},\"geo\":{\"bgcolor\":\"white\",\"landcolor\":\"#E5ECF6\",\"subunitcolor\":\"white\",\"showland\":true,\"showlakes\":true,\"lakecolor\":\"white\"},\"title\":{\"x\":0.05},\"mapbox\":{\"style\":\"light\"}}},\"xaxis\":{\"anchor\":\"y\",\"domain\":[0.0,1.0],\"title\":{\"text\":\"PC1\"}},\"yaxis\":{\"anchor\":\"x\",\"domain\":[0.0,1.0],\"title\":{\"text\":\"PC2\"}},\"coloraxis\":{\"colorbar\":{\"title\":{\"text\":\"Clusters\"}},\"colorscale\":[[0.0,\"#0d0887\"],[0.1111111111111111,\"#46039f\"],[0.2222222222222222,\"#7201a8\"],[0.3333333333333333,\"#9c179e\"],[0.4444444444444444,\"#bd3786\"],[0.5555555555555556,\"#d8576b\"],[0.6666666666666666,\"#ed7953\"],[0.7777777777777778,\"#fb9f3a\"],[0.8888888888888888,\"#fdca26\"],[1.0,\"#f0f921\"]]},\"legend\":{\"tracegroupgap\":0},\"title\":{\"text\":\"An\\u00e1lise PCA em 3D\"}},                        {\"responsive\": true}                    ).then(function(){\n",
       "                            \n",
       "var gd = document.getElementById('c9014811-f16a-4dae-ad58-b80b40d1a198');\n",
       "var x = new MutationObserver(function (mutations, observer) {{\n",
       "        var display = window.getComputedStyle(gd).display;\n",
       "        if (!display || display === 'none') {{\n",
       "            console.log([gd, 'removed!']);\n",
       "            Plotly.purge(gd);\n",
       "            observer.disconnect();\n",
       "        }}\n",
       "}});\n",
       "\n",
       "// Listen for the removal of the full notebook cells\n",
       "var notebookContainer = gd.closest('#notebook-container');\n",
       "if (notebookContainer) {{\n",
       "    x.observe(notebookContainer, {childList: true});\n",
       "}}\n",
       "\n",
       "// Listen for the clearing of the current output cell\n",
       "var outputEl = gd.closest('.output');\n",
       "if (outputEl) {{\n",
       "    x.observe(outputEl, {childList: true});\n",
       "}}\n",
       "\n",
       "                        })                };                });            </script>        </div>"
      ]
     },
     "metadata": {},
     "output_type": "display_data"
    }
   ],
   "source": [
    "# GRÁFICOS DE DISPERSÃO COM EIXOS DOS PC1 E PC2 EVIDENCIANDO FORMAÇÃO DOS CLUSTERS\n",
    "\n",
    "fig = px.scatter(data_quanti_cluster, x='PC1', y='PC2', color='Clusters', custom_data=[data_quanti_cluster.index], title='Análise PCA em 3D')\n",
    "fig.update_traces(textposition='top center')  # Adicionar nomes dos pontos ao gráfico\n",
    "fig.update_traces(hovertemplate='%{customdata[0]}')\n",
    "\n",
    "fig.show()"
   ]
  },
  {
   "cell_type": "markdown",
   "id": "5215ff0e",
   "metadata": {},
   "source": [
    "Neste gráfico é possível encontrar alguns outliers e também verificar como ocorre a dispersão entre as todas as observações da nossa base de dados em relação aos componentes principais encontrados no estudo."
   ]
  },
  {
   "cell_type": "code",
   "execution_count": 155,
   "id": "c2936cf1",
   "metadata": {},
   "outputs": [
    {
     "data": {
      "image/png": "[encoded data removed]",
      "text/plain": [
       "<Figure size 1000x600 with 1 Axes>"
      ]
     },
     "metadata": {},
     "output_type": "display_data"
    }
   ],
   "source": [
    "#GRÁFICO DAS CARGAS DAS VARIÁVEIS PC1\n",
    "\n",
    "variable_loadings = pca.components_[:2]  \n",
    "variable_names = data_quanti.columns\n",
    "\n",
    "# Plotagem das cargas de variáveis na PC1\n",
    "plt.figure(figsize=(10, 6))\n",
    "plt.bar(range(len(variable_names)), variable_loadings[0], tick_label=variable_names, alpha=0.7)\n",
    "plt.title('Cargas das Variáveis na PC1')\n",
    "plt.xlabel('Variáveis')\n",
    "plt.ylabel('Carga na PC1')\n",
    "\n",
    "plt.xticks(range(len(variable_names)), variable_names, rotation='vertical')\n",
    "\n",
    "plt.show()"
   ]
  },
  {
   "cell_type": "code",
   "execution_count": 157,
   "id": "3b4ac3b0",
   "metadata": {},
   "outputs": [
    {
     "data": {
      "image/png": "[encoded data removed]",
      "text/plain": [
       "<Figure size 1000x600 with 1 Axes>"
      ]
     },
     "metadata": {},
     "output_type": "display_data"
    }
   ],
   "source": [
    "#GRÁFICO DAS CARGAS DAS VARIÁVEIS PC2\n",
    "\n",
    "variable_loadings = pca.components_[:2]\n",
    "variable_names = data_quanti.columns\n",
    "\n",
    "# Plotagem das cargas de variáveis na PC2\n",
    "plt.figure(figsize=(10, 6))\n",
    "plt.bar(range(len(variable_names)), variable_loadings[1], tick_label=variable_names, alpha=0.7)\n",
    "plt.title('Cargas das Variáveis na PC2')\n",
    "plt.xlabel('Variáveis')\n",
    "plt.ylabel('Carga na PC1')\n",
    "\n",
    "plt.xticks(range(len(variable_names)), variable_names, rotation='vertical')\n",
    "\n",
    "plt.show()"
   ]
  },
  {
   "cell_type": "markdown",
   "id": "287dcf1e",
   "metadata": {},
   "source": [
    "Analisando os autovetores dos componentes principais, uma forma interessante de clusterização poderia ser compreendida pelo valor de venda por mil unidades e cavalos de potência. Sendo essas duas variáveis principais as que se associam mais fortemente ao componente principal[0]."
   ]
  },
  {
   "cell_type": "markdown",
   "id": "48fdd8d6",
   "metadata": {},
   "source": [
    "### Clusterização utilizando DBSCAN"
   ]
  },
  {
   "cell_type": "code",
   "execution_count": 158,
   "id": "c9fd013f",
   "metadata": {},
   "outputs": [],
   "source": [
    "# RESETANDO O DATAFRAME data_quanti E SEPARANDO NOVAMENTE VARIÁVEIS QUANTITATIVAS\n",
    "\n",
    "data_quanti = data.iloc[:,[1,2,4,5,6,7,8,9,10,11,12,14]]"
   ]
  },
  {
   "cell_type": "code",
   "execution_count": 159,
   "id": "bdb35b6d",
   "metadata": {},
   "outputs": [
    {
     "data": {
      "text/html": [
       "<div>\n",
       "<style scoped>\n",
       "    .dataframe tbody tr th:only-of-type {\n",
       "        vertical-align: middle;\n",
       "    }\n",
       "\n",
       "    .dataframe tbody tr th {\n",
       "        vertical-align: top;\n",
       "    }\n",
       "\n",
       "    .dataframe thead th {\n",
       "        text-align: right;\n",
       "    }\n",
       "</style>\n",
       "<table border=\"1\" class=\"dataframe\">\n",
       "  <thead>\n",
       "    <tr style=\"text-align: right;\">\n",
       "      <th></th>\n",
       "      <th>Sales_in_thousands</th>\n",
       "      <th>__year_resale_value</th>\n",
       "      <th>Price_in_thousands</th>\n",
       "      <th>Engine_size</th>\n",
       "      <th>Horsepower</th>\n",
       "      <th>Wheelbase</th>\n",
       "      <th>Width</th>\n",
       "      <th>Length</th>\n",
       "      <th>Curb_weight</th>\n",
       "      <th>Fuel_capacity</th>\n",
       "      <th>Fuel_efficiency</th>\n",
       "      <th>Power_perf_factor</th>\n",
       "    </tr>\n",
       "  </thead>\n",
       "  <tbody>\n",
       "    <tr>\n",
       "      <th>Integra</th>\n",
       "      <td>16.919</td>\n",
       "      <td>16.360</td>\n",
       "      <td>21.500000</td>\n",
       "      <td>1.8</td>\n",
       "      <td>140.0</td>\n",
       "      <td>101.2</td>\n",
       "      <td>67.3</td>\n",
       "      <td>172.4</td>\n",
       "      <td>2.639</td>\n",
       "      <td>13.2</td>\n",
       "      <td>28.0</td>\n",
       "      <td>58.280150</td>\n",
       "    </tr>\n",
       "    <tr>\n",
       "      <th>TL</th>\n",
       "      <td>39.384</td>\n",
       "      <td>19.875</td>\n",
       "      <td>28.400000</td>\n",
       "      <td>3.2</td>\n",
       "      <td>225.0</td>\n",
       "      <td>108.1</td>\n",
       "      <td>70.3</td>\n",
       "      <td>192.9</td>\n",
       "      <td>3.517</td>\n",
       "      <td>17.2</td>\n",
       "      <td>25.0</td>\n",
       "      <td>91.370778</td>\n",
       "    </tr>\n",
       "    <tr>\n",
       "      <th>CL</th>\n",
       "      <td>14.114</td>\n",
       "      <td>18.225</td>\n",
       "      <td>27.390755</td>\n",
       "      <td>3.2</td>\n",
       "      <td>225.0</td>\n",
       "      <td>106.9</td>\n",
       "      <td>70.6</td>\n",
       "      <td>192.0</td>\n",
       "      <td>3.470</td>\n",
       "      <td>17.2</td>\n",
       "      <td>26.0</td>\n",
       "      <td>77.043591</td>\n",
       "    </tr>\n",
       "    <tr>\n",
       "      <th>RL</th>\n",
       "      <td>8.588</td>\n",
       "      <td>29.725</td>\n",
       "      <td>42.000000</td>\n",
       "      <td>3.5</td>\n",
       "      <td>210.0</td>\n",
       "      <td>114.6</td>\n",
       "      <td>71.4</td>\n",
       "      <td>196.6</td>\n",
       "      <td>3.850</td>\n",
       "      <td>18.0</td>\n",
       "      <td>22.0</td>\n",
       "      <td>91.389779</td>\n",
       "    </tr>\n",
       "    <tr>\n",
       "      <th>A4</th>\n",
       "      <td>20.397</td>\n",
       "      <td>22.255</td>\n",
       "      <td>23.990000</td>\n",
       "      <td>1.8</td>\n",
       "      <td>150.0</td>\n",
       "      <td>102.6</td>\n",
       "      <td>68.2</td>\n",
       "      <td>178.0</td>\n",
       "      <td>2.998</td>\n",
       "      <td>16.4</td>\n",
       "      <td>27.0</td>\n",
       "      <td>62.777639</td>\n",
       "    </tr>\n",
       "  </tbody>\n",
       "</table>\n",
       "</div>"
      ],
      "text/plain": [
       "         Sales_in_thousands  __year_resale_value  Price_in_thousands  \\\n",
       "Integra              16.919               16.360           21.500000   \n",
       "TL                   39.384               19.875           28.400000   \n",
       "CL                   14.114               18.225           27.390755   \n",
       "RL                    8.588               29.725           42.000000   \n",
       "A4                   20.397               22.255           23.990000   \n",
       "\n",
       "         Engine_size  Horsepower  Wheelbase  Width  Length  Curb_weight  \\\n",
       "Integra          1.8       140.0      101.2   67.3   172.4        2.639   \n",
       "TL               3.2       225.0      108.1   70.3   192.9        3.517   \n",
       "CL               3.2       225.0      106.9   70.6   192.0        3.470   \n",
       "RL               3.5       210.0      114.6   71.4   196.6        3.850   \n",
       "A4               1.8       150.0      102.6   68.2   178.0        2.998   \n",
       "\n",
       "         Fuel_capacity  Fuel_efficiency  Power_perf_factor  \n",
       "Integra           13.2             28.0          58.280150  \n",
       "TL                17.2             25.0          91.370778  \n",
       "CL                17.2             26.0          77.043591  \n",
       "RL                18.0             22.0          91.389779  \n",
       "A4                16.4             27.0          62.777639  "
      ]
     },
     "execution_count": 159,
     "metadata": {},
     "output_type": "execute_result"
    }
   ],
   "source": [
    "data_quanti.head()"
   ]
  },
  {
   "cell_type": "code",
   "execution_count": 160,
   "id": "74d8b71b",
   "metadata": {},
   "outputs": [
    {
     "data": {
      "text/plain": [
       "array([[-0.53204229, -0.17107102, -0.41443696, ..., -1.23008725,\n",
       "         0.98298105, -0.75351287],\n",
       "       [-0.20076081,  0.17996421,  0.07100423, ..., -0.19464351,\n",
       "         0.27339161,  0.57535923],\n",
       "       [-0.5734064 ,  0.01518238,  0.        , ..., -0.19464351,\n",
       "         0.50992142,  0.        ],\n",
       "       ...,\n",
       "       [-0.5230174 ,  0.        ,  0.09914575, ..., -0.01344086,\n",
       "         0.27339161, -0.23643811],\n",
       "       [-0.73002962,  0.        ,  1.27405414, ...,  0.1418757 ,\n",
       "        -0.19966803,  0.9870881 ],\n",
       "       [-0.50181184,  0.        ,  0.60569308, ...,  0.81491414,\n",
       "         0.03686179,  0.34906078]])"
      ]
     },
     "execution_count": 160,
     "metadata": {},
     "output_type": "execute_result"
    }
   ],
   "source": [
    "# PADRONIZAÇÃO DAS VARIÁVEIS\n",
    "\n",
    "scaler = StandardScaler()\n",
    "\n",
    "data_quanti_std = scaler.fit_transform(data_quanti)\n",
    "\n",
    "data_quanti_std"
   ]
  },
  {
   "cell_type": "code",
   "execution_count": 161,
   "id": "285ec078",
   "metadata": {},
   "outputs": [],
   "source": [
    "# UTILIZANDO A BIBLIOTECA SKLEARN PARA CRIAR A VARIÁVEL dbscan DA INSTÂNCIA DBSCAN\n",
    "# APÓS ALGUNS AJUSTES, DEFINI OS VALORES COMO OS ABAIXO\n",
    "\n",
    "dbscan = DBSCAN(eps=1.2, min_samples=8)"
   ]
  },
  {
   "cell_type": "code",
   "execution_count": 162,
   "id": "4d4ab1a9",
   "metadata": {},
   "outputs": [],
   "source": [
    "# ARMAZENANDO OS RÓTULOS DE CLUSTERS EM UMA VARIÁVEL\n",
    "clusters = dbscan.fit_predict(data_quanti_std)"
   ]
  },
  {
   "cell_type": "code",
   "execution_count": 163,
   "id": "1471afeb",
   "metadata": {
    "scrolled": true
   },
   "outputs": [
    {
     "data": {
      "text/plain": [
       "array([-1,  0,  0, -1,  0, -1, -1,  0, -1, -1, -1, -1, -1, -1, -1, -1, -1,\n",
       "        0, -1, -1, -1, -1, -1, -1, -1,  1, -1, -1,  0,  0, -1,  0, -1,  0,\n",
       "       -1, -1,  0,  0, -1, -1, -1, -1, -1, -1, -1, -1,  1, -1,  0, -1, -1,\n",
       "       -1, -1, -1, -1, -1, -1, -1, -1,  0, -1, -1, -1,  1,  0,  0, -1, -1,\n",
       "       -1, -1,  0, -1, -1, -1, -1, -1, -1, -1, -1,  1,  0,  0,  0, -1, -1,\n",
       "       -1, -1,  0, -1, -1, -1, -1, -1, -1, -1, -1, -1, -1, -1, -1, -1,  1,\n",
       "        0,  0, -1, -1, -1, -1,  0,  0,  0, -1, -1, -1, -1, -1, -1, -1,  0,\n",
       "       -1, -1, -1, -1, -1, -1, -1, -1,  0,  0, -1,  1,  1, -1,  0,  0,  0,\n",
       "       -1, -1,  0,  1, -1, -1, -1, -1, -1, -1, -1,  0, -1, -1, -1,  0, -1,\n",
       "        0,  0, -1, -1], dtype=int64)"
      ]
     },
     "execution_count": 163,
     "metadata": {},
     "output_type": "execute_result"
    }
   ],
   "source": [
    "clusters"
   ]
  },
  {
   "cell_type": "code",
   "execution_count": 164,
   "id": "eac13b85",
   "metadata": {},
   "outputs": [],
   "source": [
    "# CRIANDO NOVO DATAFRAME COM DADOS PADRONIZADOS E CLUSTERS\n",
    "data_dbscan = pd.DataFrame(data_quanti_std, columns = data_quanti.columns)\n",
    "data_dbscan.index = data.index\n",
    "data_dbscan['Clusters'] = clusters"
   ]
  },
  {
   "cell_type": "code",
   "execution_count": 165,
   "id": "59344f0b",
   "metadata": {},
   "outputs": [
    {
     "data": {
      "text/html": [
       "<div>\n",
       "<style scoped>\n",
       "    .dataframe tbody tr th:only-of-type {\n",
       "        vertical-align: middle;\n",
       "    }\n",
       "\n",
       "    .dataframe tbody tr th {\n",
       "        vertical-align: top;\n",
       "    }\n",
       "\n",
       "    .dataframe thead th {\n",
       "        text-align: right;\n",
       "    }\n",
       "</style>\n",
       "<table border=\"1\" class=\"dataframe\">\n",
       "  <thead>\n",
       "    <tr style=\"text-align: right;\">\n",
       "      <th></th>\n",
       "      <th>Sales_in_thousands</th>\n",
       "      <th>__year_resale_value</th>\n",
       "      <th>Price_in_thousands</th>\n",
       "      <th>Engine_size</th>\n",
       "      <th>Horsepower</th>\n",
       "      <th>Wheelbase</th>\n",
       "      <th>Width</th>\n",
       "      <th>Length</th>\n",
       "      <th>Curb_weight</th>\n",
       "      <th>Fuel_capacity</th>\n",
       "      <th>Fuel_efficiency</th>\n",
       "      <th>Power_perf_factor</th>\n",
       "      <th>Clusters</th>\n",
       "    </tr>\n",
       "  </thead>\n",
       "  <tbody>\n",
       "    <tr>\n",
       "      <th>Integra</th>\n",
       "      <td>-0.532042</td>\n",
       "      <td>-0.171071</td>\n",
       "      <td>-0.414437</td>\n",
       "      <td>-1.214763</td>\n",
       "      <td>-0.81559</td>\n",
       "      <td>-0.828080</td>\n",
       "      <td>-1.122510</td>\n",
       "      <td>-1.119712</td>\n",
       "      <td>-1.183485</td>\n",
       "      <td>-1.230087</td>\n",
       "      <td>0.982981</td>\n",
       "      <td>-0.753513</td>\n",
       "      <td>-1</td>\n",
       "    </tr>\n",
       "    <tr>\n",
       "      <th>TL</th>\n",
       "      <td>-0.200761</td>\n",
       "      <td>0.179964</td>\n",
       "      <td>0.071004</td>\n",
       "      <td>0.134013</td>\n",
       "      <td>0.69316</td>\n",
       "      <td>0.080714</td>\n",
       "      <td>-0.247827</td>\n",
       "      <td>0.416338</td>\n",
       "      <td>0.222555</td>\n",
       "      <td>-0.194644</td>\n",
       "      <td>0.273392</td>\n",
       "      <td>0.575359</td>\n",
       "      <td>0</td>\n",
       "    </tr>\n",
       "    <tr>\n",
       "      <th>CL</th>\n",
       "      <td>-0.573406</td>\n",
       "      <td>0.015182</td>\n",
       "      <td>0.000000</td>\n",
       "      <td>0.134013</td>\n",
       "      <td>0.69316</td>\n",
       "      <td>-0.077337</td>\n",
       "      <td>-0.160359</td>\n",
       "      <td>0.348901</td>\n",
       "      <td>0.147289</td>\n",
       "      <td>-0.194644</td>\n",
       "      <td>0.509921</td>\n",
       "      <td>0.000000</td>\n",
       "      <td>0</td>\n",
       "    </tr>\n",
       "    <tr>\n",
       "      <th>RL</th>\n",
       "      <td>-0.654896</td>\n",
       "      <td>1.163662</td>\n",
       "      <td>1.027816</td>\n",
       "      <td>0.423037</td>\n",
       "      <td>0.42691</td>\n",
       "      <td>0.936825</td>\n",
       "      <td>0.072890</td>\n",
       "      <td>0.693576</td>\n",
       "      <td>0.755825</td>\n",
       "      <td>0.012445</td>\n",
       "      <td>-0.436198</td>\n",
       "      <td>0.576122</td>\n",
       "      <td>-1</td>\n",
       "    </tr>\n",
       "    <tr>\n",
       "      <th>A4</th>\n",
       "      <td>-0.480754</td>\n",
       "      <td>0.417650</td>\n",
       "      <td>-0.239256</td>\n",
       "      <td>-1.214763</td>\n",
       "      <td>-0.63809</td>\n",
       "      <td>-0.643687</td>\n",
       "      <td>-0.860105</td>\n",
       "      <td>-0.700108</td>\n",
       "      <td>-0.608578</td>\n",
       "      <td>-0.401732</td>\n",
       "      <td>0.746451</td>\n",
       "      <td>-0.572900</td>\n",
       "      <td>0</td>\n",
       "    </tr>\n",
       "  </tbody>\n",
       "</table>\n",
       "</div>"
      ],
      "text/plain": [
       "         Sales_in_thousands  __year_resale_value  Price_in_thousands  \\\n",
       "Integra           -0.532042            -0.171071           -0.414437   \n",
       "TL                -0.200761             0.179964            0.071004   \n",
       "CL                -0.573406             0.015182            0.000000   \n",
       "RL                -0.654896             1.163662            1.027816   \n",
       "A4                -0.480754             0.417650           -0.239256   \n",
       "\n",
       "         Engine_size  Horsepower  Wheelbase     Width    Length  Curb_weight  \\\n",
       "Integra    -1.214763    -0.81559  -0.828080 -1.122510 -1.119712    -1.183485   \n",
       "TL          0.134013     0.69316   0.080714 -0.247827  0.416338     0.222555   \n",
       "CL          0.134013     0.69316  -0.077337 -0.160359  0.348901     0.147289   \n",
       "RL          0.423037     0.42691   0.936825  0.072890  0.693576     0.755825   \n",
       "A4         -1.214763    -0.63809  -0.643687 -0.860105 -0.700108    -0.608578   \n",
       "\n",
       "         Fuel_capacity  Fuel_efficiency  Power_perf_factor  Clusters  \n",
       "Integra      -1.230087         0.982981          -0.753513        -1  \n",
       "TL           -0.194644         0.273392           0.575359         0  \n",
       "CL           -0.194644         0.509921           0.000000         0  \n",
       "RL            0.012445        -0.436198           0.576122        -1  \n",
       "A4           -0.401732         0.746451          -0.572900         0  "
      ]
     },
     "execution_count": 165,
     "metadata": {},
     "output_type": "execute_result"
    }
   ],
   "source": [
    "data_dbscan.head()"
   ]
  },
  {
   "cell_type": "code",
   "execution_count": 166,
   "id": "5e238df1",
   "metadata": {
    "scrolled": false
   },
   "outputs": [
    {
     "data": {
      "application/vnd.plotly.v1+json": {
       "config": {
        "plotlyServerURL": "https://plot.ly"
       },
       "data": [
        {
         "customdata": [
          [
           "Integra"
          ],
          [
           "TL"
          ],
          [
           "CL"
          ],
          [
           "RL"
          ],
          [
           "A4"
          ],
          [
           "A6"
          ],
          [
           "A8"
          ],
          [
           "323i"
          ],
          [
           "328i"
          ],
          [
           "528i"
          ],
          [
           "Century"
          ],
          [
           "Regal"
          ],
          [
           "Park Avenue"
          ],
          [
           "LeSabre"
          ],
          [
           "DeVille"
          ],
          [
           "Seville"
          ],
          [
           "Eldorado"
          ],
          [
           "Catera"
          ],
          [
           "Escalade"
          ],
          [
           "Cavalier"
          ],
          [
           "Malibu"
          ],
          [
           "Lumina"
          ],
          [
           "Monte Carlo"
          ],
          [
           "Camaro"
          ],
          [
           "Corvette"
          ],
          [
           "Prizm"
          ],
          [
           "Metro"
          ],
          [
           "Impala"
          ],
          [
           "Sebring Coupe"
          ],
          [
           "Sebring Conv."
          ],
          [
           "Concorde"
          ],
          [
           "Cirrus"
          ],
          [
           "LHS"
          ],
          [
           "Town & Country"
          ],
          [
           "300M"
          ],
          [
           "Neon"
          ],
          [
           "Avenger"
          ],
          [
           "Stratus"
          ],
          [
           "Intrepid"
          ],
          [
           "Viper"
          ],
          [
           "Ram Pickup"
          ],
          [
           "Ram Wagon"
          ],
          [
           "Ram Van"
          ],
          [
           "Dakota"
          ],
          [
           "Durango"
          ],
          [
           "Caravan"
          ],
          [
           "Escort"
          ],
          [
           "Mustang"
          ],
          [
           "Contour"
          ],
          [
           "Taurus"
          ],
          [
           "Focus"
          ],
          [
           "Crown Victoria"
          ],
          [
           "Explorer"
          ],
          [
           "Windstar"
          ],
          [
           "Expedition"
          ],
          [
           "Ranger"
          ],
          [
           "F-Series"
          ],
          [
           "Civic"
          ],
          [
           "Accord"
          ],
          [
           "CR-V"
          ],
          [
           "Passport"
          ],
          [
           "Odyssey"
          ],
          [
           "Accent"
          ],
          [
           "Elantra"
          ],
          [
           "Sonata"
          ],
          [
           "I30"
          ],
          [
           "S-Type"
          ],
          [
           "Wrangler"
          ],
          [
           "Cherokee"
          ],
          [
           "Grand Cherokee"
          ],
          [
           "ES300"
          ],
          [
           "GS300"
          ],
          [
           "GS400"
          ],
          [
           "LS400"
          ],
          [
           "LX470"
          ],
          [
           "RX300"
          ],
          [
           "Continental"
          ],
          [
           "Town car"
          ],
          [
           "Navigator"
          ],
          [
           "Mirage"
          ],
          [
           "Eclipse"
          ],
          [
           "Galant"
          ],
          [
           "Diamante"
          ],
          [
           "3000GT"
          ],
          [
           "Montero"
          ],
          [
           "Montero Sport"
          ],
          [
           "Mystique"
          ],
          [
           "Cougar"
          ],
          [
           "Sable"
          ],
          [
           "Grand Marquis"
          ],
          [
           "Mountaineer"
          ],
          [
           "Villager"
          ],
          [
           "C-Class"
          ],
          [
           "E-Class"
          ],
          [
           "S-Class"
          ],
          [
           "SL-Class"
          ],
          [
           "SLK"
          ],
          [
           "SLK230"
          ],
          [
           "CLK Coupe"
          ],
          [
           "CL500"
          ],
          [
           "M-Class"
          ],
          [
           "Sentra"
          ],
          [
           "Altima"
          ],
          [
           "Maxima"
          ],
          [
           "Quest"
          ],
          [
           "Pathfinder"
          ],
          [
           "Xterra"
          ],
          [
           "Frontier"
          ],
          [
           "Cutlass"
          ],
          [
           "Intrigue"
          ],
          [
           "Alero"
          ],
          [
           "Aurora"
          ],
          [
           "Bravada"
          ],
          [
           "Silhouette"
          ],
          [
           "Neon"
          ],
          [
           "Breeze"
          ],
          [
           "Voyager"
          ],
          [
           "Prowler"
          ],
          [
           "Sunfire"
          ],
          [
           "Grand Am"
          ],
          [
           "Firebird"
          ],
          [
           "Grand Prix"
          ],
          [
           "Bonneville"
          ],
          [
           "Montana"
          ],
          [
           "Boxter"
          ],
          [
           "Carrera Coupe"
          ],
          [
           "Carrera Cabrio"
          ],
          [
           "5-Sep"
          ],
          [
           "3-Sep"
          ],
          [
           "SL"
          ],
          [
           "SC"
          ],
          [
           "SW"
          ],
          [
           "LW"
          ],
          [
           "LS"
          ],
          [
           "Outback"
          ],
          [
           "Forester"
          ],
          [
           "Corolla"
          ],
          [
           "Camry"
          ],
          [
           "Avalon"
          ],
          [
           "Celica"
          ],
          [
           "Tacoma"
          ],
          [
           "Sienna"
          ],
          [
           "RAV4"
          ],
          [
           "4Runner"
          ],
          [
           "Land Cruiser"
          ],
          [
           "Golf"
          ],
          [
           "Jetta"
          ],
          [
           "Passat"
          ],
          [
           "Cabrio"
          ],
          [
           "GTI"
          ],
          [
           "Beetle"
          ],
          [
           "S40"
          ],
          [
           "V40"
          ],
          [
           "S70"
          ],
          [
           "V70"
          ],
          [
           "C70"
          ],
          [
           "S80"
          ]
         ],
         "hovertemplate": "%{customdata[0]}",
         "legendgroup": "",
         "marker": {
          "color": [
           -1,
           0,
           0,
           -1,
           0,
           -1,
           -1,
           0,
           -1,
           -1,
           -1,
           -1,
           -1,
           -1,
           -1,
           -1,
           -1,
           0,
           -1,
           -1,
           -1,
           -1,
           -1,
           -1,
           -1,
           1,
           -1,
           -1,
           0,
           0,
           -1,
           0,
           -1,
           0,
           -1,
           -1,
           0,
           0,
           -1,
           -1,
           -1,
           -1,
           -1,
           -1,
           -1,
           -1,
           1,
           -1,
           0,
           -1,
           -1,
           -1,
           -1,
           -1,
           -1,
           -1,
           -1,
           -1,
           -1,
           0,
           -1,
           -1,
           -1,
           1,
           0,
           0,
           -1,
           -1,
           -1,
           -1,
           0,
           -1,
           -1,
           -1,
           -1,
           -1,
           -1,
           -1,
           -1,
           1,
           0,
           0,
           0,
           -1,
           -1,
           -1,
           -1,
           0,
           -1,
           -1,
           -1,
           -1,
           -1,
           -1,
           -1,
           -1,
           -1,
           -1,
           -1,
           -1,
           -1,
           1,
           0,
           0,
           -1,
           -1,
           -1,
           -1,
           0,
           0,
           0,
           -1,
           -1,
           -1,
           -1,
           -1,
           -1,
           -1,
           0,
           -1,
           -1,
           -1,
           -1,
           -1,
           -1,
           -1,
           -1,
           0,
           0,
           -1,
           1,
           1,
           -1,
           0,
           0,
           0,
           -1,
           -1,
           0,
           1,
           -1,
           -1,
           -1,
           -1,
           -1,
           -1,
           -1,
           0,
           -1,
           -1,
           -1,
           0,
           -1,
           0,
           0,
           -1,
           -1
          ],
          "coloraxis": "coloraxis",
          "symbol": "circle"
         },
         "mode": "markers",
         "name": "",
         "scene": "scene",
         "showlegend": false,
         "textposition": "top center",
         "type": "scatter3d",
         "x": [
          -0.41443696386552725,
          0.07100422813262942,
          0,
          1.0278158529405907,
          -0.23925601197054033,
          0.461467795609408,
          2.4348917717758276,
          -0.02819462414525479,
          0.4227732078414387,
          0.8097190855211288,
          -0.3810189107931903,
          -0.14709253928683216,
          0.3218155106650105,
          0.03477202322262229,
          0.8797211124831822,
          1.2019414978964513,
          0.8635397394165767,
          0.25462763554062806,
          1.3250606407945347,
          -0.9941522424256449,
          -0.7637435607163748,
          -0.5980603712735256,
          -0.5628834733026447,
          -0.2146321833909236,
          1.2884766669048182,
          -0.9449045852664115,
          -1.2773262710912363,
          -0.5980603712735256,
          -0.5312242651288519,
          -0.20372734501995043,
          -0.3620233858889146,
          -0.7676130194931717,
          0.06678300037612381,
          0,
          0.1262319579469125,
          -1.0377715959095373,
          -0.5871555329025525,
          -0.5037862847115647,
          -0.34373139894405663,
          2.978374845425938,
          -0.5579587075867214,
          -0.4274524161147531,
          -0.6202218169951808,
          -0.7324361215222908,
          -0.07603520538565282,
          -0.5505715590128363,
          -1.0778732595963414,
          -0.4102157361090216,
          -0.7285666627454939,
          -0.6687659361949962,
          -1.0606365795906099,
          -0.36554107568600275,
          0.31935312780704883,
          -0.4207688055002858,
          0.6151908397421573,
          -1.0792803355151768,
          -0.03206408292205167,
          -1.0205349159038055,
          -0.8471128089073626,
          -0.4812730700102009,
          -0.0556326045625417,
          -0.09784488212759891,
          -1.2446821097742589,
          -1.096939138296559,
          -0.8718069912829209,
          0.14593102081060588,
          1.084098889694,
          -0.9097276872955306,
          -0.40599450835251577,
          -0.034878234759722085,
          0.2894527645318,
          0.7326816789648997,
          1.3306889444698755,
          1.872413173221442,
          2.301571328466189,
          0.5075495319512616,
          0.822382768790646,
          1.1213864015431338,
          1.0742493582621533,
          -0.943005032775984,
          -0.5870148253106691,
          -0.7059127404522466,
          -0.16840973945718604,
          -0.13653946989556798,
          0.31069961090621206,
          -0.34218361543333775,
          -0.7844979305191947,
          -0.763391791736666,
          -0.5878590708619702,
          -0.33669601934988036,
          0.011907039541549485,
          -0.3433796299643477,
          0.3066894445375317,
          1.5836108408805092,
          2.976616000527394,
          3.8841799681761215,
          0.8097190855211288,
          0.9574620569988288,
          0.9996743345638861,
          4.088205976407231,
          0.5564454201307861,
          -0.9773376851955637,
          -0.4925296773608829,
          -0.0803267869381003,
          -0.06977371754683587,
          0.13425229068427338,
          -0.3230473829371786,
          -0.6684141672152875,
          -0.6504739492501382,
          -0.22799940461985843,
          -0.6416797247574181,
          0.621804096560683,
          0.29599566755438383,
          -0.143926618469453,
          -1.0377715959095373,
          -0.7957545378698766,
          -0.600874523111196,
          1.0981696488823525,
          -0.40669804631193346,
          -0.5396667206418634,
          -0.14638900132741467,
          -0.4028285875351366,
          -0.2557891540168543,
          -0.12352401764634188,
          0.9877141892537864,
          3.069483011170519,
          3.347380505140479,
          0.4030741449777453,
          -0.09080950253342263,
          -1.1753132669756814,
          -1.0451587444834223,
          -0.9216878326056303,
          -0.6019298300503225,
          -0.8710330995275617,
          -0.33036417771512183,
          -0.5132840471637027,
          -1.0048460194087927,
          -0.6945857793056229,
          -0.12985585928110044,
          -0.7398232700961758,
          -1.1160050169967763,
          -0.35336986898807804,
          -0.7389086707489327,
          -0.3589981726634189,
          1.71221757986205,
          -0.8787720170811554,
          -0.7521351843859841,
          -0.43554310264805585,
          -0.5206711957375877,
          -0.6958521476325746,
          -0.8084182211393935,
          -0.2807647515761798,
          -0.21041095563441797,
          0.007685811785043864,
          0.09914574650933432,
          1.2740541387367572,
          0.6056930772900196
         ],
         "y": [
          -0.7535128695267534,
          0.5753592312543503,
          0,
          0.5761223110310294,
          -0.5729001433489017,
          0.30205319245440876,
          2.313666057537819,
          -0.23502335585563955,
          0.19410550882435695,
          0.27930813610552135,
          -0.23541511830718337,
          0.7466726472399088,
          0.352785635793686,
          0.2895807774399371,
          1.4782771484012647,
          1.5492277005823039,
          1.474714132035747,
          0.25860116702718794,
          1.3037688684789126,
          -1.2320745247415603,
          -0.39070784913737366,
          -0.2832060468441765,
          -0.20130178898527123,
          0.16364422499435546,
          2.5740659033759736,
          -1.1543962714188931,
          -2.159218304315126,
          -0.20904748241097557,
          -0.44521419230340603,
          -0.3020822002519678,
          0.11968018390268573,
          -0.9428183172163255,
          0.9752784107698046,
          0,
          0.9883686327596419,
          -1.0023052427257364,
          -0.4575298447498796,
          -0.3681529652736239,
          0.1521157791880965,
          4.461645824301816,
          0.5288123391236699,
          -0.23726882596542498,
          -0.2797152259382856,
          -1.1002880012211174,
          0.6349283388550294,
          -0.6351715741174316,
          -1.3236215131683915,
          -0.021461003169612056,
          -0.3892401114594353,
          -0.5838995619215077,
          -1.3624378753454662,
          0.13878580816296068,
          0.4253556756287304,
          -0.6003120099300048,
          0.9228924317398047,
          -1.1908644555497936,
          0.4962933268711543,
          -1.3719970058232365,
          -0.9145728548300538,
          -0.6809135312083299,
          0.2633963894877136,
          0.32826012181006914,
          -1.6212537320936573,
          -0.9017021608338935,
          -0.7343130810645344,
          0.6181727407380342,
          1.0094013070663665,
          -1.1393262960866681,
          -0.018438868042605288,
          0.13429778385670682,
          0.4083085765368747,
          0.7189630723747419,
          1.926396915569206,
          1.9036414228127632,
          1.1532281270058211,
          0.5983710480917074,
          1.4656516694225195,
          0.6792550274395002,
          1.8845793734052922,
          -1.2534054249762365,
          -0.5863804435401174,
          -0.7403961428848197,
          0.31272226105913636,
          -0.38148371698123973,
          0.2761794321978037,
          -0.2563180334673693,
          -1.0459636711232332,
          -1.0413162550678103,
          -0.5944923015456388,
          0.14513727657124545,
          0.3576583152888651,
          -0.29605416088467884,
          0.04968175271672065,
          0.8516083787499722,
          1.9368589563364056,
          2.527527894721187,
          0.2314647544604428,
          0.19297708048987705,
          0.6378063645743152,
          2.572452914582346,
          0.5402106278120231,
          -1.0763142968259731,
          -0.5513715939076834,
          0.49733285458664567,
          -0.235808157801055,
          -0.19088313593196846,
          -0.2915771500645421,
          -0.367624368138189,
          -0.6498450619414983,
          0.3706206426942803,
          -0.6552329203911958,
          1.0601098387920107,
          0.13927316767400413,
          -0.03803099442858646,
          -1.0023052427257364,
          -0.949014871956889,
          -0.6462479160173785,
          1.202382140806706,
          -0.6034916883074891,
          -0.26720921788362384,
          0.17867087003942989,
          0.05118517890870775,
          0.22560134994440972,
          -0.03353849204088529,
          0.658349033322229,
          2.3029885861552057,
          2.3641795632143077,
          -0.14215380657321636,
          -0.04098356086762378,
          -1.488162582532208,
          -1.4595035170578938,
          -1.0914221187934638,
          -0.8332238630072061,
          -0.8924784178142426,
          -0.3725784486405703,
          -0.41285605405264875,
          -1.167594932775342,
          -0.9104416887580458,
          0.31597991090247635,
          -0.8251605334133316,
          -0.8733071881146578,
          0.03950109858850733,
          -1.00751741790011,
          -0.5898495499073994,
          1.0234567802952927,
          -1.2087613022211712,
          -1.180876805888635,
          -0.6161211124635405,
          -1.1299101433482917,
          -1.1684836964075078,
          -1.1932699153697623,
          -0.4389545629162222,
          -0.423463176064813,
          -0.25657690922342635,
          -0.23643810631659445,
          0.9870881006521484,
          0.34906077880978065
         ],
         "z": [
          0.9829810521190283,
          0.27339160512060495,
          0.5099214207867461,
          -0.43619784187781835,
          0.7464512364528871,
          -0.43619784187781835,
          -0.6727276575439595,
          0.5099214207867461,
          0.036861789454463875,
          0.27339160512060495,
          0.27339160512060495,
          -0.19966802621167723,
          0.036861789454463875,
          0.27339160512060495,
          -0.43619784187781835,
          -0.43619784187781835,
          -0.43619784187781835,
          -0.43619784187781835,
          -2.091906551540806,
          0.7464512364528871,
          0.27339160512060495,
          0.27339160512060495,
          0.7464512364528871,
          0.27339160512060495,
          -0.43619784187781835,
          2.165630130449734,
          5.003987918443427,
          0.7464512364528871,
          0.036861789454463875,
          0.036861789454463875,
          0.5099214207867461,
          0.7464512364528871,
          -0.19966802621167723,
          0,
          -0.19966802621167723,
          1.2195108677851694,
          0.036861789454463875,
          0.036861789454463875,
          0,
          -1.855376735874665,
          -1.6188469202085238,
          -2.091906551540806,
          -1.855376735874665,
          -1.1457872888762417,
          -1.6188469202085238,
          0.036861789454463875,
          1.4560406834513104,
          0.036861789454463875,
          0.27339160512060495,
          0.036861789454463875,
          1.4560406834513104,
          -0.6727276575439595,
          -1.1457872888762417,
          -0.6727276575439595,
          -1.855376735874665,
          -0.19966802621167723,
          -1.3823171045423828,
          1.9291003147835928,
          0.7464512364528871,
          0.036861789454463875,
          -1.1457872888762417,
          -0.19966802621167723,
          1.6925704991174515,
          0.7464512364528871,
          0.27339160512060495,
          0.27339160512060495,
          -0.6727276575439595,
          -1.6188469202085238,
          -0.9092574732101005,
          -1.1457872888762417,
          -0.19966802621167723,
          -0.19966802621167723,
          -0.6727276575439595,
          -0.43619784187781835,
          -2.091906551540806,
          -0.6727276575439595,
          -0.43619784187781835,
          -0.6727276575439595,
          -2.091906551540806,
          1.4560406834513104,
          0.036861789454463875,
          0.27339160512060495,
          -0.43619784187781835,
          -0.6727276575439595,
          -1.3823171045423828,
          -0.9092574732101005,
          0.9829810521190283,
          1.4560406834513104,
          0.036861789454463875,
          -0.6727276575439595,
          -1.3823171045423828,
          -0.6727276575439595,
          0.5099214207867461,
          0.27339160512060495,
          -0.6727276575439595,
          -0.9092574732101005,
          0.5099214207867461,
          0.7464512364528871,
          0.5099214207867461,
          -0.9092574732101005,
          -0.9092574732101005,
          1.4560406834513104,
          0.27339160512060495,
          0.27339160512060495,
          -0.6727276575439595,
          -1.1457872888762417,
          -1.3823171045423828,
          -1.3823171045423828,
          0.27339160512060495,
          0,
          0.7464512364528871,
          -0.43619784187781835,
          -1.1457872888762417,
          -0.43619784187781835,
          1.2195108677851694,
          0.7464512364528871,
          0.036861789454463875,
          -0.6727276575439595,
          0.7464512364528871,
          0.27339160512060495,
          0.27339160512060495,
          0.27339160512060495,
          0.036861789454463875,
          -0.19966802621167723,
          -0.43619784187781835,
          -0.6727276575439595,
          -0.19966802621167723,
          -0.19966802621167723,
          -0.19966802621167723,
          2.165630130449734,
          2.165630130449734,
          1.6925704991174515,
          0.7464512364528871,
          0.9829810521190283,
          0.27339160512060495,
          0.036861789454463875,
          2.165630130449734,
          0.7464512364528871,
          0.5099214207867461,
          1.6925704991174515,
          -0.19966802621167723,
          -0.43619784187781835,
          0.7464512364528871,
          -0.19966802621167723,
          -2.091906551540806,
          0.5099214207867461,
          0.5099214207867461,
          0.7464512364528871,
          0.5099214207867461,
          0.5099214207867461,
          0.5099214207867461,
          0.27339160512060495,
          0.27339160512060495,
          0.27339160512060495,
          0.27339160512060495,
          -0.19966802621167723,
          0.036861789454463875
         ]
        }
       ],
       "layout": {
        "coloraxis": {
         "colorbar": {
          "title": {
           "text": "color"
          }
         },
         "colorscale": [
          [
           0,
           "#0d0887"
          ],
          [
           0.1111111111111111,
           "#46039f"
          ],
          [
           0.2222222222222222,
           "#7201a8"
          ],
          [
           0.3333333333333333,
           "#9c179e"
          ],
          [
           0.4444444444444444,
           "#bd3786"
          ],
          [
           0.5555555555555556,
           "#d8576b"
          ],
          [
           0.6666666666666666,
           "#ed7953"
          ],
          [
           0.7777777777777778,
           "#fb9f3a"
          ],
          [
           0.8888888888888888,
           "#fdca26"
          ],
          [
           1,
           "#f0f921"
          ]
         ]
        },
        "legend": {
         "tracegroupgap": 0
        },
        "margin": {
         "t": 60
        },
        "scene": {
         "domain": {
          "x": [
           0,
           1
          ],
          "y": [
           0,
           1
          ]
         },
         "xaxis": {
          "title": {
           "text": "Price_in_thousands"
          }
         },
         "yaxis": {
          "title": {
           "text": "Power_perf_factor"
          }
         },
         "zaxis": {
          "title": {
           "text": "Fuel_efficiency"
          }
         }
        },
        "template": {
         "data": {
          "bar": [
           {
            "error_x": {
             "color": "#2a3f5f"
            },
            "error_y": {
             "color": "#2a3f5f"
            },
            "marker": {
             "line": {
              "color": "#E5ECF6",
              "width": 0.5
             },
             "pattern": {
              "fillmode": "overlay",
              "size": 10,
              "solidity": 0.2
             }
            },
            "type": "bar"
           }
          ],
          "barpolar": [
           {
            "marker": {
             "line": {
              "color": "#E5ECF6",
              "width": 0.5
             },
             "pattern": {
              "fillmode": "overlay",
              "size": 10,
              "solidity": 0.2
             }
            },
            "type": "barpolar"
           }
          ],
          "carpet": [
           {
            "aaxis": {
             "endlinecolor": "#2a3f5f",
             "gridcolor": "white",
             "linecolor": "white",
             "minorgridcolor": "white",
             "startlinecolor": "#2a3f5f"
            },
            "baxis": {
             "endlinecolor": "#2a3f5f",
             "gridcolor": "white",
             "linecolor": "white",
             "minorgridcolor": "white",
             "startlinecolor": "#2a3f5f"
            },
            "type": "carpet"
           }
          ],
          "choropleth": [
           {
            "colorbar": {
             "outlinewidth": 0,
             "ticks": ""
            },
            "type": "choropleth"
           }
          ],
          "contour": [
           {
            "colorbar": {
             "outlinewidth": 0,
             "ticks": ""
            },
            "colorscale": [
             [
              0,
              "#0d0887"
             ],
             [
              0.1111111111111111,
              "#46039f"
             ],
             [
              0.2222222222222222,
              "#7201a8"
             ],
             [
              0.3333333333333333,
              "#9c179e"
             ],
             [
              0.4444444444444444,
              "#bd3786"
             ],
             [
              0.5555555555555556,
              "#d8576b"
             ],
             [
              0.6666666666666666,
              "#ed7953"
             ],
             [
              0.7777777777777778,
              "#fb9f3a"
             ],
             [
              0.8888888888888888,
              "#fdca26"
             ],
             [
              1,
              "#f0f921"
             ]
            ],
            "type": "contour"
           }
          ],
          "contourcarpet": [
           {
            "colorbar": {
             "outlinewidth": 0,
             "ticks": ""
            },
            "type": "contourcarpet"
           }
          ],
          "heatmap": [
           {
            "colorbar": {
             "outlinewidth": 0,
             "ticks": ""
            },
            "colorscale": [
             [
              0,
              "#0d0887"
             ],
             [
              0.1111111111111111,
              "#46039f"
             ],
             [
              0.2222222222222222,
              "#7201a8"
             ],
             [
              0.3333333333333333,
              "#9c179e"
             ],
             [
              0.4444444444444444,
              "#bd3786"
             ],
             [
              0.5555555555555556,
              "#d8576b"
             ],
             [
              0.6666666666666666,
              "#ed7953"
             ],
             [
              0.7777777777777778,
              "#fb9f3a"
             ],
             [
              0.8888888888888888,
              "#fdca26"
             ],
             [
              1,
              "#f0f921"
             ]
            ],
            "type": "heatmap"
           }
          ],
          "heatmapgl": [
           {
            "colorbar": {
             "outlinewidth": 0,
             "ticks": ""
            },
            "colorscale": [
             [
              0,
              "#0d0887"
             ],
             [
              0.1111111111111111,
              "#46039f"
             ],
             [
              0.2222222222222222,
              "#7201a8"
             ],
             [
              0.3333333333333333,
              "#9c179e"
             ],
             [
              0.4444444444444444,
              "#bd3786"
             ],
             [
              0.5555555555555556,
              "#d8576b"
             ],
             [
              0.6666666666666666,
              "#ed7953"
             ],
             [
              0.7777777777777778,
              "#fb9f3a"
             ],
             [
              0.8888888888888888,
              "#fdca26"
             ],
             [
              1,
              "#f0f921"
             ]
            ],
            "type": "heatmapgl"
           }
          ],
          "histogram": [
           {
            "marker": {
             "pattern": {
              "fillmode": "overlay",
              "size": 10,
              "solidity": 0.2
             }
            },
            "type": "histogram"
           }
          ],
          "histogram2d": [
           {
            "colorbar": {
             "outlinewidth": 0,
             "ticks": ""
            },
            "colorscale": [
             [
              0,
              "#0d0887"
             ],
             [
              0.1111111111111111,
              "#46039f"
             ],
             [
              0.2222222222222222,
              "#7201a8"
             ],
             [
              0.3333333333333333,
              "#9c179e"
             ],
             [
              0.4444444444444444,
              "#bd3786"
             ],
             [
              0.5555555555555556,
              "#d8576b"
             ],
             [
              0.6666666666666666,
              "#ed7953"
             ],
             [
              0.7777777777777778,
              "#fb9f3a"
             ],
             [
              0.8888888888888888,
              "#fdca26"
             ],
             [
              1,
              "#f0f921"
             ]
            ],
            "type": "histogram2d"
           }
          ],
          "histogram2dcontour": [
           {
            "colorbar": {
             "outlinewidth": 0,
             "ticks": ""
            },
            "colorscale": [
             [
              0,
              "#0d0887"
             ],
             [
              0.1111111111111111,
              "#46039f"
             ],
             [
              0.2222222222222222,
              "#7201a8"
             ],
             [
              0.3333333333333333,
              "#9c179e"
             ],
             [
              0.4444444444444444,
              "#bd3786"
             ],
             [
              0.5555555555555556,
              "#d8576b"
             ],
             [
              0.6666666666666666,
              "#ed7953"
             ],
             [
              0.7777777777777778,
              "#fb9f3a"
             ],
             [
              0.8888888888888888,
              "#fdca26"
             ],
             [
              1,
              "#f0f921"
             ]
            ],
            "type": "histogram2dcontour"
           }
          ],
          "mesh3d": [
           {
            "colorbar": {
             "outlinewidth": 0,
             "ticks": ""
            },
            "type": "mesh3d"
           }
          ],
          "parcoords": [
           {
            "line": {
             "colorbar": {
              "outlinewidth": 0,
              "ticks": ""
             }
            },
            "type": "parcoords"
           }
          ],
          "pie": [
           {
            "automargin": true,
            "type": "pie"
           }
          ],
          "scatter": [
           {
            "fillpattern": {
             "fillmode": "overlay",
             "size": 10,
             "solidity": 0.2
            },
            "type": "scatter"
           }
          ],
          "scatter3d": [
           {
            "line": {
             "colorbar": {
              "outlinewidth": 0,
              "ticks": ""
             }
            },
            "marker": {
             "colorbar": {
              "outlinewidth": 0,
              "ticks": ""
             }
            },
            "type": "scatter3d"
           }
          ],
          "scattercarpet": [
           {
            "marker": {
             "colorbar": {
              "outlinewidth": 0,
              "ticks": ""
             }
            },
            "type": "scattercarpet"
           }
          ],
          "scattergeo": [
           {
            "marker": {
             "colorbar": {
              "outlinewidth": 0,
              "ticks": ""
             }
            },
            "type": "scattergeo"
           }
          ],
          "scattergl": [
           {
            "marker": {
             "colorbar": {
              "outlinewidth": 0,
              "ticks": ""
             }
            },
            "type": "scattergl"
           }
          ],
          "scattermapbox": [
           {
            "marker": {
             "colorbar": {
              "outlinewidth": 0,
              "ticks": ""
             }
            },
            "type": "scattermapbox"
           }
          ],
          "scatterpolar": [
           {
            "marker": {
             "colorbar": {
              "outlinewidth": 0,
              "ticks": ""
             }
            },
            "type": "scatterpolar"
           }
          ],
          "scatterpolargl": [
           {
            "marker": {
             "colorbar": {
              "outlinewidth": 0,
              "ticks": ""
             }
            },
            "type": "scatterpolargl"
           }
          ],
          "scatterternary": [
           {
            "marker": {
             "colorbar": {
              "outlinewidth": 0,
              "ticks": ""
             }
            },
            "type": "scatterternary"
           }
          ],
          "surface": [
           {
            "colorbar": {
             "outlinewidth": 0,
             "ticks": ""
            },
            "colorscale": [
             [
              0,
              "#0d0887"
             ],
             [
              0.1111111111111111,
              "#46039f"
             ],
             [
              0.2222222222222222,
              "#7201a8"
             ],
             [
              0.3333333333333333,
              "#9c179e"
             ],
             [
              0.4444444444444444,
              "#bd3786"
             ],
             [
              0.5555555555555556,
              "#d8576b"
             ],
             [
              0.6666666666666666,
              "#ed7953"
             ],
             [
              0.7777777777777778,
              "#fb9f3a"
             ],
             [
              0.8888888888888888,
              "#fdca26"
             ],
             [
              1,
              "#f0f921"
             ]
            ],
            "type": "surface"
           }
          ],
          "table": [
           {
            "cells": {
             "fill": {
              "color": "#EBF0F8"
             },
             "line": {
              "color": "white"
             }
            },
            "header": {
             "fill": {
              "color": "#C8D4E3"
             },
             "line": {
              "color": "white"
             }
            },
            "type": "table"
           }
          ]
         },
         "layout": {
          "annotationdefaults": {
           "arrowcolor": "#2a3f5f",
           "arrowhead": 0,
           "arrowwidth": 1
          },
          "autotypenumbers": "strict",
          "coloraxis": {
           "colorbar": {
            "outlinewidth": 0,
            "ticks": ""
           }
          },
          "colorscale": {
           "diverging": [
            [
             0,
             "#8e0152"
            ],
            [
             0.1,
             "#c51b7d"
            ],
            [
             0.2,
             "#de77ae"
            ],
            [
             0.3,
             "#f1b6da"
            ],
            [
             0.4,
             "#fde0ef"
            ],
            [
             0.5,
             "#f7f7f7"
            ],
            [
             0.6,
             "#e6f5d0"
            ],
            [
             0.7,
             "#b8e186"
            ],
            [
             0.8,
             "#7fbc41"
            ],
            [
             0.9,
             "#4d9221"
            ],
            [
             1,
             "#276419"
            ]
           ],
           "sequential": [
            [
             0,
             "#0d0887"
            ],
            [
             0.1111111111111111,
             "#46039f"
            ],
            [
             0.2222222222222222,
             "#7201a8"
            ],
            [
             0.3333333333333333,
             "#9c179e"
            ],
            [
             0.4444444444444444,
             "#bd3786"
            ],
            [
             0.5555555555555556,
             "#d8576b"
            ],
            [
             0.6666666666666666,
             "#ed7953"
            ],
            [
             0.7777777777777778,
             "#fb9f3a"
            ],
            [
             0.8888888888888888,
             "#fdca26"
            ],
            [
             1,
             "#f0f921"
            ]
           ],
           "sequentialminus": [
            [
             0,
             "#0d0887"
            ],
            [
             0.1111111111111111,
             "#46039f"
            ],
            [
             0.2222222222222222,
             "#7201a8"
            ],
            [
             0.3333333333333333,
             "#9c179e"
            ],
            [
             0.4444444444444444,
             "#bd3786"
            ],
            [
             0.5555555555555556,
             "#d8576b"
            ],
            [
             0.6666666666666666,
             "#ed7953"
            ],
            [
             0.7777777777777778,
             "#fb9f3a"
            ],
            [
             0.8888888888888888,
             "#fdca26"
            ],
            [
             1,
             "#f0f921"
            ]
           ]
          },
          "colorway": [
           "#636efa",
           "#EF553B",
           "#00cc96",
           "#ab63fa",
           "#FFA15A",
           "#19d3f3",
           "#FF6692",
           "#B6E880",
           "#FF97FF",
           "#FECB52"
          ],
          "font": {
           "color": "#2a3f5f"
          },
          "geo": {
           "bgcolor": "white",
           "lakecolor": "white",
           "landcolor": "#E5ECF6",
           "showlakes": true,
           "showland": true,
           "subunitcolor": "white"
          },
          "hoverlabel": {
           "align": "left"
          },
          "hovermode": "closest",
          "mapbox": {
           "style": "light"
          },
          "paper_bgcolor": "white",
          "plot_bgcolor": "#E5ECF6",
          "polar": {
           "angularaxis": {
            "gridcolor": "white",
            "linecolor": "white",
            "ticks": ""
           },
           "bgcolor": "#E5ECF6",
           "radialaxis": {
            "gridcolor": "white",
            "linecolor": "white",
            "ticks": ""
           }
          },
          "scene": {
           "xaxis": {
            "backgroundcolor": "#E5ECF6",
            "gridcolor": "white",
            "gridwidth": 2,
            "linecolor": "white",
            "showbackground": true,
            "ticks": "",
            "zerolinecolor": "white"
           },
           "yaxis": {
            "backgroundcolor": "#E5ECF6",
            "gridcolor": "white",
            "gridwidth": 2,
            "linecolor": "white",
            "showbackground": true,
            "ticks": "",
            "zerolinecolor": "white"
           },
           "zaxis": {
            "backgroundcolor": "#E5ECF6",
            "gridcolor": "white",
            "gridwidth": 2,
            "linecolor": "white",
            "showbackground": true,
            "ticks": "",
            "zerolinecolor": "white"
           }
          },
          "shapedefaults": {
           "line": {
            "color": "#2a3f5f"
           }
          },
          "ternary": {
           "aaxis": {
            "gridcolor": "white",
            "linecolor": "white",
            "ticks": ""
           },
           "baxis": {
            "gridcolor": "white",
            "linecolor": "white",
            "ticks": ""
           },
           "bgcolor": "#E5ECF6",
           "caxis": {
            "gridcolor": "white",
            "linecolor": "white",
            "ticks": ""
           }
          },
          "title": {
           "x": 0.05
          },
          "xaxis": {
           "automargin": true,
           "gridcolor": "white",
           "linecolor": "white",
           "ticks": "",
           "title": {
            "standoff": 15
           },
           "zerolinecolor": "white",
           "zerolinewidth": 2
          },
          "yaxis": {
           "automargin": true,
           "gridcolor": "white",
           "linecolor": "white",
           "ticks": "",
           "title": {
            "standoff": 15
           },
           "zerolinecolor": "white",
           "zerolinewidth": 2
          }
         }
        },
        "title": {
         "text": "Resultado do DBSCAN"
        }
       }
      },
      "text/html": [
       "<div>                            <div id=\"eac17302-3771-4983-85e9-84c6aa0c8649\" class=\"plotly-graph-div\" style=\"height:525px; width:100%;\"></div>            <script type=\"text/javascript\">                require([\"plotly\"], function(Plotly) {                    window.PLOTLYENV=window.PLOTLYENV || {};                                    if (document.getElementById(\"eac17302-3771-4983-85e9-84c6aa0c8649\")) {                    Plotly.newPlot(                        \"eac17302-3771-4983-85e9-84c6aa0c8649\",                        [{\"customdata\":[[\"Integra\"],[\"TL\"],[\"CL\"],[\"RL\"],[\"A4\"],[\"A6\"],[\"A8\"],[\"323i\"],[\"328i\"],[\"528i\"],[\"Century\"],[\"Regal\"],[\"Park Avenue\"],[\"LeSabre\"],[\"DeVille\"],[\"Seville\"],[\"Eldorado\"],[\"Catera\"],[\"Escalade\"],[\"Cavalier\"],[\"Malibu\"],[\"Lumina\"],[\"Monte Carlo\"],[\"Camaro\"],[\"Corvette\"],[\"Prizm\"],[\"Metro\"],[\"Impala\"],[\"Sebring Coupe\"],[\"Sebring Conv.\"],[\"Concorde\"],[\"Cirrus\"],[\"LHS\"],[\"Town & Country\"],[\"300M\"],[\"Neon\"],[\"Avenger\"],[\"Stratus\"],[\"Intrepid\"],[\"Viper\"],[\"Ram Pickup\"],[\"Ram Wagon\"],[\"Ram Van\"],[\"Dakota\"],[\"Durango\"],[\"Caravan\"],[\"Escort\"],[\"Mustang\"],[\"Contour\"],[\"Taurus\"],[\"Focus\"],[\"Crown Victoria\"],[\"Explorer\"],[\"Windstar\"],[\"Expedition\"],[\"Ranger\"],[\"F-Series\"],[\"Civic\"],[\"Accord\"],[\"CR-V\"],[\"Passport\"],[\"Odyssey\"],[\"Accent\"],[\"Elantra\"],[\"Sonata\"],[\"I30\"],[\"S-Type\"],[\"Wrangler\"],[\"Cherokee\"],[\"Grand Cherokee\"],[\"ES300\"],[\"GS300\"],[\"GS400\"],[\"LS400\"],[\"LX470\"],[\"RX300\"],[\"Continental\"],[\"Town car\"],[\"Navigator\"],[\"Mirage\"],[\"Eclipse\"],[\"Galant\"],[\"Diamante\"],[\"3000GT\"],[\"Montero\"],[\"Montero Sport\"],[\"Mystique\"],[\"Cougar\"],[\"Sable\"],[\"Grand Marquis\"],[\"Mountaineer\"],[\"Villager\"],[\"C-Class\"],[\"E-Class\"],[\"S-Class\"],[\"SL-Class\"],[\"SLK\"],[\"SLK230\"],[\"CLK Coupe\"],[\"CL500\"],[\"M-Class\"],[\"Sentra\"],[\"Altima\"],[\"Maxima\"],[\"Quest\"],[\"Pathfinder\"],[\"Xterra\"],[\"Frontier\"],[\"Cutlass\"],[\"Intrigue\"],[\"Alero\"],[\"Aurora\"],[\"Bravada\"],[\"Silhouette\"],[\"Neon\"],[\"Breeze\"],[\"Voyager\"],[\"Prowler\"],[\"Sunfire\"],[\"Grand Am\"],[\"Firebird\"],[\"Grand Prix\"],[\"Bonneville\"],[\"Montana\"],[\"Boxter\"],[\"Carrera Coupe\"],[\"Carrera Cabrio\"],[\"5-Sep\"],[\"3-Sep\"],[\"SL\"],[\"SC\"],[\"SW\"],[\"LW\"],[\"LS\"],[\"Outback\"],[\"Forester\"],[\"Corolla\"],[\"Camry\"],[\"Avalon\"],[\"Celica\"],[\"Tacoma\"],[\"Sienna\"],[\"RAV4\"],[\"4Runner\"],[\"Land Cruiser\"],[\"Golf\"],[\"Jetta\"],[\"Passat\"],[\"Cabrio\"],[\"GTI\"],[\"Beetle\"],[\"S40\"],[\"V40\"],[\"S70\"],[\"V70\"],[\"C70\"],[\"S80\"]],\"hovertemplate\":\"%{customdata[0]}\",\"legendgroup\":\"\",\"marker\":{\"color\":[-1,0,0,-1,0,-1,-1,0,-1,-1,-1,-1,-1,-1,-1,-1,-1,0,-1,-1,-1,-1,-1,-1,-1,1,-1,-1,0,0,-1,0,-1,0,-1,-1,0,0,-1,-1,-1,-1,-1,-1,-1,-1,1,-1,0,-1,-1,-1,-1,-1,-1,-1,-1,-1,-1,0,-1,-1,-1,1,0,0,-1,-1,-1,-1,0,-1,-1,-1,-1,-1,-1,-1,-1,1,0,0,0,-1,-1,-1,-1,0,-1,-1,-1,-1,-1,-1,-1,-1,-1,-1,-1,-1,-1,1,0,0,-1,-1,-1,-1,0,0,0,-1,-1,-1,-1,-1,-1,-1,0,-1,-1,-1,-1,-1,-1,-1,-1,0,0,-1,1,1,-1,0,0,0,-1,-1,0,1,-1,-1,-1,-1,-1,-1,-1,0,-1,-1,-1,0,-1,0,0,-1,-1],\"coloraxis\":\"coloraxis\",\"symbol\":\"circle\"},\"mode\":\"markers\",\"name\":\"\",\"scene\":\"scene\",\"showlegend\":false,\"x\":[-0.41443696386552725,0.07100422813262942,0.0,1.0278158529405907,-0.23925601197054033,0.461467795609408,2.4348917717758276,-0.02819462414525479,0.4227732078414387,0.8097190855211288,-0.3810189107931903,-0.14709253928683216,0.3218155106650105,0.03477202322262229,0.8797211124831822,1.2019414978964513,0.8635397394165767,0.25462763554062806,1.3250606407945347,-0.9941522424256449,-0.7637435607163748,-0.5980603712735256,-0.5628834733026447,-0.2146321833909236,1.2884766669048182,-0.9449045852664115,-1.2773262710912363,-0.5980603712735256,-0.5312242651288519,-0.20372734501995043,-0.3620233858889146,-0.7676130194931717,0.06678300037612381,0.0,0.1262319579469125,-1.0377715959095373,-0.5871555329025525,-0.5037862847115647,-0.34373139894405663,2.978374845425938,-0.5579587075867214,-0.4274524161147531,-0.6202218169951808,-0.7324361215222908,-0.07603520538565282,-0.5505715590128363,-1.0778732595963414,-0.4102157361090216,-0.7285666627454939,-0.6687659361949962,-1.0606365795906099,-0.36554107568600275,0.31935312780704883,-0.4207688055002858,0.6151908397421573,-1.0792803355151768,-0.03206408292205167,-1.0205349159038055,-0.8471128089073626,-0.4812730700102009,-0.0556326045625417,-0.09784488212759891,-1.2446821097742589,-1.096939138296559,-0.8718069912829209,0.14593102081060588,1.084098889694,-0.9097276872955306,-0.40599450835251577,-0.034878234759722085,0.2894527645318,0.7326816789648997,1.3306889444698755,1.872413173221442,2.301571328466189,0.5075495319512616,0.822382768790646,1.1213864015431338,1.0742493582621533,-0.943005032775984,-0.5870148253106691,-0.7059127404522466,-0.16840973945718604,-0.13653946989556798,0.31069961090621206,-0.34218361543333775,-0.7844979305191947,-0.763391791736666,-0.5878590708619702,-0.33669601934988036,0.011907039541549485,-0.3433796299643477,0.3066894445375317,1.5836108408805092,2.976616000527394,3.8841799681761215,0.8097190855211288,0.9574620569988288,0.9996743345638861,4.088205976407231,0.5564454201307861,-0.9773376851955637,-0.4925296773608829,-0.0803267869381003,-0.06977371754683587,0.13425229068427338,-0.3230473829371786,-0.6684141672152875,-0.6504739492501382,-0.22799940461985843,-0.6416797247574181,0.621804096560683,0.29599566755438383,-0.143926618469453,-1.0377715959095373,-0.7957545378698766,-0.600874523111196,1.0981696488823525,-0.40669804631193346,-0.5396667206418634,-0.14638900132741467,-0.4028285875351366,-0.2557891540168543,-0.12352401764634188,0.9877141892537864,3.069483011170519,3.347380505140479,0.4030741449777453,-0.09080950253342263,-1.1753132669756814,-1.0451587444834223,-0.9216878326056303,-0.6019298300503225,-0.8710330995275617,-0.33036417771512183,-0.5132840471637027,-1.0048460194087927,-0.6945857793056229,-0.12985585928110044,-0.7398232700961758,-1.1160050169967763,-0.35336986898807804,-0.7389086707489327,-0.3589981726634189,1.71221757986205,-0.8787720170811554,-0.7521351843859841,-0.43554310264805585,-0.5206711957375877,-0.6958521476325746,-0.8084182211393935,-0.2807647515761798,-0.21041095563441797,0.007685811785043864,0.09914574650933432,1.2740541387367572,0.6056930772900196],\"y\":[-0.7535128695267534,0.5753592312543503,0.0,0.5761223110310294,-0.5729001433489017,0.30205319245440876,2.313666057537819,-0.23502335585563955,0.19410550882435695,0.27930813610552135,-0.23541511830718337,0.7466726472399088,0.352785635793686,0.2895807774399371,1.4782771484012647,1.5492277005823039,1.474714132035747,0.25860116702718794,1.3037688684789126,-1.2320745247415603,-0.39070784913737366,-0.2832060468441765,-0.20130178898527123,0.16364422499435546,2.5740659033759736,-1.1543962714188931,-2.159218304315126,-0.20904748241097557,-0.44521419230340603,-0.3020822002519678,0.11968018390268573,-0.9428183172163255,0.9752784107698046,0.0,0.9883686327596419,-1.0023052427257364,-0.4575298447498796,-0.3681529652736239,0.1521157791880965,4.461645824301816,0.5288123391236699,-0.23726882596542498,-0.2797152259382856,-1.1002880012211174,0.6349283388550294,-0.6351715741174316,-1.3236215131683915,-0.021461003169612056,-0.3892401114594353,-0.5838995619215077,-1.3624378753454662,0.13878580816296068,0.4253556756287304,-0.6003120099300048,0.9228924317398047,-1.1908644555497936,0.4962933268711543,-1.3719970058232365,-0.9145728548300538,-0.6809135312083299,0.2633963894877136,0.32826012181006914,-1.6212537320936573,-0.9017021608338935,-0.7343130810645344,0.6181727407380342,1.0094013070663665,-1.1393262960866681,-0.018438868042605288,0.13429778385670682,0.4083085765368747,0.7189630723747419,1.926396915569206,1.9036414228127632,1.1532281270058211,0.5983710480917074,1.4656516694225195,0.6792550274395002,1.8845793734052922,-1.2534054249762365,-0.5863804435401174,-0.7403961428848197,0.31272226105913636,-0.38148371698123973,0.2761794321978037,-0.2563180334673693,-1.0459636711232332,-1.0413162550678103,-0.5944923015456388,0.14513727657124545,0.3576583152888651,-0.29605416088467884,0.04968175271672065,0.8516083787499722,1.9368589563364056,2.527527894721187,0.2314647544604428,0.19297708048987705,0.6378063645743152,2.572452914582346,0.5402106278120231,-1.0763142968259731,-0.5513715939076834,0.49733285458664567,-0.235808157801055,-0.19088313593196846,-0.2915771500645421,-0.367624368138189,-0.6498450619414983,0.3706206426942803,-0.6552329203911958,1.0601098387920107,0.13927316767400413,-0.03803099442858646,-1.0023052427257364,-0.949014871956889,-0.6462479160173785,1.202382140806706,-0.6034916883074891,-0.26720921788362384,0.17867087003942989,0.05118517890870775,0.22560134994440972,-0.03353849204088529,0.658349033322229,2.3029885861552057,2.3641795632143077,-0.14215380657321636,-0.04098356086762378,-1.488162582532208,-1.4595035170578938,-1.0914221187934638,-0.8332238630072061,-0.8924784178142426,-0.3725784486405703,-0.41285605405264875,-1.167594932775342,-0.9104416887580458,0.31597991090247635,-0.8251605334133316,-0.8733071881146578,0.03950109858850733,-1.00751741790011,-0.5898495499073994,1.0234567802952927,-1.2087613022211712,-1.180876805888635,-0.6161211124635405,-1.1299101433482917,-1.1684836964075078,-1.1932699153697623,-0.4389545629162222,-0.423463176064813,-0.25657690922342635,-0.23643810631659445,0.9870881006521484,0.34906077880978065],\"z\":[0.9829810521190283,0.27339160512060495,0.5099214207867461,-0.43619784187781835,0.7464512364528871,-0.43619784187781835,-0.6727276575439595,0.5099214207867461,0.036861789454463875,0.27339160512060495,0.27339160512060495,-0.19966802621167723,0.036861789454463875,0.27339160512060495,-0.43619784187781835,-0.43619784187781835,-0.43619784187781835,-0.43619784187781835,-2.091906551540806,0.7464512364528871,0.27339160512060495,0.27339160512060495,0.7464512364528871,0.27339160512060495,-0.43619784187781835,2.165630130449734,5.003987918443427,0.7464512364528871,0.036861789454463875,0.036861789454463875,0.5099214207867461,0.7464512364528871,-0.19966802621167723,0.0,-0.19966802621167723,1.2195108677851694,0.036861789454463875,0.036861789454463875,0.0,-1.855376735874665,-1.6188469202085238,-2.091906551540806,-1.855376735874665,-1.1457872888762417,-1.6188469202085238,0.036861789454463875,1.4560406834513104,0.036861789454463875,0.27339160512060495,0.036861789454463875,1.4560406834513104,-0.6727276575439595,-1.1457872888762417,-0.6727276575439595,-1.855376735874665,-0.19966802621167723,-1.3823171045423828,1.9291003147835928,0.7464512364528871,0.036861789454463875,-1.1457872888762417,-0.19966802621167723,1.6925704991174515,0.7464512364528871,0.27339160512060495,0.27339160512060495,-0.6727276575439595,-1.6188469202085238,-0.9092574732101005,-1.1457872888762417,-0.19966802621167723,-0.19966802621167723,-0.6727276575439595,-0.43619784187781835,-2.091906551540806,-0.6727276575439595,-0.43619784187781835,-0.6727276575439595,-2.091906551540806,1.4560406834513104,0.036861789454463875,0.27339160512060495,-0.43619784187781835,-0.6727276575439595,-1.3823171045423828,-0.9092574732101005,0.9829810521190283,1.4560406834513104,0.036861789454463875,-0.6727276575439595,-1.3823171045423828,-0.6727276575439595,0.5099214207867461,0.27339160512060495,-0.6727276575439595,-0.9092574732101005,0.5099214207867461,0.7464512364528871,0.5099214207867461,-0.9092574732101005,-0.9092574732101005,1.4560406834513104,0.27339160512060495,0.27339160512060495,-0.6727276575439595,-1.1457872888762417,-1.3823171045423828,-1.3823171045423828,0.27339160512060495,0.0,0.7464512364528871,-0.43619784187781835,-1.1457872888762417,-0.43619784187781835,1.2195108677851694,0.7464512364528871,0.036861789454463875,-0.6727276575439595,0.7464512364528871,0.27339160512060495,0.27339160512060495,0.27339160512060495,0.036861789454463875,-0.19966802621167723,-0.43619784187781835,-0.6727276575439595,-0.19966802621167723,-0.19966802621167723,-0.19966802621167723,2.165630130449734,2.165630130449734,1.6925704991174515,0.7464512364528871,0.9829810521190283,0.27339160512060495,0.036861789454463875,2.165630130449734,0.7464512364528871,0.5099214207867461,1.6925704991174515,-0.19966802621167723,-0.43619784187781835,0.7464512364528871,-0.19966802621167723,-2.091906551540806,0.5099214207867461,0.5099214207867461,0.7464512364528871,0.5099214207867461,0.5099214207867461,0.5099214207867461,0.27339160512060495,0.27339160512060495,0.27339160512060495,0.27339160512060495,-0.19966802621167723,0.036861789454463875],\"type\":\"scatter3d\",\"textposition\":\"top center\"}],                        {\"template\":{\"data\":{\"histogram2dcontour\":[{\"type\":\"histogram2dcontour\",\"colorbar\":{\"outlinewidth\":0,\"ticks\":\"\"},\"colorscale\":[[0.0,\"#0d0887\"],[0.1111111111111111,\"#46039f\"],[0.2222222222222222,\"#7201a8\"],[0.3333333333333333,\"#9c179e\"],[0.4444444444444444,\"#bd3786\"],[0.5555555555555556,\"#d8576b\"],[0.6666666666666666,\"#ed7953\"],[0.7777777777777778,\"#fb9f3a\"],[0.8888888888888888,\"#fdca26\"],[1.0,\"#f0f921\"]]}],\"choropleth\":[{\"type\":\"choropleth\",\"colorbar\":{\"outlinewidth\":0,\"ticks\":\"\"}}],\"histogram2d\":[{\"type\":\"histogram2d\",\"colorbar\":{\"outlinewidth\":0,\"ticks\":\"\"},\"colorscale\":[[0.0,\"#0d0887\"],[0.1111111111111111,\"#46039f\"],[0.2222222222222222,\"#7201a8\"],[0.3333333333333333,\"#9c179e\"],[0.4444444444444444,\"#bd3786\"],[0.5555555555555556,\"#d8576b\"],[0.6666666666666666,\"#ed7953\"],[0.7777777777777778,\"#fb9f3a\"],[0.8888888888888888,\"#fdca26\"],[1.0,\"#f0f921\"]]}],\"heatmap\":[{\"type\":\"heatmap\",\"colorbar\":{\"outlinewidth\":0,\"ticks\":\"\"},\"colorscale\":[[0.0,\"#0d0887\"],[0.1111111111111111,\"#46039f\"],[0.2222222222222222,\"#7201a8\"],[0.3333333333333333,\"#9c179e\"],[0.4444444444444444,\"#bd3786\"],[0.5555555555555556,\"#d8576b\"],[0.6666666666666666,\"#ed7953\"],[0.7777777777777778,\"#fb9f3a\"],[0.8888888888888888,\"#fdca26\"],[1.0,\"#f0f921\"]]}],\"heatmapgl\":[{\"type\":\"heatmapgl\",\"colorbar\":{\"outlinewidth\":0,\"ticks\":\"\"},\"colorscale\":[[0.0,\"#0d0887\"],[0.1111111111111111,\"#46039f\"],[0.2222222222222222,\"#7201a8\"],[0.3333333333333333,\"#9c179e\"],[0.4444444444444444,\"#bd3786\"],[0.5555555555555556,\"#d8576b\"],[0.6666666666666666,\"#ed7953\"],[0.7777777777777778,\"#fb9f3a\"],[0.8888888888888888,\"#fdca26\"],[1.0,\"#f0f921\"]]}],\"contourcarpet\":[{\"type\":\"contourcarpet\",\"colorbar\":{\"outlinewidth\":0,\"ticks\":\"\"}}],\"contour\":[{\"type\":\"contour\",\"colorbar\":{\"outlinewidth\":0,\"ticks\":\"\"},\"colorscale\":[[0.0,\"#0d0887\"],[0.1111111111111111,\"#46039f\"],[0.2222222222222222,\"#7201a8\"],[0.3333333333333333,\"#9c179e\"],[0.4444444444444444,\"#bd3786\"],[0.5555555555555556,\"#d8576b\"],[0.6666666666666666,\"#ed7953\"],[0.7777777777777778,\"#fb9f3a\"],[0.8888888888888888,\"#fdca26\"],[1.0,\"#f0f921\"]]}],\"surface\":[{\"type\":\"surface\",\"colorbar\":{\"outlinewidth\":0,\"ticks\":\"\"},\"colorscale\":[[0.0,\"#0d0887\"],[0.1111111111111111,\"#46039f\"],[0.2222222222222222,\"#7201a8\"],[0.3333333333333333,\"#9c179e\"],[0.4444444444444444,\"#bd3786\"],[0.5555555555555556,\"#d8576b\"],[0.6666666666666666,\"#ed7953\"],[0.7777777777777778,\"#fb9f3a\"],[0.8888888888888888,\"#fdca26\"],[1.0,\"#f0f921\"]]}],\"mesh3d\":[{\"type\":\"mesh3d\",\"colorbar\":{\"outlinewidth\":0,\"ticks\":\"\"}}],\"scatter\":[{\"fillpattern\":{\"fillmode\":\"overlay\",\"size\":10,\"solidity\":0.2},\"type\":\"scatter\"}],\"parcoords\":[{\"type\":\"parcoords\",\"line\":{\"colorbar\":{\"outlinewidth\":0,\"ticks\":\"\"}}}],\"scatterpolargl\":[{\"type\":\"scatterpolargl\",\"marker\":{\"colorbar\":{\"outlinewidth\":0,\"ticks\":\"\"}}}],\"bar\":[{\"error_x\":{\"color\":\"#2a3f5f\"},\"error_y\":{\"color\":\"#2a3f5f\"},\"marker\":{\"line\":{\"color\":\"#E5ECF6\",\"width\":0.5},\"pattern\":{\"fillmode\":\"overlay\",\"size\":10,\"solidity\":0.2}},\"type\":\"bar\"}],\"scattergeo\":[{\"type\":\"scattergeo\",\"marker\":{\"colorbar\":{\"outlinewidth\":0,\"ticks\":\"\"}}}],\"scatterpolar\":[{\"type\":\"scatterpolar\",\"marker\":{\"colorbar\":{\"outlinewidth\":0,\"ticks\":\"\"}}}],\"histogram\":[{\"marker\":{\"pattern\":{\"fillmode\":\"overlay\",\"size\":10,\"solidity\":0.2}},\"type\":\"histogram\"}],\"scattergl\":[{\"type\":\"scattergl\",\"marker\":{\"colorbar\":{\"outlinewidth\":0,\"ticks\":\"\"}}}],\"scatter3d\":[{\"type\":\"scatter3d\",\"line\":{\"colorbar\":{\"outlinewidth\":0,\"ticks\":\"\"}},\"marker\":{\"colorbar\":{\"outlinewidth\":0,\"ticks\":\"\"}}}],\"scattermapbox\":[{\"type\":\"scattermapbox\",\"marker\":{\"colorbar\":{\"outlinewidth\":0,\"ticks\":\"\"}}}],\"scatterternary\":[{\"type\":\"scatterternary\",\"marker\":{\"colorbar\":{\"outlinewidth\":0,\"ticks\":\"\"}}}],\"scattercarpet\":[{\"type\":\"scattercarpet\",\"marker\":{\"colorbar\":{\"outlinewidth\":0,\"ticks\":\"\"}}}],\"carpet\":[{\"aaxis\":{\"endlinecolor\":\"#2a3f5f\",\"gridcolor\":\"white\",\"linecolor\":\"white\",\"minorgridcolor\":\"white\",\"startlinecolor\":\"#2a3f5f\"},\"baxis\":{\"endlinecolor\":\"#2a3f5f\",\"gridcolor\":\"white\",\"linecolor\":\"white\",\"minorgridcolor\":\"white\",\"startlinecolor\":\"#2a3f5f\"},\"type\":\"carpet\"}],\"table\":[{\"cells\":{\"fill\":{\"color\":\"#EBF0F8\"},\"line\":{\"color\":\"white\"}},\"header\":{\"fill\":{\"color\":\"#C8D4E3\"},\"line\":{\"color\":\"white\"}},\"type\":\"table\"}],\"barpolar\":[{\"marker\":{\"line\":{\"color\":\"#E5ECF6\",\"width\":0.5},\"pattern\":{\"fillmode\":\"overlay\",\"size\":10,\"solidity\":0.2}},\"type\":\"barpolar\"}],\"pie\":[{\"automargin\":true,\"type\":\"pie\"}]},\"layout\":{\"autotypenumbers\":\"strict\",\"colorway\":[\"#636efa\",\"#EF553B\",\"#00cc96\",\"#ab63fa\",\"#FFA15A\",\"#19d3f3\",\"#FF6692\",\"#B6E880\",\"#FF97FF\",\"#FECB52\"],\"font\":{\"color\":\"#2a3f5f\"},\"hovermode\":\"closest\",\"hoverlabel\":{\"align\":\"left\"},\"paper_bgcolor\":\"white\",\"plot_bgcolor\":\"#E5ECF6\",\"polar\":{\"bgcolor\":\"#E5ECF6\",\"angularaxis\":{\"gridcolor\":\"white\",\"linecolor\":\"white\",\"ticks\":\"\"},\"radialaxis\":{\"gridcolor\":\"white\",\"linecolor\":\"white\",\"ticks\":\"\"}},\"ternary\":{\"bgcolor\":\"#E5ECF6\",\"aaxis\":{\"gridcolor\":\"white\",\"linecolor\":\"white\",\"ticks\":\"\"},\"baxis\":{\"gridcolor\":\"white\",\"linecolor\":\"white\",\"ticks\":\"\"},\"caxis\":{\"gridcolor\":\"white\",\"linecolor\":\"white\",\"ticks\":\"\"}},\"coloraxis\":{\"colorbar\":{\"outlinewidth\":0,\"ticks\":\"\"}},\"colorscale\":{\"sequential\":[[0.0,\"#0d0887\"],[0.1111111111111111,\"#46039f\"],[0.2222222222222222,\"#7201a8\"],[0.3333333333333333,\"#9c179e\"],[0.4444444444444444,\"#bd3786\"],[0.5555555555555556,\"#d8576b\"],[0.6666666666666666,\"#ed7953\"],[0.7777777777777778,\"#fb9f3a\"],[0.8888888888888888,\"#fdca26\"],[1.0,\"#f0f921\"]],\"sequentialminus\":[[0.0,\"#0d0887\"],[0.1111111111111111,\"#46039f\"],[0.2222222222222222,\"#7201a8\"],[0.3333333333333333,\"#9c179e\"],[0.4444444444444444,\"#bd3786\"],[0.5555555555555556,\"#d8576b\"],[0.6666666666666666,\"#ed7953\"],[0.7777777777777778,\"#fb9f3a\"],[0.8888888888888888,\"#fdca26\"],[1.0,\"#f0f921\"]],\"diverging\":[[0,\"#8e0152\"],[0.1,\"#c51b7d\"],[0.2,\"#de77ae\"],[0.3,\"#f1b6da\"],[0.4,\"#fde0ef\"],[0.5,\"#f7f7f7\"],[0.6,\"#e6f5d0\"],[0.7,\"#b8e186\"],[0.8,\"#7fbc41\"],[0.9,\"#4d9221\"],[1,\"#276419\"]]},\"xaxis\":{\"gridcolor\":\"white\",\"linecolor\":\"white\",\"ticks\":\"\",\"title\":{\"standoff\":15},\"zerolinecolor\":\"white\",\"automargin\":true,\"zerolinewidth\":2},\"yaxis\":{\"gridcolor\":\"white\",\"linecolor\":\"white\",\"ticks\":\"\",\"title\":{\"standoff\":15},\"zerolinecolor\":\"white\",\"automargin\":true,\"zerolinewidth\":2},\"scene\":{\"xaxis\":{\"backgroundcolor\":\"#E5ECF6\",\"gridcolor\":\"white\",\"linecolor\":\"white\",\"showbackground\":true,\"ticks\":\"\",\"zerolinecolor\":\"white\",\"gridwidth\":2},\"yaxis\":{\"backgroundcolor\":\"#E5ECF6\",\"gridcolor\":\"white\",\"linecolor\":\"white\",\"showbackground\":true,\"ticks\":\"\",\"zerolinecolor\":\"white\",\"gridwidth\":2},\"zaxis\":{\"backgroundcolor\":\"#E5ECF6\",\"gridcolor\":\"white\",\"linecolor\":\"white\",\"showbackground\":true,\"ticks\":\"\",\"zerolinecolor\":\"white\",\"gridwidth\":2}},\"shapedefaults\":{\"line\":{\"color\":\"#2a3f5f\"}},\"annotationdefaults\":{\"arrowcolor\":\"#2a3f5f\",\"arrowhead\":0,\"arrowwidth\":1},\"geo\":{\"bgcolor\":\"white\",\"landcolor\":\"#E5ECF6\",\"subunitcolor\":\"white\",\"showland\":true,\"showlakes\":true,\"lakecolor\":\"white\"},\"title\":{\"x\":0.05},\"mapbox\":{\"style\":\"light\"}}},\"scene\":{\"domain\":{\"x\":[0.0,1.0],\"y\":[0.0,1.0]},\"xaxis\":{\"title\":{\"text\":\"Price_in_thousands\"}},\"yaxis\":{\"title\":{\"text\":\"Power_perf_factor\"}},\"zaxis\":{\"title\":{\"text\":\"Fuel_efficiency\"}}},\"coloraxis\":{\"colorbar\":{\"title\":{\"text\":\"color\"}},\"colorscale\":[[0.0,\"#0d0887\"],[0.1111111111111111,\"#46039f\"],[0.2222222222222222,\"#7201a8\"],[0.3333333333333333,\"#9c179e\"],[0.4444444444444444,\"#bd3786\"],[0.5555555555555556,\"#d8576b\"],[0.6666666666666666,\"#ed7953\"],[0.7777777777777778,\"#fb9f3a\"],[0.8888888888888888,\"#fdca26\"],[1.0,\"#f0f921\"]]},\"legend\":{\"tracegroupgap\":0},\"margin\":{\"t\":60},\"title\":{\"text\":\"Resultado do DBSCAN\"}},                        {\"responsive\": true}                    ).then(function(){\n",
       "                            \n",
       "var gd = document.getElementById('eac17302-3771-4983-85e9-84c6aa0c8649');\n",
       "var x = new MutationObserver(function (mutations, observer) {{\n",
       "        var display = window.getComputedStyle(gd).display;\n",
       "        if (!display || display === 'none') {{\n",
       "            console.log([gd, 'removed!']);\n",
       "            Plotly.purge(gd);\n",
       "            observer.disconnect();\n",
       "        }}\n",
       "}});\n",
       "\n",
       "// Listen for the removal of the full notebook cells\n",
       "var notebookContainer = gd.closest('#notebook-container');\n",
       "if (notebookContainer) {{\n",
       "    x.observe(notebookContainer, {childList: true});\n",
       "}}\n",
       "\n",
       "// Listen for the clearing of the current output cell\n",
       "var outputEl = gd.closest('.output');\n",
       "if (outputEl) {{\n",
       "    x.observe(outputEl, {childList: true});\n",
       "}}\n",
       "\n",
       "                        })                };                });            </script>        </div>"
      ]
     },
     "metadata": {},
     "output_type": "display_data"
    }
   ],
   "source": [
    "# ALGORITMO DBSCAN PLOTADO EM UM GRÁFICO DE DISPERSÃO APLICADO AS VARIÁVEIS 'Price_in_thousands', 'Power_perf_factor' e\n",
    "# 'Fuel_efficiency'\n",
    "\n",
    "fig = px.scatter_3d(data_dbscan, x='Price_in_thousands', y='Power_perf_factor', z='Fuel_efficiency', color=clusters, custom_data=[data_dbscan.index])\n",
    "fig.update_layout(\n",
    "    title='Resultado do DBSCAN'\n",
    ")\n",
    "fig.update_traces(textposition='top center', hovertemplate='%{customdata[0]}')  # Adicionar nomes dos pontos ao gráfico\n",
    "fig.show()"
   ]
  },
  {
   "cell_type": "markdown",
   "id": "42ee3cde",
   "metadata": {},
   "source": [
    "Utilizando a efeciência do combustível como um dos componentes principais, consegui identificar uma forma melhor de clusterizar minha base de dados utilizando o método DBSCAN e perceber que uma melhor eficiência de combustível não significa necessariamente uma performance menor, ficando na média da amostra. Assim, busco encontrar os modelos com melhor custo benefício, onde consigo encontrar veículos com boa performance e bom preço."
   ]
  },
  {
   "cell_type": "code",
   "execution_count": 167,
   "id": "e3faa909",
   "metadata": {},
   "outputs": [],
   "source": [
    "# CRIAÇÃO DE NOVO DATAFRAM COM AS OBSERVAÇÕES REFERENTES AO CLUSTER 0 (PENSANDO EM EQUILÍBRIO), \n",
    "# LEVANDO EM CONTA Fuel_efficiency, Power_perf_fact e Price_in_tothousands,\n",
    "# VISANDO ENTREGAS OS MELHORES VEÍCULOS EM RELAÇÃO CUSTO BENEFÍCIO\n",
    "\n",
    "custo_benef = pd.concat([data_quanti, data_dbscan['Clusters']], axis=1)\n",
    "custo_benef = custo_benef[data_dbscan['Clusters'] == 0]"
   ]
  },
  {
   "cell_type": "code",
   "execution_count": 168,
   "id": "805925c1",
   "metadata": {},
   "outputs": [
    {
     "data": {
      "text/html": [
       "<div>\n",
       "<style scoped>\n",
       "    .dataframe tbody tr th:only-of-type {\n",
       "        vertical-align: middle;\n",
       "    }\n",
       "\n",
       "    .dataframe tbody tr th {\n",
       "        vertical-align: top;\n",
       "    }\n",
       "\n",
       "    .dataframe thead th {\n",
       "        text-align: right;\n",
       "    }\n",
       "</style>\n",
       "<table border=\"1\" class=\"dataframe\">\n",
       "  <thead>\n",
       "    <tr style=\"text-align: right;\">\n",
       "      <th></th>\n",
       "      <th>Sales_in_thousands</th>\n",
       "      <th>__year_resale_value</th>\n",
       "      <th>Price_in_thousands</th>\n",
       "      <th>Engine_size</th>\n",
       "      <th>Horsepower</th>\n",
       "      <th>Wheelbase</th>\n",
       "      <th>Width</th>\n",
       "      <th>Length</th>\n",
       "      <th>Curb_weight</th>\n",
       "      <th>Fuel_capacity</th>\n",
       "      <th>Fuel_efficiency</th>\n",
       "      <th>Power_perf_factor</th>\n",
       "      <th>Clusters</th>\n",
       "    </tr>\n",
       "  </thead>\n",
       "  <tbody>\n",
       "    <tr>\n",
       "      <th>Altima</th>\n",
       "      <td>88.094</td>\n",
       "      <td>11.295000</td>\n",
       "      <td>20.390000</td>\n",
       "      <td>2.400000</td>\n",
       "      <td>155.000000</td>\n",
       "      <td>103.100000</td>\n",
       "      <td>69.10</td>\n",
       "      <td>183.50000</td>\n",
       "      <td>3.012000</td>\n",
       "      <td>15.900000</td>\n",
       "      <td>25.000000</td>\n",
       "      <td>63.313728</td>\n",
       "      <td>0</td>\n",
       "    </tr>\n",
       "    <tr>\n",
       "      <th>Alero</th>\n",
       "      <td>80.255</td>\n",
       "      <td>18.072975</td>\n",
       "      <td>18.270000</td>\n",
       "      <td>2.400000</td>\n",
       "      <td>150.000000</td>\n",
       "      <td>107.000000</td>\n",
       "      <td>70.10</td>\n",
       "      <td>186.70000</td>\n",
       "      <td>2.958000</td>\n",
       "      <td>15.000000</td>\n",
       "      <td>27.000000</td>\n",
       "      <td>60.727447</td>\n",
       "      <td>0</td>\n",
       "    </tr>\n",
       "    <tr>\n",
       "      <th>Maxima</th>\n",
       "      <td>79.853</td>\n",
       "      <td>15.125000</td>\n",
       "      <td>26.249000</td>\n",
       "      <td>3.000000</td>\n",
       "      <td>222.000000</td>\n",
       "      <td>108.300000</td>\n",
       "      <td>70.30</td>\n",
       "      <td>190.50000</td>\n",
       "      <td>3.294000</td>\n",
       "      <td>18.500000</td>\n",
       "      <td>25.000000</td>\n",
       "      <td>89.427820</td>\n",
       "      <td>0</td>\n",
       "    </tr>\n",
       "    <tr>\n",
       "      <th>CR-V</th>\n",
       "      <td>73.203</td>\n",
       "      <td>17.710000</td>\n",
       "      <td>20.550000</td>\n",
       "      <td>2.000000</td>\n",
       "      <td>146.000000</td>\n",
       "      <td>103.200000</td>\n",
       "      <td>68.90</td>\n",
       "      <td>177.60000</td>\n",
       "      <td>3.219000</td>\n",
       "      <td>15.300000</td>\n",
       "      <td>24.000000</td>\n",
       "      <td>60.087967</td>\n",
       "      <td>0</td>\n",
       "    </tr>\n",
       "    <tr>\n",
       "      <th>Stratus</th>\n",
       "      <td>71.186</td>\n",
       "      <td>10.185000</td>\n",
       "      <td>20.230000</td>\n",
       "      <td>2.500000</td>\n",
       "      <td>168.000000</td>\n",
       "      <td>108.000000</td>\n",
       "      <td>71.00</td>\n",
       "      <td>186.00000</td>\n",
       "      <td>3.058000</td>\n",
       "      <td>16.000000</td>\n",
       "      <td>24.000000</td>\n",
       "      <td>67.876108</td>\n",
       "      <td>0</td>\n",
       "    </tr>\n",
       "    <tr>\n",
       "      <th>Avalon</th>\n",
       "      <td>63.849</td>\n",
       "      <td>18.140000</td>\n",
       "      <td>25.545000</td>\n",
       "      <td>3.000000</td>\n",
       "      <td>210.000000</td>\n",
       "      <td>107.100000</td>\n",
       "      <td>71.70</td>\n",
       "      <td>191.90000</td>\n",
       "      <td>3.417000</td>\n",
       "      <td>18.500000</td>\n",
       "      <td>26.000000</td>\n",
       "      <td>84.911898</td>\n",
       "      <td>0</td>\n",
       "    </tr>\n",
       "    <tr>\n",
       "      <th>Galant</th>\n",
       "      <td>55.616</td>\n",
       "      <td>10.595000</td>\n",
       "      <td>17.357000</td>\n",
       "      <td>2.400000</td>\n",
       "      <td>145.000000</td>\n",
       "      <td>103.700000</td>\n",
       "      <td>68.50</td>\n",
       "      <td>187.80000</td>\n",
       "      <td>2.945000</td>\n",
       "      <td>16.300000</td>\n",
       "      <td>25.000000</td>\n",
       "      <td>58.606773</td>\n",
       "      <td>0</td>\n",
       "    </tr>\n",
       "    <tr>\n",
       "      <th>Town &amp; Country</th>\n",
       "      <td>53.480</td>\n",
       "      <td>19.540000</td>\n",
       "      <td>27.390755</td>\n",
       "      <td>3.060897</td>\n",
       "      <td>185.948718</td>\n",
       "      <td>107.487179</td>\n",
       "      <td>71.15</td>\n",
       "      <td>187.34359</td>\n",
       "      <td>3.378026</td>\n",
       "      <td>17.951923</td>\n",
       "      <td>23.844156</td>\n",
       "      <td>77.043591</td>\n",
       "      <td>0</td>\n",
       "    </tr>\n",
       "    <tr>\n",
       "      <th>Sunfire</th>\n",
       "      <td>51.645</td>\n",
       "      <td>13.790000</td>\n",
       "      <td>21.610000</td>\n",
       "      <td>2.400000</td>\n",
       "      <td>150.000000</td>\n",
       "      <td>104.100000</td>\n",
       "      <td>68.40</td>\n",
       "      <td>181.90000</td>\n",
       "      <td>2.906000</td>\n",
       "      <td>15.000000</td>\n",
       "      <td>27.000000</td>\n",
       "      <td>62.015870</td>\n",
       "      <td>0</td>\n",
       "    </tr>\n",
       "    <tr>\n",
       "      <th>Passat</th>\n",
       "      <td>51.102</td>\n",
       "      <td>16.725000</td>\n",
       "      <td>21.200000</td>\n",
       "      <td>1.800000</td>\n",
       "      <td>150.000000</td>\n",
       "      <td>106.400000</td>\n",
       "      <td>68.50</td>\n",
       "      <td>184.10000</td>\n",
       "      <td>3.043000</td>\n",
       "      <td>16.400000</td>\n",
       "      <td>27.000000</td>\n",
       "      <td>61.701381</td>\n",
       "      <td>0</td>\n",
       "    </tr>\n",
       "    <tr>\n",
       "      <th>LS</th>\n",
       "      <td>49.989</td>\n",
       "      <td>18.072975</td>\n",
       "      <td>15.010000</td>\n",
       "      <td>2.200000</td>\n",
       "      <td>137.000000</td>\n",
       "      <td>106.500000</td>\n",
       "      <td>69.00</td>\n",
       "      <td>190.40000</td>\n",
       "      <td>2.910000</td>\n",
       "      <td>13.100000</td>\n",
       "      <td>28.000000</td>\n",
       "      <td>54.819728</td>\n",
       "      <td>0</td>\n",
       "    </tr>\n",
       "    <tr>\n",
       "      <th>Outback</th>\n",
       "      <td>47.107</td>\n",
       "      <td>18.072975</td>\n",
       "      <td>22.695000</td>\n",
       "      <td>2.500000</td>\n",
       "      <td>165.000000</td>\n",
       "      <td>103.500000</td>\n",
       "      <td>67.50</td>\n",
       "      <td>185.80000</td>\n",
       "      <td>3.415000</td>\n",
       "      <td>16.900000</td>\n",
       "      <td>25.000000</td>\n",
       "      <td>67.765908</td>\n",
       "      <td>0</td>\n",
       "    </tr>\n",
       "    <tr>\n",
       "      <th>Eclipse</th>\n",
       "      <td>42.541</td>\n",
       "      <td>10.395000</td>\n",
       "      <td>19.047000</td>\n",
       "      <td>2.400000</td>\n",
       "      <td>154.000000</td>\n",
       "      <td>100.800000</td>\n",
       "      <td>68.90</td>\n",
       "      <td>175.40000</td>\n",
       "      <td>2.910000</td>\n",
       "      <td>15.900000</td>\n",
       "      <td>24.000000</td>\n",
       "      <td>62.441962</td>\n",
       "      <td>0</td>\n",
       "    </tr>\n",
       "    <tr>\n",
       "      <th>TL</th>\n",
       "      <td>39.384</td>\n",
       "      <td>19.875000</td>\n",
       "      <td>28.400000</td>\n",
       "      <td>3.200000</td>\n",
       "      <td>225.000000</td>\n",
       "      <td>108.100000</td>\n",
       "      <td>70.30</td>\n",
       "      <td>192.90000</td>\n",
       "      <td>3.517000</td>\n",
       "      <td>17.200000</td>\n",
       "      <td>25.000000</td>\n",
       "      <td>91.370778</td>\n",
       "      <td>0</td>\n",
       "    </tr>\n",
       "    <tr>\n",
       "      <th>Intrigue</th>\n",
       "      <td>38.554</td>\n",
       "      <td>18.072975</td>\n",
       "      <td>24.150000</td>\n",
       "      <td>3.500000</td>\n",
       "      <td>215.000000</td>\n",
       "      <td>109.000000</td>\n",
       "      <td>73.60</td>\n",
       "      <td>195.90000</td>\n",
       "      <td>3.455000</td>\n",
       "      <td>18.000000</td>\n",
       "      <td>23.844156</td>\n",
       "      <td>86.272523</td>\n",
       "      <td>0</td>\n",
       "    </tr>\n",
       "    <tr>\n",
       "      <th>Contour</th>\n",
       "      <td>35.068</td>\n",
       "      <td>8.835000</td>\n",
       "      <td>17.035000</td>\n",
       "      <td>2.500000</td>\n",
       "      <td>170.000000</td>\n",
       "      <td>106.500000</td>\n",
       "      <td>69.10</td>\n",
       "      <td>184.60000</td>\n",
       "      <td>2.769000</td>\n",
       "      <td>15.000000</td>\n",
       "      <td>25.000000</td>\n",
       "      <td>67.351011</td>\n",
       "      <td>0</td>\n",
       "    </tr>\n",
       "    <tr>\n",
       "      <th>Forester</th>\n",
       "      <td>33.028</td>\n",
       "      <td>18.072975</td>\n",
       "      <td>20.095000</td>\n",
       "      <td>2.500000</td>\n",
       "      <td>165.000000</td>\n",
       "      <td>99.400000</td>\n",
       "      <td>68.30</td>\n",
       "      <td>175.20000</td>\n",
       "      <td>3.125000</td>\n",
       "      <td>15.900000</td>\n",
       "      <td>24.000000</td>\n",
       "      <td>66.762943</td>\n",
       "      <td>0</td>\n",
       "    </tr>\n",
       "    <tr>\n",
       "      <th>Sebring Conv.</th>\n",
       "      <td>32.775</td>\n",
       "      <td>14.180000</td>\n",
       "      <td>24.495000</td>\n",
       "      <td>2.500000</td>\n",
       "      <td>168.000000</td>\n",
       "      <td>106.000000</td>\n",
       "      <td>69.20</td>\n",
       "      <td>193.00000</td>\n",
       "      <td>3.332000</td>\n",
       "      <td>16.000000</td>\n",
       "      <td>24.000000</td>\n",
       "      <td>69.521355</td>\n",
       "      <td>0</td>\n",
       "    </tr>\n",
       "    <tr>\n",
       "      <th>Cirrus</th>\n",
       "      <td>32.306</td>\n",
       "      <td>12.640000</td>\n",
       "      <td>16.480000</td>\n",
       "      <td>2.000000</td>\n",
       "      <td>132.000000</td>\n",
       "      <td>108.000000</td>\n",
       "      <td>71.00</td>\n",
       "      <td>186.00000</td>\n",
       "      <td>2.911000</td>\n",
       "      <td>16.000000</td>\n",
       "      <td>27.000000</td>\n",
       "      <td>53.566200</td>\n",
       "      <td>0</td>\n",
       "    </tr>\n",
       "    <tr>\n",
       "      <th>Sonata</th>\n",
       "      <td>29.450</td>\n",
       "      <td>8.910000</td>\n",
       "      <td>14.999000</td>\n",
       "      <td>2.400000</td>\n",
       "      <td>148.000000</td>\n",
       "      <td>106.300000</td>\n",
       "      <td>71.60</td>\n",
       "      <td>185.40000</td>\n",
       "      <td>3.072000</td>\n",
       "      <td>17.200000</td>\n",
       "      <td>25.000000</td>\n",
       "      <td>58.758249</td>\n",
       "      <td>0</td>\n",
       "    </tr>\n",
       "    <tr>\n",
       "      <th>Cougar</th>\n",
       "      <td>26.529</td>\n",
       "      <td>13.890000</td>\n",
       "      <td>16.540000</td>\n",
       "      <td>2.000000</td>\n",
       "      <td>125.000000</td>\n",
       "      <td>106.400000</td>\n",
       "      <td>69.60</td>\n",
       "      <td>185.00000</td>\n",
       "      <td>2.892000</td>\n",
       "      <td>16.000000</td>\n",
       "      <td>30.000000</td>\n",
       "      <td>51.113474</td>\n",
       "      <td>0</td>\n",
       "    </tr>\n",
       "    <tr>\n",
       "      <th>ES300</th>\n",
       "      <td>24.072</td>\n",
       "      <td>26.975000</td>\n",
       "      <td>31.505000</td>\n",
       "      <td>3.000000</td>\n",
       "      <td>210.000000</td>\n",
       "      <td>105.100000</td>\n",
       "      <td>70.50</td>\n",
       "      <td>190.20000</td>\n",
       "      <td>3.373000</td>\n",
       "      <td>18.500000</td>\n",
       "      <td>23.000000</td>\n",
       "      <td>87.211001</td>\n",
       "      <td>0</td>\n",
       "    </tr>\n",
       "    <tr>\n",
       "      <th>I30</th>\n",
       "      <td>23.713</td>\n",
       "      <td>19.690000</td>\n",
       "      <td>29.465000</td>\n",
       "      <td>3.000000</td>\n",
       "      <td>227.000000</td>\n",
       "      <td>108.300000</td>\n",
       "      <td>70.20</td>\n",
       "      <td>193.70000</td>\n",
       "      <td>3.342000</td>\n",
       "      <td>18.500000</td>\n",
       "      <td>25.000000</td>\n",
       "      <td>92.436889</td>\n",
       "      <td>0</td>\n",
       "    </tr>\n",
       "    <tr>\n",
       "      <th>A4</th>\n",
       "      <td>20.397</td>\n",
       "      <td>22.255000</td>\n",
       "      <td>23.990000</td>\n",
       "      <td>1.800000</td>\n",
       "      <td>150.000000</td>\n",
       "      <td>102.600000</td>\n",
       "      <td>68.20</td>\n",
       "      <td>178.00000</td>\n",
       "      <td>2.998000</td>\n",
       "      <td>16.400000</td>\n",
       "      <td>27.000000</td>\n",
       "      <td>62.777639</td>\n",
       "      <td>0</td>\n",
       "    </tr>\n",
       "    <tr>\n",
       "      <th>323i</th>\n",
       "      <td>19.747</td>\n",
       "      <td>18.072975</td>\n",
       "      <td>26.990000</td>\n",
       "      <td>2.500000</td>\n",
       "      <td>170.000000</td>\n",
       "      <td>107.300000</td>\n",
       "      <td>68.40</td>\n",
       "      <td>176.00000</td>\n",
       "      <td>3.179000</td>\n",
       "      <td>16.600000</td>\n",
       "      <td>26.000000</td>\n",
       "      <td>71.191207</td>\n",
       "      <td>0</td>\n",
       "    </tr>\n",
       "    <tr>\n",
       "      <th>V70</th>\n",
       "      <td>17.531</td>\n",
       "      <td>18.072975</td>\n",
       "      <td>28.800000</td>\n",
       "      <td>2.400000</td>\n",
       "      <td>168.000000</td>\n",
       "      <td>104.900000</td>\n",
       "      <td>69.30</td>\n",
       "      <td>186.20000</td>\n",
       "      <td>3.259000</td>\n",
       "      <td>17.900000</td>\n",
       "      <td>25.000000</td>\n",
       "      <td>71.155978</td>\n",
       "      <td>0</td>\n",
       "    </tr>\n",
       "    <tr>\n",
       "      <th>S40</th>\n",
       "      <td>16.957</td>\n",
       "      <td>18.072975</td>\n",
       "      <td>23.400000</td>\n",
       "      <td>1.900000</td>\n",
       "      <td>160.000000</td>\n",
       "      <td>100.500000</td>\n",
       "      <td>67.60</td>\n",
       "      <td>176.60000</td>\n",
       "      <td>2.998000</td>\n",
       "      <td>15.800000</td>\n",
       "      <td>25.000000</td>\n",
       "      <td>66.113057</td>\n",
       "      <td>0</td>\n",
       "    </tr>\n",
       "    <tr>\n",
       "      <th>S70</th>\n",
       "      <td>15.245</td>\n",
       "      <td>18.072975</td>\n",
       "      <td>27.500000</td>\n",
       "      <td>2.400000</td>\n",
       "      <td>168.000000</td>\n",
       "      <td>104.900000</td>\n",
       "      <td>69.30</td>\n",
       "      <td>185.90000</td>\n",
       "      <td>3.208000</td>\n",
       "      <td>17.900000</td>\n",
       "      <td>25.000000</td>\n",
       "      <td>70.654495</td>\n",
       "      <td>0</td>\n",
       "    </tr>\n",
       "    <tr>\n",
       "      <th>CL</th>\n",
       "      <td>14.114</td>\n",
       "      <td>18.225000</td>\n",
       "      <td>27.390755</td>\n",
       "      <td>3.200000</td>\n",
       "      <td>225.000000</td>\n",
       "      <td>106.900000</td>\n",
       "      <td>70.60</td>\n",
       "      <td>192.00000</td>\n",
       "      <td>3.470000</td>\n",
       "      <td>17.200000</td>\n",
       "      <td>26.000000</td>\n",
       "      <td>77.043591</td>\n",
       "      <td>0</td>\n",
       "    </tr>\n",
       "    <tr>\n",
       "      <th>3-Sep</th>\n",
       "      <td>12.115</td>\n",
       "      <td>18.072975</td>\n",
       "      <td>26.100000</td>\n",
       "      <td>2.000000</td>\n",
       "      <td>185.000000</td>\n",
       "      <td>102.600000</td>\n",
       "      <td>67.40</td>\n",
       "      <td>182.20000</td>\n",
       "      <td>2.990000</td>\n",
       "      <td>16.900000</td>\n",
       "      <td>23.000000</td>\n",
       "      <td>76.023048</td>\n",
       "      <td>0</td>\n",
       "    </tr>\n",
       "    <tr>\n",
       "      <th>Catera</th>\n",
       "      <td>11.185</td>\n",
       "      <td>18.225000</td>\n",
       "      <td>31.010000</td>\n",
       "      <td>3.000000</td>\n",
       "      <td>200.000000</td>\n",
       "      <td>107.400000</td>\n",
       "      <td>70.30</td>\n",
       "      <td>194.80000</td>\n",
       "      <td>3.770000</td>\n",
       "      <td>18.000000</td>\n",
       "      <td>22.000000</td>\n",
       "      <td>83.483094</td>\n",
       "      <td>0</td>\n",
       "    </tr>\n",
       "    <tr>\n",
       "      <th>5-Sep</th>\n",
       "      <td>9.191</td>\n",
       "      <td>18.072975</td>\n",
       "      <td>33.120000</td>\n",
       "      <td>2.300000</td>\n",
       "      <td>170.000000</td>\n",
       "      <td>106.400000</td>\n",
       "      <td>70.60</td>\n",
       "      <td>189.20000</td>\n",
       "      <td>3.280000</td>\n",
       "      <td>18.500000</td>\n",
       "      <td>23.000000</td>\n",
       "      <td>73.503778</td>\n",
       "      <td>0</td>\n",
       "    </tr>\n",
       "    <tr>\n",
       "      <th>Sebring Coupe</th>\n",
       "      <td>7.854</td>\n",
       "      <td>12.360000</td>\n",
       "      <td>19.840000</td>\n",
       "      <td>2.500000</td>\n",
       "      <td>163.000000</td>\n",
       "      <td>103.700000</td>\n",
       "      <td>69.70</td>\n",
       "      <td>190.90000</td>\n",
       "      <td>2.967000</td>\n",
       "      <td>15.900000</td>\n",
       "      <td>24.000000</td>\n",
       "      <td>65.957184</td>\n",
       "      <td>0</td>\n",
       "    </tr>\n",
       "    <tr>\n",
       "      <th>Diamante</th>\n",
       "      <td>5.711</td>\n",
       "      <td>16.575000</td>\n",
       "      <td>24.997000</td>\n",
       "      <td>3.500000</td>\n",
       "      <td>210.000000</td>\n",
       "      <td>107.100000</td>\n",
       "      <td>70.30</td>\n",
       "      <td>194.10000</td>\n",
       "      <td>3.443000</td>\n",
       "      <td>19.000000</td>\n",
       "      <td>22.000000</td>\n",
       "      <td>84.830779</td>\n",
       "      <td>0</td>\n",
       "    </tr>\n",
       "    <tr>\n",
       "      <th>Avenger</th>\n",
       "      <td>4.734</td>\n",
       "      <td>12.545000</td>\n",
       "      <td>19.045000</td>\n",
       "      <td>2.500000</td>\n",
       "      <td>163.000000</td>\n",
       "      <td>103.700000</td>\n",
       "      <td>69.10</td>\n",
       "      <td>190.20000</td>\n",
       "      <td>2.879000</td>\n",
       "      <td>15.900000</td>\n",
       "      <td>24.000000</td>\n",
       "      <td>65.650508</td>\n",
       "      <td>0</td>\n",
       "    </tr>\n",
       "    <tr>\n",
       "      <th>Cutlass</th>\n",
       "      <td>1.112</td>\n",
       "      <td>11.240000</td>\n",
       "      <td>18.145000</td>\n",
       "      <td>3.100000</td>\n",
       "      <td>150.000000</td>\n",
       "      <td>107.000000</td>\n",
       "      <td>69.40</td>\n",
       "      <td>192.00000</td>\n",
       "      <td>3.102000</td>\n",
       "      <td>15.200000</td>\n",
       "      <td>25.000000</td>\n",
       "      <td>60.861612</td>\n",
       "      <td>0</td>\n",
       "    </tr>\n",
       "  </tbody>\n",
       "</table>\n",
       "</div>"
      ],
      "text/plain": [
       "                Sales_in_thousands  __year_resale_value  Price_in_thousands  \\\n",
       "Altima                      88.094            11.295000           20.390000   \n",
       "Alero                       80.255            18.072975           18.270000   \n",
       "Maxima                      79.853            15.125000           26.249000   \n",
       "CR-V                        73.203            17.710000           20.550000   \n",
       "Stratus                     71.186            10.185000           20.230000   \n",
       "Avalon                      63.849            18.140000           25.545000   \n",
       "Galant                      55.616            10.595000           17.357000   \n",
       "Town & Country              53.480            19.540000           27.390755   \n",
       "Sunfire                     51.645            13.790000           21.610000   \n",
       "Passat                      51.102            16.725000           21.200000   \n",
       "LS                          49.989            18.072975           15.010000   \n",
       "Outback                     47.107            18.072975           22.695000   \n",
       "Eclipse                     42.541            10.395000           19.047000   \n",
       "TL                          39.384            19.875000           28.400000   \n",
       "Intrigue                    38.554            18.072975           24.150000   \n",
       "Contour                     35.068             8.835000           17.035000   \n",
       "Forester                    33.028            18.072975           20.095000   \n",
       "Sebring Conv.               32.775            14.180000           24.495000   \n",
       "Cirrus                      32.306            12.640000           16.480000   \n",
       "Sonata                      29.450             8.910000           14.999000   \n",
       "Cougar                      26.529            13.890000           16.540000   \n",
       "ES300                       24.072            26.975000           31.505000   \n",
       "I30                         23.713            19.690000           29.465000   \n",
       "A4                          20.397            22.255000           23.990000   \n",
       "323i                        19.747            18.072975           26.990000   \n",
       "V70                         17.531            18.072975           28.800000   \n",
       "S40                         16.957            18.072975           23.400000   \n",
       "S70                         15.245            18.072975           27.500000   \n",
       "CL                          14.114            18.225000           27.390755   \n",
       "3-Sep                       12.115            18.072975           26.100000   \n",
       "Catera                      11.185            18.225000           31.010000   \n",
       "5-Sep                        9.191            18.072975           33.120000   \n",
       "Sebring Coupe                7.854            12.360000           19.840000   \n",
       "Diamante                     5.711            16.575000           24.997000   \n",
       "Avenger                      4.734            12.545000           19.045000   \n",
       "Cutlass                      1.112            11.240000           18.145000   \n",
       "\n",
       "                Engine_size  Horsepower   Wheelbase  Width     Length  \\\n",
       "Altima             2.400000  155.000000  103.100000  69.10  183.50000   \n",
       "Alero              2.400000  150.000000  107.000000  70.10  186.70000   \n",
       "Maxima             3.000000  222.000000  108.300000  70.30  190.50000   \n",
       "CR-V               2.000000  146.000000  103.200000  68.90  177.60000   \n",
       "Stratus            2.500000  168.000000  108.000000  71.00  186.00000   \n",
       "Avalon             3.000000  210.000000  107.100000  71.70  191.90000   \n",
       "Galant             2.400000  145.000000  103.700000  68.50  187.80000   \n",
       "Town & Country     3.060897  185.948718  107.487179  71.15  187.34359   \n",
       "Sunfire            2.400000  150.000000  104.100000  68.40  181.90000   \n",
       "Passat             1.800000  150.000000  106.400000  68.50  184.10000   \n",
       "LS                 2.200000  137.000000  106.500000  69.00  190.40000   \n",
       "Outback            2.500000  165.000000  103.500000  67.50  185.80000   \n",
       "Eclipse            2.400000  154.000000  100.800000  68.90  175.40000   \n",
       "TL                 3.200000  225.000000  108.100000  70.30  192.90000   \n",
       "Intrigue           3.500000  215.000000  109.000000  73.60  195.90000   \n",
       "Contour            2.500000  170.000000  106.500000  69.10  184.60000   \n",
       "Forester           2.500000  165.000000   99.400000  68.30  175.20000   \n",
       "Sebring Conv.      2.500000  168.000000  106.000000  69.20  193.00000   \n",
       "Cirrus             2.000000  132.000000  108.000000  71.00  186.00000   \n",
       "Sonata             2.400000  148.000000  106.300000  71.60  185.40000   \n",
       "Cougar             2.000000  125.000000  106.400000  69.60  185.00000   \n",
       "ES300              3.000000  210.000000  105.100000  70.50  190.20000   \n",
       "I30                3.000000  227.000000  108.300000  70.20  193.70000   \n",
       "A4                 1.800000  150.000000  102.600000  68.20  178.00000   \n",
       "323i               2.500000  170.000000  107.300000  68.40  176.00000   \n",
       "V70                2.400000  168.000000  104.900000  69.30  186.20000   \n",
       "S40                1.900000  160.000000  100.500000  67.60  176.60000   \n",
       "S70                2.400000  168.000000  104.900000  69.30  185.90000   \n",
       "CL                 3.200000  225.000000  106.900000  70.60  192.00000   \n",
       "3-Sep              2.000000  185.000000  102.600000  67.40  182.20000   \n",
       "Catera             3.000000  200.000000  107.400000  70.30  194.80000   \n",
       "5-Sep              2.300000  170.000000  106.400000  70.60  189.20000   \n",
       "Sebring Coupe      2.500000  163.000000  103.700000  69.70  190.90000   \n",
       "Diamante           3.500000  210.000000  107.100000  70.30  194.10000   \n",
       "Avenger            2.500000  163.000000  103.700000  69.10  190.20000   \n",
       "Cutlass            3.100000  150.000000  107.000000  69.40  192.00000   \n",
       "\n",
       "                Curb_weight  Fuel_capacity  Fuel_efficiency  \\\n",
       "Altima             3.012000      15.900000        25.000000   \n",
       "Alero              2.958000      15.000000        27.000000   \n",
       "Maxima             3.294000      18.500000        25.000000   \n",
       "CR-V               3.219000      15.300000        24.000000   \n",
       "Stratus            3.058000      16.000000        24.000000   \n",
       "Avalon             3.417000      18.500000        26.000000   \n",
       "Galant             2.945000      16.300000        25.000000   \n",
       "Town & Country     3.378026      17.951923        23.844156   \n",
       "Sunfire            2.906000      15.000000        27.000000   \n",
       "Passat             3.043000      16.400000        27.000000   \n",
       "LS                 2.910000      13.100000        28.000000   \n",
       "Outback            3.415000      16.900000        25.000000   \n",
       "Eclipse            2.910000      15.900000        24.000000   \n",
       "TL                 3.517000      17.200000        25.000000   \n",
       "Intrigue           3.455000      18.000000        23.844156   \n",
       "Contour            2.769000      15.000000        25.000000   \n",
       "Forester           3.125000      15.900000        24.000000   \n",
       "Sebring Conv.      3.332000      16.000000        24.000000   \n",
       "Cirrus             2.911000      16.000000        27.000000   \n",
       "Sonata             3.072000      17.200000        25.000000   \n",
       "Cougar             2.892000      16.000000        30.000000   \n",
       "ES300              3.373000      18.500000        23.000000   \n",
       "I30                3.342000      18.500000        25.000000   \n",
       "A4                 2.998000      16.400000        27.000000   \n",
       "323i               3.179000      16.600000        26.000000   \n",
       "V70                3.259000      17.900000        25.000000   \n",
       "S40                2.998000      15.800000        25.000000   \n",
       "S70                3.208000      17.900000        25.000000   \n",
       "CL                 3.470000      17.200000        26.000000   \n",
       "3-Sep              2.990000      16.900000        23.000000   \n",
       "Catera             3.770000      18.000000        22.000000   \n",
       "5-Sep              3.280000      18.500000        23.000000   \n",
       "Sebring Coupe      2.967000      15.900000        24.000000   \n",
       "Diamante           3.443000      19.000000        22.000000   \n",
       "Avenger            2.879000      15.900000        24.000000   \n",
       "Cutlass            3.102000      15.200000        25.000000   \n",
       "\n",
       "                Power_perf_factor  Clusters  \n",
       "Altima                  63.313728         0  \n",
       "Alero                   60.727447         0  \n",
       "Maxima                  89.427820         0  \n",
       "CR-V                    60.087967         0  \n",
       "Stratus                 67.876108         0  \n",
       "Avalon                  84.911898         0  \n",
       "Galant                  58.606773         0  \n",
       "Town & Country          77.043591         0  \n",
       "Sunfire                 62.015870         0  \n",
       "Passat                  61.701381         0  \n",
       "LS                      54.819728         0  \n",
       "Outback                 67.765908         0  \n",
       "Eclipse                 62.441962         0  \n",
       "TL                      91.370778         0  \n",
       "Intrigue                86.272523         0  \n",
       "Contour                 67.351011         0  \n",
       "Forester                66.762943         0  \n",
       "Sebring Conv.           69.521355         0  \n",
       "Cirrus                  53.566200         0  \n",
       "Sonata                  58.758249         0  \n",
       "Cougar                  51.113474         0  \n",
       "ES300                   87.211001         0  \n",
       "I30                     92.436889         0  \n",
       "A4                      62.777639         0  \n",
       "323i                    71.191207         0  \n",
       "V70                     71.155978         0  \n",
       "S40                     66.113057         0  \n",
       "S70                     70.654495         0  \n",
       "CL                      77.043591         0  \n",
       "3-Sep                   76.023048         0  \n",
       "Catera                  83.483094         0  \n",
       "5-Sep                   73.503778         0  \n",
       "Sebring Coupe           65.957184         0  \n",
       "Diamante                84.830779         0  \n",
       "Avenger                 65.650508         0  \n",
       "Cutlass                 60.861612         0  "
      ]
     },
     "execution_count": 168,
     "metadata": {},
     "output_type": "execute_result"
    }
   ],
   "source": [
    "# LISTA DO CLUSTER 0 ORDENADA POR UNIDADES VENDIDAS\n",
    "custo_benef = custo_benef.sort_values(by=\"Sales_in_thousands\", ascending = False)\n",
    "custo_benef"
   ]
  },
  {
   "cell_type": "markdown",
   "id": "3a9d7207",
   "metadata": {},
   "source": [
    "## 3 - Conclusão"
   ]
  },
  {
   "cell_type": "markdown",
   "id": "0dd8d850",
   "metadata": {},
   "source": [
    "Aplicando algoritmos de clusterização à minha base de dados, consegui extrair alguns insights sobre como os meus dados interagem entre si através da análise dos componentes principais (PCA) e também sobre veículos com uma boa relação custo benefício através de agrupamento por densidade (DBSCAN) levando em conta algumas variáveis escolhidas para explorar os dados. \n",
    "\n",
    "Neste trabalho, o principal objetivo foi utilizar alguns algoritmos de clusterização em uma base de dados quantitativa, para isso, também inclui alguns métodos para descoberta de clusters e fiz a plotagem de algumas relações pertinentes que me ajudaram a entender melhor os meus dados. "
   ]
  },
  {
   "cell_type": "markdown",
   "id": "3ca5bc3b",
   "metadata": {},
   "source": [
    "<div style=\"text-align: right;\">\n",
    "Filiphe Assunção, 2023.\n",
    "</div>"
   ]
  }
 ],
 "metadata": {
  "kernelspec": {
   "display_name": "Python 3 (ipykernel)",
   "language": "python",
   "name": "python3"
  },
  "language_info": {
   "codemirror_mode": {
    "name": "ipython",
    "version": 3
   },
   "file_extension": ".py",
   "mimetype": "text/x-python",
   "name": "python",
   "nbconvert_exporter": "python",
   "pygments_lexer": "ipython3",
   "version": "3.10.9"
  }
 },
 "nbformat": 4,
 "nbformat_minor": 5
}
